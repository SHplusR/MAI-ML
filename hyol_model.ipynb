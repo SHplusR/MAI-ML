{
  "nbformat": 4,
  "nbformat_minor": 0,
  "metadata": {
    "colab": {
      "provenance": [],
      "include_colab_link": true
    },
    "kernelspec": {
      "name": "python3",
      "display_name": "Python 3"
    },
    "language_info": {
      "name": "python"
    },
    "accelerator": "GPU",
    "gpuClass": "standard"
  },
  "cells": [
    {
      "cell_type": "markdown",
      "metadata": {
        "id": "view-in-github",
        "colab_type": "text"
      },
      "source": [
        "<a href=\"https://colab.research.google.com/github/SHplusR/MAI-ML/blob/main/hyol_model.ipynb\" target=\"_parent\"><img src=\"https://colab.research.google.com/assets/colab-badge.svg\" alt=\"Open In Colab\"/></a>"
      ]
    },
    {
      "cell_type": "markdown",
      "source": [
        "## **기본 환경설정**"
      ],
      "metadata": {
        "id": "7JFYVC8R8r_M"
      }
    },
    {
      "cell_type": "code",
      "source": [
        "%matplotlib inline\n",
        "import matplotlib.pyplot as plt"
      ],
      "metadata": {
        "id": "A-_mZ1zcOh4h"
      },
      "execution_count": null,
      "outputs": []
    },
    {
      "cell_type": "code",
      "source": [
        "import pandas as pd"
      ],
      "metadata": {
        "id": "Sd0wpDVUOH1u"
      },
      "execution_count": null,
      "outputs": []
    },
    {
      "cell_type": "code",
      "source": [
        "import re\n",
        "import numpy as np"
      ],
      "metadata": {
        "id": "TO2bPWnxXqfb"
      },
      "execution_count": null,
      "outputs": []
    },
    {
      "cell_type": "code",
      "source": [
        "from tqdm import tqdm\n",
        "from tensorflow.keras.preprocessing.text import Tokenizer\n",
        "from tensorflow.keras.preprocessing.sequence import pad_sequences"
      ],
      "metadata": {
        "id": "jSipKtw156Vg"
      },
      "execution_count": null,
      "outputs": []
    },
    {
      "cell_type": "code",
      "execution_count": null,
      "metadata": {
        "colab": {
          "base_uri": "https://localhost:8080/"
        },
        "id": "lIaFeeAO-WTJ",
        "outputId": "f6c4e6d8-4b90-4128-d3b6-94f3d1696147"
      },
      "outputs": [
        {
          "output_type": "stream",
          "name": "stdout",
          "text": [
            "Mounted at /content/drive\n"
          ]
        }
      ],
      "source": [
        "import os, sys\n",
        "from google.colab import drive\n",
        "drive.mount('/content/drive')\n",
        "\n",
        "pg_path = '/content/packages'\n",
        "\n",
        "os.symlink('/content/drive/My Drive/Colab Notebooks/my_env', pg_path)\n",
        "sys.path.insert(0, pg_path)"
      ]
    },
    {
      "cell_type": "code",
      "source": [
        "from konlpy.tag import Okt"
      ],
      "metadata": {
        "id": "HCsaQE_Fs_I4"
      },
      "execution_count": null,
      "outputs": []
    },
    {
      "cell_type": "code",
      "source": [
        "#22번줄 하면 안해도됩니다. 혹시 모르니 남겨놓습니다\n",
        "!pip install --target=$my_path konlpy"
      ],
      "metadata": {
        "id": "kF_RlyPwr-KT"
      },
      "execution_count": null,
      "outputs": []
    },
    {
      "cell_type": "code",
      "source": [
        "#22번줄 하면 안해도됩니다.혹시 모르니 남겨놓습니다\n",
        "!pip install --target=$my_path git+https://github.com/haven-jeon/PyKoSpacing.git"
      ],
      "metadata": {
        "colab": {
          "base_uri": "https://localhost:8080/",
          "height": 1000
        },
        "id": "FMhyhWmwqu63",
        "outputId": "c4fc3e6f-5c12-43d1-8a0c-92bc2d34574f"
      },
      "execution_count": null,
      "outputs": [
        {
          "output_type": "stream",
          "name": "stdout",
          "text": [
            "Looking in indexes: https://pypi.org/simple, https://us-python.pkg.dev/colab-wheels/public/simple/\n",
            "Collecting git+https://github.com/haven-jeon/PyKoSpacing.git\n",
            "  Cloning https://github.com/haven-jeon/PyKoSpacing.git to /tmp/pip-req-build-dn_fgsfv\n",
            "  Running command git clone -q https://github.com/haven-jeon/PyKoSpacing.git /tmp/pip-req-build-dn_fgsfv\n",
            "Collecting tensorflow==2.7.2\n",
            "  Downloading https://us-python.pkg.dev/colab-wheels/public/tensorflow/tensorflow-2.7.2%2Bzzzcolab20220516114640-cp37-cp37m-linux_x86_64.whl (671.4 MB)\n",
            "\u001b[K     |████████████████████████████████| 671.4 MB 1.5 kB/s \n",
            "\u001b[?25hCollecting h5py==3.1.0\n",
            "  Using cached h5py-3.1.0-cp37-cp37m-manylinux1_x86_64.whl (4.0 MB)\n",
            "Collecting argparse>=1.4.0\n",
            "  Using cached argparse-1.4.0-py2.py3-none-any.whl (23 kB)\n",
            "Collecting cached-property\n",
            "  Using cached cached_property-1.5.2-py2.py3-none-any.whl (7.6 kB)\n",
            "Collecting numpy>=1.14.5\n",
            "  Using cached numpy-1.21.6-cp37-cp37m-manylinux_2_12_x86_64.manylinux2010_x86_64.whl (15.7 MB)\n",
            "Collecting libclang>=9.0.1\n",
            "  Using cached libclang-14.0.6-py2.py3-none-manylinux2010_x86_64.whl (14.1 MB)\n",
            "Collecting six>=1.12.0\n",
            "  Using cached six-1.16.0-py2.py3-none-any.whl (11 kB)\n",
            "Collecting tensorflow-estimator<2.8,~=2.7.0rc0\n",
            "  Using cached tensorflow_estimator-2.7.0-py2.py3-none-any.whl (463 kB)\n",
            "Collecting termcolor>=1.1.0\n",
            "  Using cached termcolor-2.0.1-py3-none-any.whl (5.4 kB)\n",
            "Collecting wheel<1.0,>=0.32.0\n",
            "  Using cached wheel-0.37.1-py2.py3-none-any.whl (35 kB)\n",
            "Collecting gast<0.5.0,>=0.2.1\n",
            "  Using cached gast-0.4.0-py3-none-any.whl (9.8 kB)\n",
            "Collecting flatbuffers<3.0,>=1.12\n",
            "  Using cached flatbuffers-2.0.7-py2.py3-none-any.whl (26 kB)\n",
            "Collecting wrapt>=1.11.0\n",
            "  Using cached wrapt-1.14.1-cp37-cp37m-manylinux_2_5_x86_64.manylinux1_x86_64.manylinux_2_17_x86_64.manylinux2014_x86_64.whl (75 kB)\n",
            "Collecting google-pasta>=0.1.1\n",
            "  Using cached google_pasta-0.2.0-py3-none-any.whl (57 kB)\n",
            "Collecting keras-preprocessing>=1.1.1\n",
            "  Using cached Keras_Preprocessing-1.1.2-py2.py3-none-any.whl (42 kB)\n",
            "Collecting tensorboard~=2.6\n",
            "  Using cached tensorboard-2.10.1-py3-none-any.whl (5.9 MB)\n",
            "Collecting grpcio<2.0,>=1.24.3\n",
            "  Using cached grpcio-1.49.1-cp37-cp37m-manylinux_2_17_x86_64.manylinux2014_x86_64.whl (4.7 MB)\n",
            "Collecting typing-extensions>=3.6.6\n",
            "  Using cached typing_extensions-4.4.0-py3-none-any.whl (26 kB)\n",
            "Collecting tensorflow-io-gcs-filesystem>=0.21.0\n",
            "  Using cached tensorflow_io_gcs_filesystem-0.27.0-cp37-cp37m-manylinux_2_12_x86_64.manylinux2010_x86_64.whl (2.4 MB)\n",
            "Collecting protobuf>=3.9.2\n",
            "  Using cached protobuf-4.21.7-cp37-abi3-manylinux2014_x86_64.whl (408 kB)\n",
            "Collecting opt-einsum>=2.3.2\n",
            "  Using cached opt_einsum-3.3.0-py3-none-any.whl (65 kB)\n",
            "Collecting astunparse>=1.6.0\n",
            "  Using cached astunparse-1.6.3-py2.py3-none-any.whl (12 kB)\n",
            "Collecting keras<2.8,>=2.7.0rc0\n",
            "  Using cached keras-2.7.0-py2.py3-none-any.whl (1.3 MB)\n",
            "Collecting absl-py>=0.4.0\n",
            "  Using cached absl_py-1.3.0-py3-none-any.whl (124 kB)\n",
            "Collecting setuptools>=41.0.0\n",
            "  Using cached setuptools-65.5.0-py3-none-any.whl (1.2 MB)\n",
            "Collecting google-auth-oauthlib<0.5,>=0.4.1\n",
            "  Using cached google_auth_oauthlib-0.4.6-py2.py3-none-any.whl (18 kB)\n",
            "Collecting werkzeug>=1.0.1\n",
            "  Using cached Werkzeug-2.2.2-py3-none-any.whl (232 kB)\n",
            "Collecting tensorboard-data-server<0.7.0,>=0.6.0\n",
            "  Using cached tensorboard_data_server-0.6.1-py3-none-manylinux2010_x86_64.whl (4.9 MB)\n",
            "Collecting protobuf>=3.9.2\n",
            "  Using cached protobuf-3.19.6-cp37-cp37m-manylinux_2_17_x86_64.manylinux2014_x86_64.whl (1.1 MB)\n",
            "Collecting requests<3,>=2.21.0\n",
            "  Using cached requests-2.28.1-py3-none-any.whl (62 kB)\n",
            "Collecting google-auth<3,>=1.6.3\n",
            "  Using cached google_auth-2.13.0-py2.py3-none-any.whl (174 kB)\n",
            "Collecting tensorboard-plugin-wit>=1.6.0\n",
            "  Using cached tensorboard_plugin_wit-1.8.1-py3-none-any.whl (781 kB)\n",
            "Collecting markdown>=2.6.8\n",
            "  Using cached Markdown-3.4.1-py3-none-any.whl (93 kB)\n",
            "Collecting cachetools<6.0,>=2.0.0\n",
            "  Using cached cachetools-5.2.0-py3-none-any.whl (9.3 kB)\n",
            "Collecting rsa<5,>=3.1.4\n",
            "  Using cached rsa-4.9-py3-none-any.whl (34 kB)\n",
            "Collecting pyasn1-modules>=0.2.1\n",
            "  Using cached pyasn1_modules-0.2.8-py2.py3-none-any.whl (155 kB)\n",
            "Collecting requests-oauthlib>=0.7.0\n",
            "  Using cached requests_oauthlib-1.3.1-py2.py3-none-any.whl (23 kB)\n",
            "Collecting importlib-metadata>=4.4\n",
            "  Using cached importlib_metadata-5.0.0-py3-none-any.whl (21 kB)\n",
            "Collecting zipp>=0.5\n",
            "  Using cached zipp-3.9.0-py3-none-any.whl (5.8 kB)\n",
            "Collecting pyasn1<0.5.0,>=0.4.6\n",
            "  Using cached pyasn1-0.4.8-py2.py3-none-any.whl (77 kB)\n",
            "Collecting idna<4,>=2.5\n",
            "  Using cached idna-3.4-py3-none-any.whl (61 kB)\n",
            "Collecting certifi>=2017.4.17\n",
            "  Using cached certifi-2022.9.24-py3-none-any.whl (161 kB)\n",
            "Collecting urllib3<1.27,>=1.21.1\n",
            "  Using cached urllib3-1.26.12-py2.py3-none-any.whl (140 kB)\n",
            "Collecting charset-normalizer<3,>=2\n",
            "  Using cached charset_normalizer-2.1.1-py3-none-any.whl (39 kB)\n",
            "Collecting oauthlib>=3.0.0\n",
            "  Using cached oauthlib-3.2.2-py3-none-any.whl (151 kB)\n",
            "Collecting MarkupSafe>=2.1.1\n",
            "  Using cached MarkupSafe-2.1.1-cp37-cp37m-manylinux_2_17_x86_64.manylinux2014_x86_64.whl (25 kB)\n",
            "Building wheels for collected packages: pykospacing\n",
            "  Building wheel for pykospacing (setup.py) ... \u001b[?25l\u001b[?25hdone\n",
            "  Created wheel for pykospacing: filename=pykospacing-0.5-py3-none-any.whl size=2268638 sha256=a6883d077f01b1a8a9c9a535af0d36cbbc680c54532ac4db6abf1903876b2a52\n",
            "  Stored in directory: /tmp/pip-ephem-wheel-cache-zhn9k9m6/wheels/9b/93/81/a2a7dc8c66ede5bf30634d20635f32b95eac7ca2ea8844058b\n",
            "Successfully built pykospacing\n",
            "Installing collected packages: urllib3, pyasn1, idna, charset-normalizer, certifi, zipp, typing-extensions, six, rsa, requests, pyasn1-modules, oauthlib, cachetools, requests-oauthlib, MarkupSafe, importlib-metadata, google-auth, wheel, werkzeug, tensorboard-plugin-wit, tensorboard-data-server, setuptools, protobuf, numpy, markdown, grpcio, google-auth-oauthlib, cached-property, absl-py, wrapt, termcolor, tensorflow-io-gcs-filesystem, tensorflow-estimator, tensorboard, opt-einsum, libclang, keras-preprocessing, keras, h5py, google-pasta, gast, flatbuffers, astunparse, tensorflow, argparse, pykospacing\n",
            "\u001b[31mERROR: pip's dependency resolver does not currently take into account all the packages that are installed. This behaviour is the source of the following dependency conflicts.\n",
            "ipython 7.9.0 requires jedi>=0.10, which is not installed.\n",
            "thinc 8.1.3 requires typing-extensions<4.2.0,>=3.7.4.1; python_version < \"3.8\", but you have typing-extensions 4.4.0 which is incompatible.\n",
            "spacy 3.4.1 requires typing-extensions<4.2.0,>=3.7.4; python_version < \"3.8\", but you have typing-extensions 4.4.0 which is incompatible.\n",
            "numba 0.56.2 requires setuptools<60, but you have setuptools 65.5.0 which is incompatible.\n",
            "google-api-core 1.31.6 requires google-auth<2.0dev,>=1.25.0, but you have google-auth 2.13.0 which is incompatible.\n",
            "flask 1.1.4 requires Werkzeug<2.0,>=0.15, but you have werkzeug 2.2.2 which is incompatible.\n",
            "confection 0.0.3 requires typing-extensions<4.2.0,>=3.7.4.1; python_version < \"3.8\", but you have typing-extensions 4.4.0 which is incompatible.\u001b[0m\n",
            "Successfully installed MarkupSafe-2.1.1 absl-py-1.3.0 argparse-1.4.0 astunparse-1.6.3 cached-property-1.5.2 cachetools-5.2.0 certifi-2022.9.24 charset-normalizer-2.1.1 flatbuffers-2.0.7 gast-0.4.0 google-auth-2.13.0 google-auth-oauthlib-0.4.6 google-pasta-0.2.0 grpcio-1.49.1 h5py-3.1.0 idna-3.4 importlib-metadata-5.0.0 keras-2.7.0 keras-preprocessing-1.1.2 libclang-14.0.6 markdown-3.4.1 numpy-1.21.6 oauthlib-3.2.2 opt-einsum-3.3.0 protobuf-3.19.6 pyasn1-0.4.8 pyasn1-modules-0.2.8 pykospacing-0.5 requests-2.28.1 requests-oauthlib-1.3.1 rsa-4.9 setuptools-65.5.0 six-1.16.0 tensorboard-2.10.1 tensorboard-data-server-0.6.1 tensorboard-plugin-wit-1.8.1 tensorflow-2.7.2+zzzcolab20220516114640 tensorflow-estimator-2.7.0 tensorflow-io-gcs-filesystem-0.27.0 termcolor-2.0.1 typing-extensions-4.4.0 urllib3-1.26.12 werkzeug-2.2.2 wheel-0.37.1 wrapt-1.14.1 zipp-3.9.0\n"
          ]
        },
        {
          "output_type": "display_data",
          "data": {
            "application/vnd.colab-display-data+json": {
              "pip_warning": {
                "packages": [
                  "argparse",
                  "astunparse",
                  "cached_property",
                  "certifi",
                  "gast",
                  "h5py",
                  "importlib_metadata",
                  "keras",
                  "keras_preprocessing",
                  "numpy",
                  "opt_einsum",
                  "pyasn1",
                  "pyasn1_modules",
                  "pykospacing",
                  "tensorflow",
                  "wrapt",
                  "zipp"
                ]
              }
            }
          },
          "metadata": {}
        }
      ]
    },
    {
      "cell_type": "code",
      "source": [
        "# 형태소 분석때 이미 분해를 하기 때문에 필요없습니다만 혹시 몰라 남겨둡니다\n",
        "from pykospacing import Spacing"
      ],
      "metadata": {
        "id": "LYJ2dK6rp-hv",
        "colab": {
          "base_uri": "https://localhost:8080/",
          "height": 235
        },
        "outputId": "3587e93e-4f8f-4cf5-ff3b-c72f1845adc3"
      },
      "execution_count": null,
      "outputs": [
        {
          "output_type": "error",
          "ename": "KeyboardInterrupt",
          "evalue": "ignored",
          "traceback": [
            "\u001b[0;31m---------------------------------------------------------------------------\u001b[0m",
            "\u001b[0;31mKeyboardInterrupt\u001b[0m                         Traceback (most recent call last)",
            "\u001b[0;32m<ipython-input-5-37998ce95f70>\u001b[0m in \u001b[0;36m<module>\u001b[0;34m\u001b[0m\n\u001b[0;32m----> 1\u001b[0;31m \u001b[0;32mfrom\u001b[0m \u001b[0mpykospacing\u001b[0m \u001b[0;32mimport\u001b[0m \u001b[0mSpacing\u001b[0m\u001b[0;34m\u001b[0m\u001b[0;34m\u001b[0m\u001b[0m\n\u001b[0m",
            "\u001b[0;32m/content/packages/pykospacing/__init__.py\u001b[0m in \u001b[0;36m<module>\u001b[0;34m\u001b[0m\n\u001b[0;32m----> 1\u001b[0;31m \u001b[0;32mfrom\u001b[0m \u001b[0mpykospacing\u001b[0m\u001b[0;34m.\u001b[0m\u001b[0mkospacing\u001b[0m \u001b[0;32mimport\u001b[0m \u001b[0;34m*\u001b[0m\u001b[0;34m\u001b[0m\u001b[0;34m\u001b[0m\u001b[0m\n\u001b[0m",
            "\u001b[0;32m/content/packages/pykospacing/kospacing.py\u001b[0m in \u001b[0;36m<module>\u001b[0;34m\u001b[0m\n\u001b[1;32m      7\u001b[0m \u001b[0;32mimport\u001b[0m \u001b[0mnumpy\u001b[0m \u001b[0;32mas\u001b[0m \u001b[0mnp\u001b[0m\u001b[0;34m\u001b[0m\u001b[0;34m\u001b[0m\u001b[0m\n\u001b[1;32m      8\u001b[0m \u001b[0;32mimport\u001b[0m \u001b[0mpkg_resources\u001b[0m\u001b[0;34m\u001b[0m\u001b[0;34m\u001b[0m\u001b[0m\n\u001b[0;32m----> 9\u001b[0;31m \u001b[0;32mfrom\u001b[0m \u001b[0mtensorflow\u001b[0m\u001b[0;34m.\u001b[0m\u001b[0mkeras\u001b[0m\u001b[0;34m.\u001b[0m\u001b[0mmodels\u001b[0m \u001b[0;32mimport\u001b[0m \u001b[0mload_model\u001b[0m\u001b[0;34m\u001b[0m\u001b[0;34m\u001b[0m\u001b[0m\n\u001b[0m\u001b[1;32m     10\u001b[0m \u001b[0;32mfrom\u001b[0m \u001b[0mpykospacing\u001b[0m\u001b[0;34m.\u001b[0m\u001b[0membedding_maker\u001b[0m \u001b[0;32mimport\u001b[0m \u001b[0mencoding_and_padding\u001b[0m\u001b[0;34m,\u001b[0m \u001b[0mload_vocab\u001b[0m\u001b[0;34m\u001b[0m\u001b[0;34m\u001b[0m\u001b[0m\n\u001b[1;32m     11\u001b[0m \u001b[0;34m\u001b[0m\u001b[0m\n",
            "\u001b[0;32m/content/packages/tensorflow/__init__.py\u001b[0m in \u001b[0;36m<module>\u001b[0;34m\u001b[0m\n\u001b[1;32m     39\u001b[0m \u001b[0;32mimport\u001b[0m \u001b[0msys\u001b[0m \u001b[0;32mas\u001b[0m \u001b[0m_sys\u001b[0m\u001b[0;34m\u001b[0m\u001b[0;34m\u001b[0m\u001b[0m\n\u001b[1;32m     40\u001b[0m \u001b[0;34m\u001b[0m\u001b[0m\n\u001b[0;32m---> 41\u001b[0;31m \u001b[0;32mfrom\u001b[0m \u001b[0mtensorflow\u001b[0m\u001b[0;34m.\u001b[0m\u001b[0mpython\u001b[0m\u001b[0;34m.\u001b[0m\u001b[0mtools\u001b[0m \u001b[0;32mimport\u001b[0m \u001b[0mmodule_util\u001b[0m \u001b[0;32mas\u001b[0m \u001b[0m_module_util\u001b[0m\u001b[0;34m\u001b[0m\u001b[0;34m\u001b[0m\u001b[0m\n\u001b[0m\u001b[1;32m     42\u001b[0m \u001b[0;32mfrom\u001b[0m \u001b[0mtensorflow\u001b[0m\u001b[0;34m.\u001b[0m\u001b[0mpython\u001b[0m\u001b[0;34m.\u001b[0m\u001b[0mutil\u001b[0m\u001b[0;34m.\u001b[0m\u001b[0mlazy_loader\u001b[0m \u001b[0;32mimport\u001b[0m \u001b[0mLazyLoader\u001b[0m \u001b[0;32mas\u001b[0m \u001b[0m_LazyLoader\u001b[0m\u001b[0;34m\u001b[0m\u001b[0;34m\u001b[0m\u001b[0m\n\u001b[1;32m     43\u001b[0m \u001b[0;34m\u001b[0m\u001b[0m\n",
            "\u001b[0;32m/content/packages/tensorflow/python/__init__.py\u001b[0m in \u001b[0;36m<module>\u001b[0;34m\u001b[0m\n\u001b[1;32m     39\u001b[0m \u001b[0;34m\u001b[0m\u001b[0m\n\u001b[1;32m     40\u001b[0m \u001b[0;32mfrom\u001b[0m \u001b[0mtensorflow\u001b[0m\u001b[0;34m.\u001b[0m\u001b[0mpython\u001b[0m \u001b[0;32mimport\u001b[0m \u001b[0mpywrap_tensorflow\u001b[0m \u001b[0;32mas\u001b[0m \u001b[0m_pywrap_tensorflow\u001b[0m\u001b[0;34m\u001b[0m\u001b[0;34m\u001b[0m\u001b[0m\n\u001b[0;32m---> 41\u001b[0;31m \u001b[0;32mfrom\u001b[0m \u001b[0mtensorflow\u001b[0m\u001b[0;34m.\u001b[0m\u001b[0mpython\u001b[0m\u001b[0;34m.\u001b[0m\u001b[0meager\u001b[0m \u001b[0;32mimport\u001b[0m \u001b[0mcontext\u001b[0m\u001b[0;34m\u001b[0m\u001b[0;34m\u001b[0m\u001b[0m\n\u001b[0m\u001b[1;32m     42\u001b[0m \u001b[0;34m\u001b[0m\u001b[0m\n\u001b[1;32m     43\u001b[0m \u001b[0;31m# pylint: enable=wildcard-import\u001b[0m\u001b[0;34m\u001b[0m\u001b[0;34m\u001b[0m\u001b[0;34m\u001b[0m\u001b[0m\n",
            "\u001b[0;32m/content/packages/tensorflow/python/eager/context.py\u001b[0m in \u001b[0;36m<module>\u001b[0;34m\u001b[0m\n\u001b[1;32m     32\u001b[0m \u001b[0;34m\u001b[0m\u001b[0m\n\u001b[1;32m     33\u001b[0m \u001b[0;32mfrom\u001b[0m \u001b[0mtensorflow\u001b[0m\u001b[0;34m.\u001b[0m\u001b[0mcore\u001b[0m\u001b[0;34m.\u001b[0m\u001b[0mframework\u001b[0m \u001b[0;32mimport\u001b[0m \u001b[0mfunction_pb2\u001b[0m\u001b[0;34m\u001b[0m\u001b[0;34m\u001b[0m\u001b[0m\n\u001b[0;32m---> 34\u001b[0;31m \u001b[0;32mfrom\u001b[0m \u001b[0mtensorflow\u001b[0m\u001b[0;34m.\u001b[0m\u001b[0mcore\u001b[0m\u001b[0;34m.\u001b[0m\u001b[0mprotobuf\u001b[0m \u001b[0;32mimport\u001b[0m \u001b[0mconfig_pb2\u001b[0m\u001b[0;34m\u001b[0m\u001b[0;34m\u001b[0m\u001b[0m\n\u001b[0m\u001b[1;32m     35\u001b[0m \u001b[0;32mfrom\u001b[0m \u001b[0mtensorflow\u001b[0m\u001b[0;34m.\u001b[0m\u001b[0mcore\u001b[0m\u001b[0;34m.\u001b[0m\u001b[0mprotobuf\u001b[0m \u001b[0;32mimport\u001b[0m \u001b[0mrewriter_config_pb2\u001b[0m\u001b[0;34m\u001b[0m\u001b[0;34m\u001b[0m\u001b[0m\n\u001b[1;32m     36\u001b[0m \u001b[0;32mfrom\u001b[0m \u001b[0mtensorflow\u001b[0m\u001b[0;34m.\u001b[0m\u001b[0mpython\u001b[0m \u001b[0;32mimport\u001b[0m \u001b[0mpywrap_tfe\u001b[0m\u001b[0;34m\u001b[0m\u001b[0;34m\u001b[0m\u001b[0m\n",
            "\u001b[0;32m/content/packages/tensorflow/core/protobuf/config_pb2.py\u001b[0m in \u001b[0;36m<module>\u001b[0;34m\u001b[0m\n\u001b[1;32m     15\u001b[0m \u001b[0;34m\u001b[0m\u001b[0m\n\u001b[1;32m     16\u001b[0m \u001b[0;32mfrom\u001b[0m \u001b[0mtensorflow\u001b[0m\u001b[0;34m.\u001b[0m\u001b[0mcore\u001b[0m\u001b[0;34m.\u001b[0m\u001b[0mframework\u001b[0m \u001b[0;32mimport\u001b[0m \u001b[0mcost_graph_pb2\u001b[0m \u001b[0;32mas\u001b[0m \u001b[0mtensorflow_dot_core_dot_framework_dot_cost__graph__pb2\u001b[0m\u001b[0;34m\u001b[0m\u001b[0;34m\u001b[0m\u001b[0m\n\u001b[0;32m---> 17\u001b[0;31m \u001b[0;32mfrom\u001b[0m \u001b[0mtensorflow\u001b[0m\u001b[0;34m.\u001b[0m\u001b[0mcore\u001b[0m\u001b[0;34m.\u001b[0m\u001b[0mframework\u001b[0m \u001b[0;32mimport\u001b[0m \u001b[0mgraph_pb2\u001b[0m \u001b[0;32mas\u001b[0m \u001b[0mtensorflow_dot_core_dot_framework_dot_graph__pb2\u001b[0m\u001b[0;34m\u001b[0m\u001b[0;34m\u001b[0m\u001b[0m\n\u001b[0m\u001b[1;32m     18\u001b[0m \u001b[0;32mfrom\u001b[0m \u001b[0mtensorflow\u001b[0m\u001b[0;34m.\u001b[0m\u001b[0mcore\u001b[0m\u001b[0;34m.\u001b[0m\u001b[0mframework\u001b[0m \u001b[0;32mimport\u001b[0m \u001b[0mstep_stats_pb2\u001b[0m \u001b[0;32mas\u001b[0m \u001b[0mtensorflow_dot_core_dot_framework_dot_step__stats__pb2\u001b[0m\u001b[0;34m\u001b[0m\u001b[0;34m\u001b[0m\u001b[0m\n\u001b[1;32m     19\u001b[0m \u001b[0;32mfrom\u001b[0m \u001b[0mtensorflow\u001b[0m\u001b[0;34m.\u001b[0m\u001b[0mcore\u001b[0m\u001b[0;34m.\u001b[0m\u001b[0mprotobuf\u001b[0m \u001b[0;32mimport\u001b[0m \u001b[0mcluster_pb2\u001b[0m \u001b[0;32mas\u001b[0m \u001b[0mtensorflow_dot_core_dot_protobuf_dot_cluster__pb2\u001b[0m\u001b[0;34m\u001b[0m\u001b[0;34m\u001b[0m\u001b[0m\n",
            "\u001b[0;32m/content/packages/tensorflow/core/framework/graph_pb2.py\u001b[0m in \u001b[0;36m<module>\u001b[0;34m\u001b[0m\n\u001b[1;32m     16\u001b[0m \u001b[0;32mfrom\u001b[0m \u001b[0mtensorflow\u001b[0m\u001b[0;34m.\u001b[0m\u001b[0mcore\u001b[0m\u001b[0;34m.\u001b[0m\u001b[0mframework\u001b[0m \u001b[0;32mimport\u001b[0m \u001b[0mfunction_pb2\u001b[0m \u001b[0;32mas\u001b[0m \u001b[0mtensorflow_dot_core_dot_framework_dot_function__pb2\u001b[0m\u001b[0;34m\u001b[0m\u001b[0;34m\u001b[0m\u001b[0m\n\u001b[1;32m     17\u001b[0m \u001b[0;32mfrom\u001b[0m \u001b[0mtensorflow\u001b[0m\u001b[0;34m.\u001b[0m\u001b[0mcore\u001b[0m\u001b[0;34m.\u001b[0m\u001b[0mframework\u001b[0m \u001b[0;32mimport\u001b[0m \u001b[0mnode_def_pb2\u001b[0m \u001b[0;32mas\u001b[0m \u001b[0mtensorflow_dot_core_dot_framework_dot_node__def__pb2\u001b[0m\u001b[0;34m\u001b[0m\u001b[0;34m\u001b[0m\u001b[0m\n\u001b[0;32m---> 18\u001b[0;31m \u001b[0;32mfrom\u001b[0m \u001b[0mtensorflow\u001b[0m\u001b[0;34m.\u001b[0m\u001b[0mcore\u001b[0m\u001b[0;34m.\u001b[0m\u001b[0mframework\u001b[0m \u001b[0;32mimport\u001b[0m \u001b[0mversions_pb2\u001b[0m \u001b[0;32mas\u001b[0m \u001b[0mtensorflow_dot_core_dot_framework_dot_versions__pb2\u001b[0m\u001b[0;34m\u001b[0m\u001b[0;34m\u001b[0m\u001b[0m\n\u001b[0m\u001b[1;32m     19\u001b[0m \u001b[0;34m\u001b[0m\u001b[0m\n\u001b[1;32m     20\u001b[0m \u001b[0;34m\u001b[0m\u001b[0m\n",
            "\u001b[0;32m/usr/lib/python3.7/importlib/_bootstrap.py\u001b[0m in \u001b[0;36m_find_and_load\u001b[0;34m(name, import_)\u001b[0m\n",
            "\u001b[0;32m/usr/lib/python3.7/importlib/_bootstrap.py\u001b[0m in \u001b[0;36m_find_and_load_unlocked\u001b[0;34m(name, import_)\u001b[0m\n",
            "\u001b[0;32m/usr/lib/python3.7/importlib/_bootstrap.py\u001b[0m in \u001b[0;36m_load_unlocked\u001b[0;34m(spec)\u001b[0m\n",
            "\u001b[0;32m/usr/lib/python3.7/importlib/_bootstrap_external.py\u001b[0m in \u001b[0;36mexec_module\u001b[0;34m(self, module)\u001b[0m\n",
            "\u001b[0;32m/usr/lib/python3.7/importlib/_bootstrap_external.py\u001b[0m in \u001b[0;36mget_code\u001b[0;34m(self, fullname)\u001b[0m\n",
            "\u001b[0;32m/usr/lib/python3.7/importlib/_bootstrap_external.py\u001b[0m in \u001b[0;36mget_data\u001b[0;34m(self, path)\u001b[0m\n",
            "\u001b[0;31mKeyboardInterrupt\u001b[0m: "
          ]
        }
      ]
    },
    {
      "cell_type": "markdown",
      "source": [
        "## **파일불러오기 및 확인**"
      ],
      "metadata": {
        "id": "75AnH8gb81xW"
      }
    },
    {
      "cell_type": "code",
      "source": [
        "filename = '/content/drive/MyDrive/Colab Notebooks/data/final_nonnil_s.csv'"
      ],
      "metadata": {
        "id": "M88v10G8N9MH"
      },
      "execution_count": null,
      "outputs": []
    },
    {
      "cell_type": "code",
      "source": [
        "data = pd.read_csv(filename)\n",
        "data.head()"
      ],
      "metadata": {
        "colab": {
          "base_uri": "https://localhost:8080/",
          "height": 204
        },
        "id": "YYQKOYpwOFdm",
        "outputId": "6b1d9c0a-0ef9-4647-d5fd-e5e575207739"
      },
      "execution_count": null,
      "outputs": [
        {
          "output_type": "execute_result",
          "data": {
            "text/plain": [
              "   id                                             review  label\n",
              "0   0                          눈 똥그란 간호사님 넘 친절해요....이쁘시구      1\n",
              "1   1            사마귀빼러갔는데 잘해주셨습니다상담해주는 간호사님이 친절해서 더좋았습니다      1\n",
              "2   2                          ㅋㅋㅋ뭐야 밑에 리뷰작업하네 넘 티나자나 ~~      0\n",
              "3   3  이 병원에서 근무하는 정기석 교수 🐶🦅끼 왜 실내&대중교통 마스크 의무 착용 전면 ...      0\n",
              "4   4  다들 똑같습니다!허나 뇌종양은 처음 수술하신분이 다른쪽에있다가 그쪽으로 가셔서!저또...      0"
            ],
            "text/html": [
              "\n",
              "  <div id=\"df-a277e65e-be81-4e93-aa53-8c139b603598\">\n",
              "    <div class=\"colab-df-container\">\n",
              "      <div>\n",
              "<style scoped>\n",
              "    .dataframe tbody tr th:only-of-type {\n",
              "        vertical-align: middle;\n",
              "    }\n",
              "\n",
              "    .dataframe tbody tr th {\n",
              "        vertical-align: top;\n",
              "    }\n",
              "\n",
              "    .dataframe thead th {\n",
              "        text-align: right;\n",
              "    }\n",
              "</style>\n",
              "<table border=\"1\" class=\"dataframe\">\n",
              "  <thead>\n",
              "    <tr style=\"text-align: right;\">\n",
              "      <th></th>\n",
              "      <th>id</th>\n",
              "      <th>review</th>\n",
              "      <th>label</th>\n",
              "    </tr>\n",
              "  </thead>\n",
              "  <tbody>\n",
              "    <tr>\n",
              "      <th>0</th>\n",
              "      <td>0</td>\n",
              "      <td>눈 똥그란 간호사님 넘 친절해요....이쁘시구</td>\n",
              "      <td>1</td>\n",
              "    </tr>\n",
              "    <tr>\n",
              "      <th>1</th>\n",
              "      <td>1</td>\n",
              "      <td>사마귀빼러갔는데 잘해주셨습니다상담해주는 간호사님이 친절해서 더좋았습니다</td>\n",
              "      <td>1</td>\n",
              "    </tr>\n",
              "    <tr>\n",
              "      <th>2</th>\n",
              "      <td>2</td>\n",
              "      <td>ㅋㅋㅋ뭐야 밑에 리뷰작업하네 넘 티나자나 ~~</td>\n",
              "      <td>0</td>\n",
              "    </tr>\n",
              "    <tr>\n",
              "      <th>3</th>\n",
              "      <td>3</td>\n",
              "      <td>이 병원에서 근무하는 정기석 교수 🐶🦅끼 왜 실내&amp;대중교통 마스크 의무 착용 전면 ...</td>\n",
              "      <td>0</td>\n",
              "    </tr>\n",
              "    <tr>\n",
              "      <th>4</th>\n",
              "      <td>4</td>\n",
              "      <td>다들 똑같습니다!허나 뇌종양은 처음 수술하신분이 다른쪽에있다가 그쪽으로 가셔서!저또...</td>\n",
              "      <td>0</td>\n",
              "    </tr>\n",
              "  </tbody>\n",
              "</table>\n",
              "</div>\n",
              "      <button class=\"colab-df-convert\" onclick=\"convertToInteractive('df-a277e65e-be81-4e93-aa53-8c139b603598')\"\n",
              "              title=\"Convert this dataframe to an interactive table.\"\n",
              "              style=\"display:none;\">\n",
              "        \n",
              "  <svg xmlns=\"http://www.w3.org/2000/svg\" height=\"24px\"viewBox=\"0 0 24 24\"\n",
              "       width=\"24px\">\n",
              "    <path d=\"M0 0h24v24H0V0z\" fill=\"none\"/>\n",
              "    <path d=\"M18.56 5.44l.94 2.06.94-2.06 2.06-.94-2.06-.94-.94-2.06-.94 2.06-2.06.94zm-11 1L8.5 8.5l.94-2.06 2.06-.94-2.06-.94L8.5 2.5l-.94 2.06-2.06.94zm10 10l.94 2.06.94-2.06 2.06-.94-2.06-.94-.94-2.06-.94 2.06-2.06.94z\"/><path d=\"M17.41 7.96l-1.37-1.37c-.4-.4-.92-.59-1.43-.59-.52 0-1.04.2-1.43.59L10.3 9.45l-7.72 7.72c-.78.78-.78 2.05 0 2.83L4 21.41c.39.39.9.59 1.41.59.51 0 1.02-.2 1.41-.59l7.78-7.78 2.81-2.81c.8-.78.8-2.07 0-2.86zM5.41 20L4 18.59l7.72-7.72 1.47 1.35L5.41 20z\"/>\n",
              "  </svg>\n",
              "      </button>\n",
              "      \n",
              "  <style>\n",
              "    .colab-df-container {\n",
              "      display:flex;\n",
              "      flex-wrap:wrap;\n",
              "      gap: 12px;\n",
              "    }\n",
              "\n",
              "    .colab-df-convert {\n",
              "      background-color: #E8F0FE;\n",
              "      border: none;\n",
              "      border-radius: 50%;\n",
              "      cursor: pointer;\n",
              "      display: none;\n",
              "      fill: #1967D2;\n",
              "      height: 32px;\n",
              "      padding: 0 0 0 0;\n",
              "      width: 32px;\n",
              "    }\n",
              "\n",
              "    .colab-df-convert:hover {\n",
              "      background-color: #E2EBFA;\n",
              "      box-shadow: 0px 1px 2px rgba(60, 64, 67, 0.3), 0px 1px 3px 1px rgba(60, 64, 67, 0.15);\n",
              "      fill: #174EA6;\n",
              "    }\n",
              "\n",
              "    [theme=dark] .colab-df-convert {\n",
              "      background-color: #3B4455;\n",
              "      fill: #D2E3FC;\n",
              "    }\n",
              "\n",
              "    [theme=dark] .colab-df-convert:hover {\n",
              "      background-color: #434B5C;\n",
              "      box-shadow: 0px 1px 3px 1px rgba(0, 0, 0, 0.15);\n",
              "      filter: drop-shadow(0px 1px 2px rgba(0, 0, 0, 0.3));\n",
              "      fill: #FFFFFF;\n",
              "    }\n",
              "  </style>\n",
              "\n",
              "      <script>\n",
              "        const buttonEl =\n",
              "          document.querySelector('#df-a277e65e-be81-4e93-aa53-8c139b603598 button.colab-df-convert');\n",
              "        buttonEl.style.display =\n",
              "          google.colab.kernel.accessAllowed ? 'block' : 'none';\n",
              "\n",
              "        async function convertToInteractive(key) {\n",
              "          const element = document.querySelector('#df-a277e65e-be81-4e93-aa53-8c139b603598');\n",
              "          const dataTable =\n",
              "            await google.colab.kernel.invokeFunction('convertToInteractive',\n",
              "                                                     [key], {});\n",
              "          if (!dataTable) return;\n",
              "\n",
              "          const docLinkHtml = 'Like what you see? Visit the ' +\n",
              "            '<a target=\"_blank\" href=https://colab.research.google.com/notebooks/data_table.ipynb>data table notebook</a>'\n",
              "            + ' to learn more about interactive tables.';\n",
              "          element.innerHTML = '';\n",
              "          dataTable['output_type'] = 'display_data';\n",
              "          await google.colab.output.renderOutput(dataTable, element);\n",
              "          const docLink = document.createElement('div');\n",
              "          docLink.innerHTML = docLinkHtml;\n",
              "          element.appendChild(docLink);\n",
              "        }\n",
              "      </script>\n",
              "    </div>\n",
              "  </div>\n",
              "  "
            ]
          },
          "metadata": {},
          "execution_count": 8
        }
      ]
    },
    {
      "cell_type": "code",
      "source": [
        "type(data)"
      ],
      "metadata": {
        "colab": {
          "base_uri": "https://localhost:8080/"
        },
        "id": "mLIcUyZ5fbdx",
        "outputId": "8dfdcd34-6f7c-4a5c-a261-988adca94582"
      },
      "execution_count": null,
      "outputs": [
        {
          "output_type": "execute_result",
          "data": {
            "text/plain": [
              "pandas.core.frame.DataFrame"
            ]
          },
          "metadata": {},
          "execution_count": 11
        }
      ]
    },
    {
      "cell_type": "code",
      "source": [
        "data['label'].value_counts().plot(kind='bar')"
      ],
      "metadata": {
        "colab": {
          "base_uri": "https://localhost:8080/",
          "height": 279
        },
        "id": "9S3DcBwTOkdm",
        "outputId": "acfd26b6-e0f2-4be1-a40f-a31e69cf1ffb"
      },
      "execution_count": null,
      "outputs": [
        {
          "output_type": "execute_result",
          "data": {
            "text/plain": [
              "<matplotlib.axes._subplots.AxesSubplot at 0x7f39a04aaf10>"
            ]
          },
          "metadata": {},
          "execution_count": 9
        },
        {
          "output_type": "display_data",
          "data": {
            "text/plain": [
              "<Figure size 432x288 with 1 Axes>"
            ],
            "image/png": "[encoded data removed]"
          },
          "metadata": {
            "needs_background": "light"
          }
        }
      ]
    },
    {
      "cell_type": "code",
      "source": [
        "print(data.isnull().values.any())"
      ],
      "metadata": {
        "colab": {
          "base_uri": "https://localhost:8080/"
        },
        "id": "wHGSlegxto3M",
        "outputId": "032b6a3a-b6f1-4c54-d530-41bbfba7df16"
      },
      "execution_count": null,
      "outputs": [
        {
          "output_type": "stream",
          "name": "stdout",
          "text": [
            "False\n"
          ]
        }
      ]
    },
    {
      "cell_type": "markdown",
      "source": [
        "## 데이터 나누기 ( train, test, val ) and 데이터 **정제작업**"
      ],
      "metadata": {
        "id": "X5sjwf0J89-i"
      }
    },
    {
      "cell_type": "code",
      "source": [
        "data.drop_duplicates(subset = ['review'], inplace=True) # review 열에서 중복적 내용은 제거\n",
        "data['review'] = data['review'].str.replace(\"[^ㄱ-ㅎㅏ-ㅣ가-힣 ]\",\"\") # 한글 빼고 다 삭제\n",
        "data['review'] = data['review'].str.replace('^ +', \"\") # 공백 -> empty\n",
        "data['review'].replace('', np.nan, inplace=True) # 공백 -> nil\n",
        "data = data.dropna(how='any') # Null 값 제거\n",
        "print('전처리 후 테스트용 샘플의 개수 :',len(data))"
      ],
      "metadata": {
        "colab": {
          "base_uri": "https://localhost:8080/"
        },
        "id": "84wyn4gAjGk8",
        "outputId": "fb9ba529-f70f-469b-bb54-00c287b6e96a"
      },
      "execution_count": null,
      "outputs": [
        {
          "output_type": "stream",
          "name": "stdout",
          "text": [
            "전처리 후 테스트용 샘플의 개수 : 7149\n"
          ]
        },
        {
          "output_type": "stream",
          "name": "stderr",
          "text": [
            "/usr/local/lib/python3.7/dist-packages/ipykernel_launcher.py:2: FutureWarning: The default value of regex will change from True to False in a future version.\n",
            "  \n",
            "/usr/local/lib/python3.7/dist-packages/ipykernel_launcher.py:3: FutureWarning: The default value of regex will change from True to False in a future version.\n",
            "  This is separate from the ipykernel package so we can avoid doing imports until\n"
          ]
        }
      ]
    },
    {
      "cell_type": "code",
      "source": [
        "from sklearn.model_selection import train_test_split\n",
        "\n",
        "target = data['label']\n",
        "\n",
        "train_data, test_data, y_train, y_test = train_test_split(data, target, test_size=0.2, random_state=1)\n",
        "\n",
        "print(len(train_data))\n",
        "print(len(test_data))\n"
      ],
      "metadata": {
        "colab": {
          "base_uri": "https://localhost:8080/"
        },
        "id": "80Q0b54zhv1F",
        "outputId": "918731da-bd63-4bda-bb8e-27b61b314ee8"
      },
      "execution_count": null,
      "outputs": [
        {
          "output_type": "stream",
          "name": "stdout",
          "text": [
            "5719\n",
            "1430\n"
          ]
        }
      ]
    },
    {
      "cell_type": "code",
      "source": [
        "print(len(y_test))\n",
        "print(y_test.isnull().values.any())"
      ],
      "metadata": {
        "colab": {
          "base_uri": "https://localhost:8080/"
        },
        "id": "4hhLDdgpv5Kz",
        "outputId": "ad56c2c8-6ec2-4549-dabf-1ceb97cbe39b"
      },
      "execution_count": null,
      "outputs": [
        {
          "output_type": "stream",
          "name": "stdout",
          "text": [
            "1430\n",
            "False\n"
          ]
        }
      ]
    },
    {
      "cell_type": "code",
      "source": [
        "okt = Okt()\n",
        "X_train = []\n",
        "stopwords = ['의', '가', '이', '은', '들', '는', '좀', '잘', '걍', '과', '도', '를', '으로', '자', '에', '와', '한', '하다','로','것','고','원']\n",
        "for sentence in tqdm(train_data['review']):\n",
        "    tokenized_sentence = okt.morphs(str(sentence), stem=True) # 토큰화\n",
        "    stopwords_removed_sentence = [word for word in tokenized_sentence if not word in stopwords] # 불용어 제거\n",
        "    X_train.append(stopwords_removed_sentence)\n",
        "print(X_train[:3])"
      ],
      "metadata": {
        "colab": {
          "base_uri": "https://localhost:8080/"
        },
        "id": "L_APqD1wqOlM",
        "outputId": "fe1d0497-7762-43d6-fcc1-d62499869323"
      },
      "execution_count": null,
      "outputs": [
        {
          "output_type": "stream",
          "name": "stderr",
          "text": [
            "100%|██████████| 5719/5719 [00:45<00:00, 124.38it/s]"
          ]
        },
        {
          "output_type": "stream",
          "name": "stdout",
          "text": [
            "[['북한', '산', '또', '다른', '모습', '을', '볼', '수', '있다', '좋다'], ['방이', '라', '적히다', '옛날', '오락실', '손님', '많다', '사장', '님', '친절하다', '심'], ['졸업', '여전하다', '그립다', '곳']]\n"
          ]
        },
        {
          "output_type": "stream",
          "name": "stderr",
          "text": [
            "\n"
          ]
        }
      ]
    },
    {
      "cell_type": "code",
      "source": [
        "X_test = []\n",
        "for sentence in tqdm(test_data['review']):\n",
        "    tokenized_sentence = okt.morphs(str(sentence), stem=True) # 토큰화\n",
        "    stopwords_removed_sentence = [word for word in tokenized_sentence if not word in stopwords] # 불용어 제거\n",
        "    X_test.append(stopwords_removed_sentence)\n",
        "print(X_test[:3])"
      ],
      "metadata": {
        "colab": {
          "base_uri": "https://localhost:8080/"
        },
        "id": "vWg-KW17dlbq",
        "outputId": "82e17895-1e26-449b-9be2-f7329fa0df4a"
      },
      "execution_count": null,
      "outputs": [
        {
          "output_type": "stream",
          "name": "stderr",
          "text": [
            "100%|██████████| 1430/1430 [00:07<00:00, 180.09it/s]"
          ]
        },
        {
          "output_type": "stream",
          "name": "stdout",
          "text": [
            "[['그지같다', '피시방', '맨날', '신분증', '확인', '하', '피시방', '임', '가지', '말다', '시설', '구리', '음식', '맛없다', '알바생', '부터가', '전', '나', '싸가지', '없다', '누가', '가다'], ['사장', '님', '친절하다', '알바', '친절', '방', '깨끗하다', '먹다', '많다', '좋다', '근데', '화장실', '더럽다', '변기', '사용', '힘들다'], ['왜', '이렇게', '불친절하다', 'ㅠㅠ', '혼나다', '간', '기분', '이네', '요']]\n"
          ]
        },
        {
          "output_type": "stream",
          "name": "stderr",
          "text": [
            "\n"
          ]
        }
      ]
    },
    {
      "cell_type": "markdown",
      "source": [
        "# **정수인코딩**"
      ],
      "metadata": {
        "id": "G6tQ176Fd47X"
      }
    },
    {
      "cell_type": "code",
      "source": [
        "tokenizer = Tokenizer()\n",
        "tokenizer.fit_on_texts(X_train)\n",
        "print(tokenizer.word_index)"
      ],
      "metadata": {
        "colab": {
          "base_uri": "https://localhost:8080/"
        },
        "id": "f_pptQL06bMg",
        "outputId": "5720dbee-2403-419c-9457-76412d1c704a"
      },
      "execution_count": null,
      "outputs": [
        {
          "output_type": "stream",
          "name": "stdout",
          "text": [
            "{'있다': 1, '좋다': 2, '을': 3, '없다': 4, '보다': 5, '가다': 6, '안': 7, '친절하다': 8, '너무': 9, '분': 10, '에서': 11, '직원': 12, '시간': 13, '되다': 14, '다': 15, '이다': 16, '받다': 17, '사람': 18, '곳': 19, '만': 20, '않다': 21, '많다': 22, '같다': 23, '병원': 24, '아니다': 25, '하고': 26, '해주다': 27, '오다': 28, '때': 29, '요': 30, '다른': 31, '님': 32, '여기': 33, '자다': 34, '일': 35, '진료': 36, '못': 37, '진짜': 38, '말': 39, '의사': 40, '그': 41, '책': 42, '나오다': 43, '적': 44, '안되다': 45, '알다': 46, '그렇다': 47, '나': 48, '들다': 49, '서': 50, '수': 51, '먹다': 52, '정말': 53, '그냥': 54, '까지': 55, '시': 56, '내': 57, '분들': 58, '중': 59, '함': 60, '불친절하다': 61, '더': 62, '모르다': 63, '인': 64, '영화': 65, '왜': 66, '주차': 67, '환자': 68, '정도': 69, '간호사': 70, '맛있다': 71, '싶다': 72, '하': 73, '인데': 74, '많이': 75, '기분': 76, '고객': 77, '생각': 78, '주다': 79, '기다리다': 80, '방문': 81, '되어다': 82, '지': 83, '주차장': 84, '대': 85, '사장': 86, '점': 87, '크다': 88, '게': 89, '말다': 90, '저': 91, '갈다': 92, '번': 93, '개': 94, '제': 95, '하나': 96, '검사': 97, '선생님': 98, '설명': 99, '별로': 100, '시설': 101, '이라': 102, '넘다': 103, '다시': 104, '네': 105, '처음': 106, '그리고': 107, '돈': 108, '층': 109, '자리': 110, '마다': 111, '거': 112, '가격': 113, '불친절': 114, '두': 115, '엄청': 116, '영화관': 117, '물어보다': 118, '다니다': 119, '최악': 120, '보고': 121, '앞': 122, '업무': 123, '은행': 124, '면': 125, '별': 126, '임': 127, '부터': 128, '년': 129, '감사하다': 130, '전': 131, '지점': 132, 'ㅋㅋ': 133, '때문': 134, '처리': 135, '이용': 136, '수술': 137, '전화': 138, '나다': 139, '뭐': 140, '이나': 141, '서점': 142, '알바': 143, '대기': 144, '손님': 145, '안내': 146, '음식': 147, '편하다': 148, '최고': 149, '아프다': 150, '상담': 151, '라': 152, '이렇다': 153, '관': 154, '라고': 155, '집': 156, '마트': 157, '정상': 158, '한테': 159, '걸리다': 160, '관리': 161, '시키다': 162, '다시다': 163, '돼다': 164, '맞다': 165, '찾다': 166, '맛': 167, '내다': 168, '보이다': 169, '명': 170, '깨끗하다': 171, '추천': 172, '창구': 173, '계속': 174, '아': 175, '인지': 176, '쓰다': 177, '가보다': 178, '화장실': 179, '매장': 180, '에는': 181, '치료': 182, '계산': 183, '가지': 184, '서비스': 185, '또': 186, '들어가다': 187, '약': 188, '넓다': 189, '괜찮다': 190, '남자': 191, '비': 192, '원장': 193, '차다': 194, '여기다': 195, '길': 196, '이고': 197, '산': 198, '불편하다': 199, '랑': 200, '게임': 201, '힘들다': 202, '냄새': 203, '깔끔하다': 204, 'ㅎㅎ': 205, '니': 206, '듯': 207, '없이': 208, 'ㅠㅠ': 209, '커피': 210, '아깝다': 211, '쪽': 212, '예약': 213, '기': 214, '제대로': 215, '한번': 216, '버리다': 217, '비싸다': 218, '만들다': 219, '여자': 220, '자주': 221, '올라가다': 222, '바로': 223, '앉다': 224, '후기': 225, '응급실': 226, '느낌': 227, '상영': 228, '에게': 229, '매우': 230, '나가다': 231, '완전': 232, '찍다': 233, '문': 234, '근처': 235, '이마트': 236, '나쁘다': 237, '코로나': 238, '확인': 239, '엔': 240, '건지다': 241, '몇': 242, '공간': 243, '기본': 244, '학교': 245, '드리다': 246, '작다': 247, '친절': 248, '모두': 249, '무슨': 250, '옆': 251, '차': 252, '주': 253, '코스': 254, '대출': 255, '상태': 256, '후': 257, '물건': 258, '이랑': 259, '아주': 260, '좌석': 261, '이네': 262, '응대': 263, '알바생': 264, '이렇게': 265, '제일': 266, '소리': 267, '어떻다': 268, '문제': 269, '분위기': 270, '아쉽다': 271, '에도': 272, '자기': 273, 'ㅠ': 274, '피시방': 275, '서다': 276, '항상': 277, '여': 278, 'ㅋㅋㅋ': 279, '입원': 280, '센터': 281, '생기다': 282, '날': 283, '안좋다': 284, '장': 285, '치다': 286, '야하다': 287, '밖에': 288, '건물': 289, '데': 290, '오르다': 291, '키': 292, '해보다': 293, '마음': 294, '지다': 295, '가능하다': 296, '지금': 297, '건': 298, '팝콘': 299, '동네': 300, '접수': 301, '쾌적하다': 302, '다음': 303, '의자': 304, '같이': 305, '주변': 306, '살다': 307, '처럼': 308, '빨리': 309, '꼭': 310, '이상': 311, '조금': 312, '싫다': 313, '만원': 314, '가깝다': 315, '적다': 316, '교육': 317, '특히': 318, '두다': 319, '해': 320, '번호': 321, '이라고': 322, '카드': 323, '볼': 324, '뒤': 325, '거의': 326, '등': 327, '피': 328, '사진': 329, '음료': 330, '반': 331, 'ㅎ': 332, '동안': 333, '들어오다': 334, '롯데': 335, '써다': 336, '싸가지': 337, '절대': 338, '모든': 339, '움': 340, '영업': 341, '오늘': 342, '눈': 343, '니까': 344, '식': 345, '컴퓨터': 346, '이유': 347, '지만': 348, '줄': 349, '알': 350, '다르다': 351, '덥다': 352, '교수': 353, '기다': 354, '근데': 355, '오래': 356, '심하다': 357, '등산': 358, '주말': 359, '바쁘다': 360, '놓다': 361, '필요하다': 362, '말투': 363, '이해': 364, '얘기': 365, '느끼다': 366, '빠르다': 367, '그렇게': 368, '리': 369, '뽑다': 370, '바꾸다': 371, '쉬다': 372, '저렴하다': 373, '밥': 374, '표': 375, '종류': 376, '조용하다': 377, '처방': 378, '심': 379, '끝나다': 380, '걸': 381, '월': 382, '씩': 383, '위치': 384, '편': 385, '사용': 386, '입장': 387, '비다': 388, '카페': 389, '태도': 390, '수준': 391, '방': 392, '학생': 393, '위': 394, '보내다': 395, '가장': 396, '쓸다': 397, '리뷰': 398, '남다': 399, '넣다': 400, '가면': 401, '사다': 402, '해도': 403, '실': 404, 'ㅡㅡ': 405, '주문': 406, '구': 407, '이에요': 408, '재': 409, '중간': 410, '오': 411, '늘다': 412, '이름': 413, '영': 414, '대다': 415, '스크린': 416, '더럽다': 417, '화': 418, '운동': 419, 'ㅋ': 420, '코너': 421, '할인': 422, '그래도': 423, '아무': 424, '시작': 425, '싸다': 426, '극장': 427, '여러': 428, '사': 429, '빼다': 430, '참고': 431, '다양하다': 432, '상품': 433, '읽다': 434, '구매': 435, '상': 436, '라면': 437, '장사': 438, '그래서': 439, '가세': 440, '너': 441, '요즘': 442, '에요': 443, '호수': 444, '입구': 445, '의료': 446, '바라다': 447, '지하': 448, '좁다': 449, '남': 450, '간': 451, '들리다': 452, '예쁘다': 453, '째': 454, '끝': 455, '감': 456, 'ㅜㅜ': 457, '자체': 458, '느리다': 459, '천원': 460, '귀찮다': 461, '끄다': 462, '떨어지다': 463, '짜증': 464, '운영': 465, '계단': 466, '에어컨': 467, '글': 468, '인가': 469, '길다': 470, '규모': 471, '이제': 472, '동': 473, '라는': 474, '어디': 475, '하지만': 476, '이상하다': 477, '걱정': 478, '옮기다': 479, '당': 480, '마스크': 481, '이런': 482, '어렵다': 483, '무료': 484, '담배': 485, '우리': 486, '께': 487, '열': 488, '온': 489, '평일': 490, '부분': 491, '신경': 492, '산행': 493, '높다': 494, '인터넷': 495, '신': 496, '잘못': 497, '말씀': 498, '거기': 499, '직접': 500, '서울': 501, '팔다': 502, '보드': 503, '성': 504, '전화하다': 505, '개인': 506, '쌤': 507, '힘드다': 508, '걸다': 509, '거리': 510, '진': 511, '속': 512, '꼼꼼하다': 513, '오픈': 514, '권': 515, '좋아하다': 516, '산이': 517, '멋지다': 518, '결제': 519, '대학': 520, '달라': 521, '피부': 522, '쇼핑': 523, '믿다': 524, '다만': 525, '길이': 526, '추가': 527, '등산로': 528, '가기': 529, '과잉': 530, '카운터': 531, '결과': 532, '및': 533, '타': 534, '짜증나다': 535, '충전': 536, '보기': 537, '뜨다': 538, '화면': 539, '덕분': 540, '지나다': 541, '아이': 542, '끊기다': 543, '건강검진': 544, '산책': 545, '맛집': 546, '올리다': 547, '환불': 548, '증상': 549, '질문': 550, '마우스': 551, '물': 552, '좋아지다': 553, '고생': 554, '이르다': 555, '따다': 556, '통장': 557, '대로': 558, '정신': 559, '일이': 560, '검진': 561, '늦다': 562, '대충': 563, '시스템': 564, '새롭다': 565, '자세하다': 566, '어느': 567, '무조건': 568, '하루': 569, '세': 570, '꽤': 571, '가야': 572, '손': 573, '전체': 574, '문의': 575, '잡다': 576, '오후': 577, '계시다': 578, '청소': 579, '일반': 580, '듣다': 581, '본인': 582, '감사': 583, '대한': 584, '뷰': 585, '들이다': 586, '쯤': 587, '시원하다': 588, '에서는': 589, '배': 590, '가요': 591, '부족하다': 592, '낮다': 593, '무엇': 594, '위해': 595, '애': 596, '바뀌다': 597, '조': 598, '전혀': 599, '결국': 600, '미리': 601, '정확하다': 602, '경우': 603, '살': 604, '쓰레기': 605, '다녀오다': 606, '대답': 607, '대학교': 608, '판매': 609, '가끔': 610, '일단': 611, '컴': 612, '돌리다': 613, '가라': 614, '대부분': 615, '남기다': 616, '내려가다': 617, '닫다': 618, '스럽다': 619, '께서': 620, '예전': 621, '인사': 622, '제품': 623, '혼자': 624, '야': 625, '표정': 626, '예요': 627, '여서': 628, '홈플러스': 629, '퇴원': 630, '제발': 631, '올': 632, '기억': 633, '담당': 634, '안함': 635, '치고': 636, '불다': 637, '저희': 638, '타다': 639, '가족': 640, '친구': 641, '상당하다': 642, '장소': 643, '욕': 644, '석': 645, '이라는': 646, '인가요': 647, '굉장하다': 648, '지나가다': 649, '어': 650, '역시': 651, '과일': 652, '굿': 653, '당하다': 654, '짜다': 655, '급': 656, '비추다': 657, '데스크': 658, '해주시': 659, '검색': 660, '씨방': 661, '급하다': 662, '미치다': 663, '돌아가다': 664, '나서다': 665, '편안하다': 666, '맛없다': 667, '딱': 668, '피방': 669, '아침': 670, '아름답다': 671, '이라도': 672, '밑': 673, '불쾌하다': 674, '찾아가다': 675, '평점': 676, '진행': 677, '공원': 678, '소': 679, '얼마나': 680, '아저씨': 681, 'ㅋㅋㅋㅋ': 682, '상황': 683, '사양': 684, '모니터': 685, '봉': 686, '뭔가': 687, '틀다': 688, '언제': 689, '하니': 690, '느껴지다': 691, '용': 692, '뭘': 693, '사과': 694, '깔다': 695, '망하다': 696, '나이': 697, '주사': 698, '근무': 699, '내과': 700, '화가': 701, '팔': 702, '수도': 703, '경치': 704, '달': 705, '당연하다': 706, '오랜': 707, '내부': 708, '거래': 709, '잡': 710, '입다': 711, '주시': 712, '단': 713, '작': 714, '봄': 715, '적당하다': 716, '젊다': 717, '따로': 718, '실력': 719, '오히려': 720, '이야기': 721, '매번': 722, '터지다': 723, '겁나다': 724, '메뉴': 725, '뭔': 726, '말고': 727, '그런데': 728, '뿐': 729, '클라이너': 730, '양': 731, '인상': 732, '그런': 733, '파다': 734, '국민은행': 735, '점심시간': 736, '원래': 737, '지인': 738, '최근': 739, '안경': 740, '아줌마': 741, '처': 742, '아직': 743, '비교': 744, '무섭다': 745, '여직원': 746, '경험': 747, '새벽': 748, '만족하다': 749, '답답하다': 750, '차라리': 751, '요금': 752, '물다': 753, '가볍다': 754, '끼다': 755, '죽다': 756, '개선': 757, '롤': 758, '몸': 759, '다리': 760, '돌다': 761, '며': 762, '도로': 763, '불편': 764, '당황': 765, '뒷': 766, '얼마': 767, '개다': 768, '죠': 769, '진열': 770, '라떼': 771, '예정': 772, '일요일': 773, '오전': 774, '밖': 775, '가게': 776, '잇다': 777, '왕': 778, '편리하다': 779, '물론': 780, '엉망': 781, '대형': 782, '멀다': 783, '단점': 784, '시네마': 785, '라도': 786, '타고': 787, '대해': 788, '편이': 789, '시끄럽다': 790, '시술': 791, '저녁': 792, '전부': 793, '유료': 794, '안해': 795, '재밌다': 796, '매': 797, '유명하다': 798, '도와주다': 799, '원하다': 800, '끊다': 801, '새': 802, '이후': 803, '열다': 804, '치킨': 805, '진단': 806, 'ㅡ': 807, '경': 808, '연결': 809, '땐': 810, '장님': 811, '무시': 812, '먼저': 813, '매점': 814, '세상': 815, '취급': 816, '이전': 817, '오지': 818, '밤': 819, '도착': 820, '내려오다': 821, '찾기': 822, '전문': 823, '정리': 824, '나름': 825, '짱': 826, '맘': 827, '머리': 828, '주의': 829, '오래되다': 830, '어이': 831, '자꾸': 832, '기준': 833, '속도': 834, '달다': 835, '천': 836, '무과': 837, '라서': 838, '그때': 839, '정형외과': 840, '지역': 841, '누구': 842, '누가': 843, '통증': 844, '난': 845, '옷': 846, '포장': 847, '끼리': 848, '에선': 849, '인원': 850, '차감': 851, '티': 852, '막다': 853, '아무리': 854, '아직도': 855, '교환': 856, '발생': 857, '옛날': 858, '지원': 859, '관람': 860, '이지': 861, '나중': 862, '고맙다': 863, '첫': 864, '답변': 865, '사실': 866, '암': 867, '외국인': 868, '안감': 869, '물리치료': 870, '놀다': 871, '심지어': 872, '관련': 873, '든': 874, '똑같다': 875, '만에': 876, '사르다': 877, '광고': 878, '허리': 879, '모': 880, '고장': 881, '갖다': 882, '어리다': 883, '가시다': 884, '진심': 885, '기대하다': 886, '준비': 887, '도대체': 888, '확실하다': 889, '렉': 890, '선택': 891, '당일': 892, '겨우': 893, '외': 894, '모습': 895, '세우다': 896, '신분': 897, '보다는': 898, '혹시': 899, '줄다': 900, '중요하다': 901, '실수': 902, '서류': 903, '사고': 904, '목소리': 905, '도서': 906, '되게': 907, '금방': 908, '당신': 909, '장난': 910, '막히다': 911, '냐': 912, '집중': 913, '영수증': 914, '질': 915, '이쁘다': 916, '줌': 917, '점도': 918, '연락': 919, '여름': 920, '기다림': 921, '매일': 922, '차량': 923, '필요': 924, '인간': 925, '걷기': 926, '짧다': 927, '놀라다': 928, '추다': 929, '금액': 930, '어쩔': 931, '보임': 932, '무난': 933, '따르다': 934, '얼굴': 935, '공사': 936, '그것': 937, '이번': 938, '포함': 939, '노': 940, '계좌': 941, '부르다': 942, '캠퍼스': 943, '한참': 944, '실망': 945, '주인': 946, '예의': 947, '장점': 948, '뜯다': 949, '보호자': 950, '붙다': 951, '가능': 952, '이지만': 953, '이면': 954, '차비': 955, '일찍': 956, '없어지다': 957, '켜다': 958, '에스컬레이터': 959, '무': 960, '위생': 961, '내내': 962, '고르다': 963, '궁금하다': 964, '왕복': 965, '병': 966, '중고': 967, '셀프': 968, '방이': 969, '초': 970, '성의': 971, '냥': 972, 'ㅋㅋㅋㅋㅋ': 973, '공기': 974, '출발': 975, '수가': 976, '늘': 977, '바위': 978, '공': 979, '보': 980, '참다': 981, '해결': 982, '갑자기': 983, '세번': 984, '환경': 985, '지키다': 986, '선': 987, '인테리어': 988, '값': 989, '바닥': 990, '누르다': 991, '몇번': 992, '요청': 993, '웃다': 994, '지르다': 995, '우리은행': 996, '책방': 997, '인하다': 998, '모델링': 999, '빠지다': 1000, '대가': 1001, '답': 1002, '가도': 1003, '아예': 1004, '고기': 1005, '발견': 1006, '연': 1007, '비용': 1008, '신한은행': 1009, '안나': 1010, '기계': 1011, '이며': 1012, '음': 1013, '착하다': 1014, '심각하다': 1015, '무릎': 1016, '쳐다보다': 1017, '한마디': 1018, '나무': 1019, '솔직하다': 1020, '구경': 1021, '에서도': 1022, '내리다': 1023, '마지막': 1024, '구간': 1025, '썩다': 1026, '컴터': 1027, '대학병원': 1028, '실내': 1029, '구입': 1030, '맞추다': 1031, '세다': 1032, '올라오다': 1033, '별하나': 1034, '히': 1035, '병실': 1036, '캐셔': 1037, '마감': 1038, '플': 1039, '인천': 1040, '교보': 1041, '개판': 1042, '실제': 1043, '굳이': 1044, '드럽다': 1045, '채우다': 1046, '거나': 1047, '건가': 1048, '엑스레이': 1049, '만족': 1050, '가성': 1051, '바람': 1052, '뻔하다': 1053, '만큼': 1054, '겁니다': 1055, '사이': 1056, '신고': 1057, '오스': 1058, '이건': 1059, '차이': 1060, '션': 1061, '사서': 1062, '품목': 1063, '청원경찰': 1064, '내시경': 1065, '어이없다': 1066, '묻다': 1067, '고치다': 1068, '엄청나다': 1069, '형': 1070, '으로도': 1071, '기도': 1072, '문고': 1073, '크게': 1074, '풍경': 1075, '그나마': 1076, '목': 1077, '약간': 1078, '야간': 1079, '후회': 1080, '아래': 1081, '도움': 1082, '출구': 1083, '빵': 1084, '입': 1085, '크기': 1086, '체크': 1087, '그리다': 1088, '코': 1089, '일부러': 1090, '반말': 1091, '귀': 1092, '헤드셋': 1093, '장비': 1094, '해달라다': 1095, '카트': 1096, '이라서': 1097, '돌아오다': 1098, '꺼지다': 1099, '정보': 1100, '그대로': 1101, '병동': 1102, '고민': 1103, '어제': 1104, '동전': 1105, '입금': 1106, '여유': 1107, '말씀드리다': 1108, '취소': 1109, '대응': 1110, '붐비다': 1111, '외과': 1112, '보지': 1113, '간다': 1114, '굳다': 1115, '산부인과': 1116, '종종': 1117, '스트레스': 1118, '침': 1119, '분도': 1120, '이벤트': 1121, '알라딘': 1122, '식품': 1123, '치우다': 1124, '핸드폰': 1125, '훨씬': 1126, '맨': 1127, '하나은행': 1128, '붙이다': 1129, '엘리베이터': 1130, '어둡다': 1131, '개도': 1132, '어플': 1133, 'ㄹㅇ': 1134, '불구': 1135, '이미': 1136, '땜': 1137, '챙기다': 1138, '작고': 1139, '방법': 1140, '샘': 1141, '런가': 1142, '주심': 1143, '마인드': 1144, 'ㅜ': 1145, '계곡': 1146, '하산': 1147, '래': 1148, '잠깐': 1149, '발': 1150, '마시다': 1151, '한다는': 1152, '바': 1153, '간단하다': 1154, '정산': 1155, '그릇': 1156, '옴': 1157, '알아보다': 1158, '괜히': 1159, '백': 1160, '차갑다': 1161, '브랜드': 1162, '한국': 1163, '젤': 1164, '레이': 1165, '번창': 1166, '떨다': 1167, '한적하다': 1168, '척': 1169, '현금': 1170, 'ㅇ': 1171, '넘어가다': 1172, '맨날': 1173, '첨': 1174, '곰팡이': 1175, '재고': 1176, '사라지다': 1177, '과장': 1178, '부산': 1179, '싸우다': 1180, '사랑': 1181, '발급': 1182, '대체': 1183, '안보': 1184, '배려': 1185, '예': 1186, '따뜻하다': 1187, '의심': 1188, '만나다': 1189, '물품': 1190, '적극': 1191, '그게': 1192, '들르다': 1193, '선물': 1194, '푸드코트': 1195, '추억': 1196, '필수': 1197, '머': 1198, '에만': 1199, '은행원': 1200, '해봤다': 1201, '날씨': 1202, '울다': 1203, '어르신': 1204, '점점': 1205, '건강하다': 1206, '틀어주다': 1207, '존맛': 1208, '경사': 1209, '공부': 1210, '즐기다': 1211, '자전거': 1212, '겜': 1213, '딱하다': 1214, '멈추다': 1215, '곳도': 1216, '그걸': 1217, '아버지': 1218, '눈치': 1219, '확': 1220, '가져가다': 1221, '기대': 1222, '바퀴': 1223, '보여주다': 1224, '벌레': 1225, '충전기': 1226, '또한': 1227, '배송': 1228, '낮': 1229, '보이지': 1230, '메가박스': 1231, '체계': 1232, '양심': 1233, '보이': 1234, '품질': 1235, '예술': 1236, '오라': 1237, '부탁드리다': 1238, '영상': 1239, '음악': 1240, '관리자': 1241, '댓글': 1242, '높이': 1243, '인정': 1244, '회사': 1245, '사기': 1246, '외래': 1247, '효율': 1248, '하라': 1249, '감동': 1250, '열심히': 1251, '안과': 1252, '내용': 1253, '금지': 1254, '성능': 1255, '페어플레이': 1256, '서적': 1257, '대표': 1258, '시기': 1259, '함께': 1260, '조심하다': 1261, '군데': 1262, '전망대': 1263, '카카오': 1264, '밉다': 1265, '통': 1266, '이리': 1267, '담당자': 1268, '즈': 1269, '귀엽다': 1270, '막': 1271, '더러': 1272, '수납': 1273, '갖추다': 1274, '생각나다': 1275, '행': 1276, '역사': 1277, '통합': 1278, '측': 1279, '대하': 1280, '끝판': 1281, '듯이': 1282, '등록': 1283, '너무하다': 1284, '계': 1285, '치료받다': 1286, '다가': 1287, '오징어': 1288, '와인': 1289, '트': 1290, '멀리': 1291, '게다가': 1292, '상대': 1293, '피해': 1294, '일주일': 1295, '문화': 1296, '그러나': 1297, '넘어서다': 1298, '전반': 1299, '몇몇': 1300, '오른쪽': 1301, '비슷하다': 1302, '도서관': 1303, '등등': 1304, '출입': 1305, '개념': 1306, '방향': 1307, '언': 1308, '효과': 1309, '티켓': 1310, '더니': 1311, '아메리카노': 1312, '편의': 1313, '보시': 1314, '우선': 1315, '피자': 1316, '회': 1317, '전국': 1318, '매너': 1319, '왼쪽': 1320, '낫다': 1321, '즐겁다': 1322, '테이블': 1323, '사항': 1324, '관객': 1325, '상세': 1326, '신선하다': 1327, '회원': 1328, '본': 1329, '노래': 1330, '흡연': 1331, '외부': 1332, '포기': 1333, 'ㅎㅎㅎ': 1334, '끼': 1335, '총': 1336, '분만': 1337, '까지는': 1338, '산입': 1339, '달리': 1340, '화나다': 1341, '항원': 1342, '려고': 1343, '해당': 1344, '통화': 1345, '당시': 1346, '주치의': 1347, '팀': 1348, '명산': 1349, '토요일': 1350, '이냐': 1351, '미안하다': 1352, '바가지': 1353, '와이파이': 1354, '움직이다': 1355, '휴무': 1356, '으로는': 1357, '줄이다': 1358, '네이버': 1359, '보통': 1360, '직업': 1361, '초음파': 1362, '꾸준하다': 1363, '아쉬움': 1364, '상품권': 1365, '평생': 1366, '덜': 1367, '가시': 1368, '행사': 1369, '야경': 1370, '음향': 1371, '매니저': 1372, '고함': 1373, '커서': 1374, '터': 1375, '커플': 1376, '작성': 1377, '덕': 1378, '뭐라다': 1379, '온도': 1380, '금융': 1381, '현': 1382, '진상': 1383, '험하다': 1384, '류': 1385, '행복하다': 1386, '겪다': 1387, '떠들다': 1388, '과는': 1389, '설치': 1390, '전망': 1391, '한두': 1392, '자신': 1393, '애용': 1394, '쿠폰': 1395, '빡치다': 1396, '직': 1397, '골절': 1398, '배달': 1399, '퉁': 1400, '잡고': 1401, '앨범': 1402, '티비': 1403, '젠': 1404, '능선': 1405, '미끄럽다': 1406, '식당': 1407, '향': 1408, '위주': 1409, '재활': 1410, '부담': 1411, '여쭈다': 1412, '안양': 1413, '줍다': 1414, '흘리다': 1415, '닦다': 1416, '대놓고': 1417, '퇴근': 1418, '풀다': 1419, '늘리다': 1420, '만족스럽다': 1421, '재미': 1422, '훌륭하다': 1423, '유일하다': 1424, '물이': 1425, '대한민국': 1426, '응급': 1427, '고양이': 1428, '울': 1429, '담다': 1430, '난리': 1431, '찌다': 1432, '다소': 1433, '몰다': 1434, '이기다': 1435, '찾아보다': 1436, '표시': 1437, '인들': 1438, '장이': 1439, '야채': 1440, '차분하다': 1441, '가져오다': 1442, '모기': 1443, '도안': 1444, '엄마': 1445, '치': 1446, '인근': 1447, '마리': 1448, '운': 1449, '어깨': 1450, '이동': 1451, '몇개': 1452, '주차공간': 1453, '식사': 1454, '촬영': 1455, '변경': 1456, '역': 1457, '주민': 1458, '엘베': 1459, '기사': 1460, '단골': 1461, '망': 1462, '단체': 1463, '회전': 1464, '초밥': 1465, '진찰': 1466, '백신': 1467, '딸기': 1468, '방치': 1469, '밀리다': 1470, '통해': 1471, '둘째': 1472, '강요': 1473, '이니': 1474, '여기저기': 1475, '절대로': 1476, '증': 1477, '명의': 1478, '조차': 1479, '한개': 1480, '사전': 1481, '물어': 1482, '인생': 1483, '자르다': 1484, '불': 1485, '동선': 1486, '안다': 1487, '정작': 1488, '한데': 1489, '코스트코': 1490, '살짝': 1491, '짓': 1492, '멋있다': 1493, '카톡': 1494, '왠만하다': 1495, '똑바로': 1496, '평가': 1497, '대비': 1498, '로는': 1499, '면서': 1500, '땀': 1501, '불만': 1502, '순간': 1503, '민원': 1504, '으로만': 1505, '출력': 1506, '여전하다': 1507, '죽': 1508, '탑': 1509, 'ㅎㅎㅎㅎ': 1510, '멍': 1511, '때리다': 1512, '꺼': 1513, '갈수': 1514, '도시': 1515, '재미있다': 1516, '감기': 1517, '보험': 1518, '둘러보다': 1519, '기업': 1520, 'ㅇㅇ': 1521, '수다': 1522, '배우다': 1523, '아담하다': 1524, '중앙': 1525, '세트': 1526, '편입': 1527, '월일': 1528, '치과': 1529, '안쪽': 1530, '심해': 1531, '버스': 1532, '마르다': 1533, '불가': 1534, '웬만하다': 1535, '포스': 1536, '죄송하다': 1537, '한산': 1538, '아주머니': 1539, '밝다': 1540, '눕다': 1541, '홈': 1542, '멀쩡하다': 1543, '담': 1544, '화이팅': 1545, '지치다': 1546, '하나요': 1547, '모바일': 1548, '평이': 1549, '한편': 1550, '열리다': 1551, '걷다': 1552, '노인': 1553, '군': 1554, '반복': 1555, '범죄': 1556, '마냥': 1557, '차례': 1558, '마치': 1559, '빌리다': 1560, '요구': 1561, '뒤지다': 1562, '사회': 1563, '언제나': 1564, '법': 1565, '저런': 1566, '홈페이지': 1567, '어떤': 1568, '매력': 1569, '이야': 1570, '거부': 1571, '눅눅하다': 1572, '이란': 1573, '여드름': 1574, '대화': 1575, '곳곳': 1576, '습': 1577, '통제': 1578, '순서': 1579, '생선': 1580, '낭비': 1581, '나머지': 1582, '모름': 1583, '위험하다': 1584, '화질': 1585, '뻔': 1586, '씨': 1587, '차도': 1588, '생기': 1589, '검다': 1590, '저리': 1591, '대박': 1592, '차장': 1593, '들어서다': 1594, '하층': 1595, '백화점': 1596, '둘': 1597, '틱': 1598, '기기': 1599, '종일': 1600, '어린이': 1601, '합격': 1602, '예매': 1603, '기름': 1604, '케이크': 1605, '곧': 1606, '찍히다': 1607, '깎다': 1608, 'ㅈㄴ': 1609, '대신': 1610, '틀리다': 1611, '독립': 1612, '절벽': 1613, '연속': 1614, '복잡하다': 1615, '등린': 1616, '으론': 1617, '초입': 1618, '달리다': 1619, '팅': 1620, '저번': 1621, '맵': 1622, '잃다': 1623, '넘치다': 1624, '술': 1625, '분류': 1626, '제한': 1627, '신다': 1628, '차별': 1629, '는걸': 1630, '큐': 1631, '대면': 1632, '햇': 1633, '온라인': 1634, '그건': 1635, '로만': 1636, '매입': 1637, '살때': 1638, '유': 1639, '다치다': 1640, '잊다': 1641, '지우다': 1642, '부끄럽다': 1643, '일부': 1644, '인거': 1645, '가운데': 1646, '여성': 1647, '운전': 1648, '그렇다고': 1649, '직장': 1650, '입출금': 1651, '특별하다': 1652, '별개': 1653, '신기하다': 1654, '돌': 1655, '작업': 1656, '은근': 1657, '강': 1658, '꾸다': 1659, '겠다': 1660, '작년': 1661, '속이다': 1662, '많아지다': 1663, '주위': 1664, '순': 1665, '니깐': 1666, '닫히다': 1667, '디저트': 1668, '대리': 1669, '보라': 1670, '지나치다': 1671, '배치': 1672, '요원': 1673, '신뢰': 1674, '라섹': 1675, '약도': 1676, '이미지': 1677, 'ㅈ': 1678, '서서': 1679, '낡다': 1680, '대기업': 1681, '초보': 1682, '힘': 1683, '강아지': 1684, '개월': 1685, '현재': 1686, '마': 1687, '이하': 1688, '업체': 1689, '자리다': 1690, '가르치다': 1691, '자연': 1692, '전세': 1693, '이사': 1694, '겨울': 1695, '시국': 1696, '할아버지': 1697, '건강': 1698, '탓': 1699, '깊다': 1700, '그거': 1701, '최소한': 1702, '관람객': 1703, '애기': 1704, '플레이': 1705, '가을': 1706, '풍': 1707, '오기': 1708, '갓': 1709, '사가다': 1710, '무례하다': 1711, '아늑하다': 1712, '헤매다': 1713, '인성': 1714, '셈': 1715, '흡연실': 1716, '날다': 1717, '소변': 1718, '쎄다': 1719, '킹': 1720, '일산': 1721, '돌아다니다': 1722, '뼈': 1723, '이든': 1724, '원두': 1725, '버티다': 1726, '부족': 1727, '엉': 1728, '점심': 1729, '축제': 1730, '숨': 1731, '가격표': 1732, '공지': 1733, '넘기다': 1734, '한지': 1735, '적히다': 1736, '방송': 1737, '포인트': 1738, '적립': 1739, 'ㅠㅠㅠ': 1740, '앱': 1741, '준': 1742, '간반': 1743, '가득하다': 1744, '듭니': 1745, '진달래': 1746, '미터': 1747, '상냥하다': 1748, '집다': 1749, '구조': 1750, '년대': 1751, '대충대충': 1752, '상담사': 1753, '배그': 1754, '라식': 1755, '고요': 1756, '발목': 1757, '참고서': 1758, '어휴': 1759, '새다': 1760, '저수지': 1761, '최소': 1762, '칭찬': 1763, '여부': 1764, '김': 1765, '아기': 1766, '이신': 1767, '쓰이다': 1768, '만하': 1769, '년전': 1770, '신속하다': 1771, '짐': 1772, '차로': 1773, '전원': 1774, '도전': 1775, '구비': 1776, '정': 1777, '관도': 1778, '사운드': 1779, '수고': 1780, '매표소': 1781, '지난': 1782, '황당하다': 1783, '비롯': 1784, '돈까스': 1785, '완벽하다': 1786, '학번': 1787, '크림': 1788, '종료': 1789, '수정': 1790, '박스': 1791, '사먹다': 1792, '인공': 1793, '벌써': 1794, '체적': 1795, '어디서': 1796, '날짜': 1797, '프로': 1798, '써주다': 1799, '의미': 1800, '싹': 1801, '시민': 1802, '떡': 1803, '일도': 1804, '기간': 1805, '채소': 1806, '노력': 1807, '충분하다': 1808, '덮다': 1809, '오시': 1810, '직영': 1811, '놈': 1812, '꽃': 1813, '이래서': 1814, '중고서점': 1815, '간호': 1816, '실장': 1817, '관심': 1818, '청구': 1819, '화상': 1820, '선풍기': 1821, '레전드': 1822, '둘레길': 1823, '힐링': 1824, '금': 1825, '가입': 1826, '지도': 1827, '번째': 1828, '니당다': 1829, '부모님': 1830, '레이더스': 1831, '이래': 1832, '지는': 1833, '보단': 1834, '소개': 1835, '소아': 1836, '절': 1837, '와중': 1838, '년도': 1839, '파리': 1840, '여러가지': 1841, '빼': 1842, '까지만': 1843, '사이즈': 1844, '양쪽': 1845, '풀': 1846, '디': 1847, '고개': 1848, '전문의': 1849, '일어나다': 1850, '채굴': 1851, '속초': 1852, '안주': 1853, '국가': 1854, '대단하다': 1855, '쭉': 1856, '앞뒤': 1857, '시장': 1858, '시내': 1859, '신지': 1860, '장면': 1861, '회복': 1862, '가지다': 1863, '소독': 1864, '떼다': 1865, '표기': 1866, '디스크': 1867, '오류': 1868, '평': 1869, '프린트': 1870, '유지': 1871, '변': 1872, '지하철': 1873, '잠시': 1874, '폐업': 1875, '동생': 1876, '프로그램': 1877, '조치': 1878, '소고기': 1879, '신경질': 1880, '빵빵': 1881, '시트': 1882, '황당': 1883, '잔': 1884, '케이블카': 1885, '학원': 1886, '굿굿': 1887, '오르막': 1888, '야외': 1889, '쌀': 1890, '뿐이다': 1891, '기전': 1892, '페이': 1893, '배짱': 1894, '쏘다': 1895, '놓치다': 1896, '분명': 1897, '청소년': 1898, '망치다': 1899, '삼다': 1900, '감다': 1901, '와도': 1902, '자동차': 1903, '판단': 1904, '지방': 1905, '북카페': 1906, '의식': 1907, '커버': 1908, '처치': 1909, '지저분하다': 1910, '에다': 1911, '워': 1912, '교통': 1913, '접근성': 1914, '서로': 1915, '너희': 1916, '사정': 1917, '이정': 1918, '자동': 1919, '억': 1920, '먹음': 1921, '만난': 1922, '엘레베이터': 1923, '교체': 1924, '간병': 1925, '더움': 1926, '재료': 1927, '부터는': 1928, '안산': 1929, '의외로': 1930, '습하다': 1931, '번거롭다': 1932, '떠나다': 1933, '사오다': 1934, '먹기': 1935, '팩': 1936, '프레임': 1937, '에러': 1938, '시간대': 1939, '책임자': 1940, '다섯': 1941, '유도': 1942, '기만': 1943, '망가지다': 1944, '여러분': 1945, '대고': 1946, '안타깝다': 1947, '실행': 1948, '인게': 1949, '능력': 1950, '피다': 1951, '장관': 1952, '노후': 1953, '퀄리티': 1954, '보고오다': 1955, '하자': 1956, '아이스': 1957, '쉬': 1958, '흔들다': 1959, '상관': 1960, '강남': 1961, '경기': 1962, '쇼': 1963, '결정': 1964, '화보': 1965, '조성': 1966, '폭포': 1967, '기자': 1968, '예민하다': 1969, '끝내다': 1970, '착용': 1971, '플스': 1972, '채혈': 1973, '나빠지다': 1974, '창고': 1975, '일정': 1976, '급여': 1977, '스피커': 1978, '용하다': 1979, '탑건': 1980, '이어서': 1981, '앵': 1982, '나라': 1983, '지나': 1984, '평범하다': 1985, '비웃다': 1986, '가까이': 1987, '작동': 1988, '상해': 1989, '근': 1990, '닿다': 1991, '연장': 1992, '날림': 1993, '삼': 1994, '목적': 1995, '중기청': 1996, '적어도': 1997, '공용': 1998, '청결': 1999, '모양': 2000, '이비인후과': 2001, '부위': 2002, '이틀': 2003, '저렇게': 2004, '행위': 2005, '도수': 2006, '날리다': 2007, '얼른': 2008, '볼때': 2009, '가르다': 2010, '행동': 2011, '구림': 2012, '그지같다': 2013, '삼거리': 2014, '완만': 2015, '약하다': 2016, '구석': 2017, '휴': 2018, '뒷산': 2019, '합': 2020, '너무나': 2021, '지기': 2022, '지식': 2023, '부탁': 2024, '무척': 2025, '드디어': 2026, '휴업': 2027, '산책로': 2028, '스럽게': 2029, '강제': 2030, '던지다': 2031, '정문': 2032, '숙지': 2033, '결론': 2034, '줄어들다': 2035, '울리다': 2036, '불가하다': 2037, '골': 2038, '믿음': 2039, '서울대': 2040, '먼지': 2041, '환기': 2042, '체험': 2043, '돌보다': 2044, '강동': 2045, '성심': 2046, '간격': 2047, '돌발': 2048, '난청': 2049, '복숭아': 2050, '안동': 2051, '상관없다': 2052, '용품': 2053, '호': 2054, '수도권': 2055, '이어지다': 2056, '방해': 2057, '딱딱하다': 2058, '터미널': 2059, '관계자': 2060, '칠보산': 2061, '해발': 2062, '자랑': 2063, '온갖': 2064, '농협': 2065, '그닥': 2066, '거치다': 2067, '심야': 2068, '직전': 2069, '어머니': 2070, '위로': 2071, '기적': 2072, '토마토': 2073, '깨다': 2074, '별도': 2075, '클럽': 2076, '간혹': 2077, '커지다': 2078, '돌아보다': 2079, '이상은': 2080, '속상하다': 2081, '려': 2082, '나은': 2083, '감정': 2084, '할머니': 2085, '원인': 2086, '천장': 2087, '입학': 2088, '바코드': 2089, '이분': 2090, '손가락': 2091, '메리트': 2092, '헌책방': 2093, '양성': 2094, '종이': 2095, '죽이다': 2096, '끈': 2097, '만해': 2098, '과도': 2099, '벌다': 2100, '봉투': 2101, '인지도': 2102, '전용': 2103, '소견': 2104, 'ㅠㅜ': 2105, '우유': 2106, '업다': 2107, '싱싱하다': 2108, '센스': 2109, '공짜': 2110, '역대': 2111, '충격': 2112, '프리미엄': 2113, '한가하다': 2114, '안녕하다': 2115, '전문성': 2116, '국물': 2117, '홈플': 2118, '부천': 2119, '말함': 2120, '무려': 2121, '추하다': 2122, '장례식': 2123, '어찌': 2124, '그만두다': 2125, '남녀': 2126, '소중하다': 2127, '두세': 2128, '반품': 2129, '드릴': 2130, '볼일': 2131, '슬프다': 2132, '삼겹살': 2133, '아끼다': 2134, '누': 2135, '칸': 2136, '길어지다': 2137, '호전': 2138, '금요일': 2139, '생명': 2140, '째다': 2141, '당장': 2142, '본적': 2143, '다해': 2144, '개방': 2145, '며칠': 2146, '콜라': 2147, '팅기다': 2148, '난방': 2149, '바라보다': 2150, '차라': 2151, '라인': 2152, '갈비뼈': 2153, '평소': 2154, '다수': 2155, '폐점': 2156, '댓': 2157, '윗': 2158, '대체로': 2159, '스타': 2160, '내놓다': 2161, '환전': 2162, '찾아오다': 2163, '사려': 2164, '방중': 2165, '택시': 2166, '얼음': 2167, '쿠키': 2168, '똥': 2169, '그만': 2170, '조리': 2171, '재발': 2172, '그만큼': 2173, '그딴': 2174, '깨지다': 2175, '폰': 2176, '던데': 2177, '입장료': 2178, '실비': 2179, '동의': 2180, '존재': 2181, '오리': 2182, '더욱': 2183, '모시': 2184, '평택': 2185, '보다도': 2186, '어울리다': 2187, '권하다': 2188, '잘해주다': 2189, '알아듣다': 2190, '드물다': 2191, '부작용': 2192, '명소': 2193, '권유': 2194, '종합병원': 2195, '세심': 2196, '박사': 2197, '공장': 2198, '까지도': 2199, '신축': 2200, '억울하다': 2201, '아들': 2202, '고해': 2203, '기르다': 2204, '팔리다': 2205, '똑같이': 2206, '하나같이': 2207, '자세': 2208, '애초': 2209, '출렁': 2210, '토': 2211, '노량진': 2212, '연못': 2213, '전주': 2214, '개인정보': 2215, '보호': 2216, '정육': 2217, '어디가': 2218, '재학생': 2219, '순위': 2220, '관절': 2221, '심다': 2222, '녹다': 2223, '결재': 2224, '드라이브': 2225, '깨끗': 2226, '읍니': 2227, '어려움': 2228, '잡아먹다': 2229, '적임': 2230, '어떡하다': 2231, '잔뜩': 2232, '먹거리': 2233, '김포': 2234, '뉴스': 2235, '대중교통': 2236, '펴다': 2237, '혈압': 2238, '가버리다': 2239, '학습': 2240, '댐': 2241, '하든': 2242, '아이맥스': 2243, '스': 2244, '정비': 2245, '마찬가지': 2246, '우': 2247, '툭툭': 2248, '벌리다': 2249, '헛걸음': 2250, '꽝': 2251, '수원': 2252, '트이다': 2253, '정지': 2254, '이드': 2255, '최대': 2256, '합리': 2257, '꼴': 2258, '사업': 2259, '테이크아웃': 2260, '특유': 2261, '번은': 2262, '전달': 2263, '교통사고': 2264, '차단': 2265, '뱉다': 2266, '아빠': 2267, '겸': 2268, '미소': 2269, '북적': 2270, '신선': 2271, '슈퍼': 2272, '상가': 2273, '문자': 2274, '분당': 2275, '무책임하다': 2276, '내보내다': 2277, '왓': 2278, '피씨': 2279, '두번째': 2280, '설정': 2281, '시험': 2282, '이정표': 2283, '부서': 2284, '스테로이드': 2285, '정기': 2286, '로서': 2287, '사면': 2288, '인력': 2289, '경비': 2290, '느긋하다': 2291, '단지': 2292, '옥': 2293, '생활': 2294, '시대': 2295, '머리카락': 2296, '기타': 2297, '출입구': 2298, '북한': 2299, '문구': 2300, '최대한': 2301, '데이트': 2302, '충': 2303, '복불복': 2304, '기능': 2305, '가로수길': 2306, '개불': 2307, '국립': 2308, '이만': 2309, '기록': 2310, '평균': 2311, '걸음': 2312, '우동': 2313, '비우다': 2314, '칠': 2315, '의지': 2316, '커녕': 2317, '산재': 2318, '피파': 2319, '시경': 2320, '키로': 2321, '연하다': 2322, '흠': 2323, '넉': 2324, 'ㅋㅋㅋㅋㅋㅋ': 2325, '강추': 2326, '어마': 2327, '주기도': 2328, '비급': 2329, '캠핑장': 2330, '한숨': 2331, '일상': 2332, '알차다': 2333, '퇴': 2334, '포토': 2335, '몰카': 2336, '메모': 2337, '귀하다': 2338, '으로서': 2339, '지옥': 2340, '재다': 2341, '찢어지다': 2342, '쓴다': 2343, '음식물': 2344, '휴대폰': 2345, '잡담': 2346, '모교': 2347, '차병원': 2348, '어찌나': 2349, '고가': 2350, '맑다': 2351, 'ㅅ': 2352, '부드럽다': 2353, '싫어하다': 2354, '빨르다': 2355, '대여': 2356, '스마트': 2357, '인포': 2358, '중국': 2359, '성질': 2360, '공산품': 2361, '어보': 2362, '짤': 2363, '지상': 2364, '추석': 2365, '집앞': 2366, '딴': 2367, '아이스크림': 2368, '세종': 2369, '료': 2370, '사지': 2371, '고려': 2372, '보건소': 2373, '건너편': 2374, '유튜브': 2375, '점검': 2376, '보상': 2377, '지장': 2378, '전화번호': 2379, '바이러스': 2380, '산미': 2381, '최선': 2382, '절반': 2383, '결심': 2384, '피곤하다': 2385, '찝찝하다': 2386, '치즈': 2387, '수리': 2388, '죄다': 2389, '그다음': 2390, '수요일': 2391, '흐르다': 2392, '책임감': 2393, '우리나라': 2394, '철도': 2395, '리가': 2396, '이체': 2397, '소통': 2398, '열정': 2399, '착각': 2400, '중심': 2401, '사방': 2402, '비리다': 2403, '진동': 2404, '올려주다': 2405, '대서': 2406, '잃어버리다': 2407, '여행': 2408, '항의': 2409, '애매하다': 2410, '치가': 2411, 'ㅉㅉ': 2412, '장염': 2413, '큰소리': 2414, '비도': 2415, '튀김': 2416, '갈수록': 2417, '송탄': 2418, '경기도': 2419, '디지털': 2420, '제공': 2421, '각종': 2422, '이라니': 2423, '연구': 2424, '작품': 2425, '계장': 2426, '약국': 2427, '맛보다': 2428, '신사': 2429, '보건': 2430, '십': 2431, '카라멜': 2432, '분명하다': 2433, '들어주다': 2434, '기존': 2435, '나르다': 2436, '대안': 2437, '오신': 2438, 'ㄷㄷ': 2439, '조조': 2440, '넉넉하다': 2441, '갯수': 2442, '벌': 2443, '읍': 2444, '과자': 2445, '로프': 2446, '간식': 2447, '쉽다': 2448, '후시': 2449, '차원': 2450, '기재': 2451, '구성': 2452, '맘대로': 2453, '마는': 2454, '부리다': 2455, '여의사': 2456, '지불': 2457, '팬': 2458, '가보': 2459, '꺼리다': 2460, '밟다': 2461, '하고도': 2462, '복용': 2463, '형편': 2464, '호객': 2465, '시력': 2466, '운전자': 2467, '차리다': 2468, '불안하다': 2469, '시비': 2470, '찌르다': 2471, '얻다': 2472, '빨갛다': 2473, '드': 2474, '아치': 2475, '기표': 2476, '국': 2477, '티켓팅': 2478, '출산': 2479, '상처': 2480, '편의점': 2481, '파악': 2482, '미루다': 2483, '그저': 2484, '판': 2485, '짓다': 2486, '마이너스': 2487, '수없이': 2488, '갑': 2489, '온건': 2490, '핑계': 2491, '잦다': 2492, '규정': 2493, '리나': 2494, '여태': 2495, '유통': 2496, '계란': 2497, '바다': 2498, '컨디션': 2499, '새끼': 2500, '면접': 2501, '볶음밥': 2502, '전문대': 2503, '남편': 2504, '된거': 2505, '중이': 2506, '빨': 2507, '에그타르트': 2508, '사유': 2509, '청': 2510, '해드리다': 2511, '향기': 2512, '가루': 2513, '단발머리': 2514, '특정': 2515, '의문': 2516, '접종': 2517, '빛': 2518, '막상': 2519, '균': 2520, '더하다': 2521, '개설': 2522, '대기실': 2523, '보유': 2524, '그동안': 2525, '떡볶이': 2526, '올해': 2527, '판정': 2528, '끝내주다': 2529, '구토': 2530, '빨다': 2531, '진통제': 2532, '영어': 2533, '변기': 2534, '오니': 2535, '고지': 2536, '장갑': 2537, '고소하다': 2538, '남성': 2539, '시골': 2540, '시반': 2541, '해오다': 2542, '발전': 2543, '세계': 2544, '신세계': 2545, '북': 2546, '주거': 2547, '음식점': 2548, '개봉': 2549, '밀다': 2550, '상대로': 2551, '신촌': 2552, '물가': 2553, '새우': 2554, '부턴': 2555, '손톱': 2556, '외관': 2557, '자율': 2558, '십년': 2559, '기원': 2560, '의료인': 2561, '아기자기하다': 2562, '천천히': 2563, '시티': 2564, '벽': 2565, '플레인': 2566, '침대': 2567, '실적': 2568, '유방': 2569, '발병': 2570, '연꽃': 2571, '근방': 2572, '스토킹': 2573, '침해': 2574, '맹장': 2575, '옹': 2576, '졸업': 2577, '특성': 2578, '여자친구': 2579, '스타일': 2580, '부': 2581, '얼다': 2582, '탱': 2583, '우회': 2584, '휴가': 2585, '담하다': 2586, '라이딩': 2587, '천국': 2588, '활동': 2589, '자국': 2590, '가파르': 2591, '신나다': 2592, '부터가': 2593, '다운': 2594, '쌓다': 2595, '끌': 2596, '테': 2597, '국민': 2598, '시정': 2599, '소문': 2600, '만이': 2601, '더위': 2602, '바라지': 2603, '레이저': 2604, '혼나다': 2605, '특이하다': 2606, '주류': 2607, '행원': 2608, '감안': 2609, '어서': 2610, '마디': 2611, '놔두다': 2612, '아시': 2613, '흥미롭다': 2614, '쏠쏠하다': 2615, '벚꽃': 2616, '몰래': 2617, '교재': 2618, '구석구석': 2619, '십분': 2620, '양도': 2621, '인물': 2622, '부상': 2623, '훈련': 2624, '존': 2625, '산다': 2626, '스케줄': 2627, '고압': 2628, '명절': 2629, '타임': 2630, '일일': 2631, '동산': 2632, '끌다': 2633, '체온': 2634, '진하다': 2635, '피부병': 2636, '올려놓다': 2637, '기독교': 2638, '시오': 2639, '슴': 2640, '부스': 2641, '갈리다': 2642, '공휴일': 2643, '혼잡하다': 2644, '하늘': 2645, '박': 2646, '와이프': 2647, '지네': 2648, '대요': 2649, '이던': 2650, '진작': 2651, '마주치다': 2652, '양념': 2653, '끔찍하다': 2654, '부모': 2655, '복도': 2656, '모이다': 2657, '찌들다': 2658, '훨': 2659, '태어나다': 2660, '밭': 2661, '뿌리': 2662, '나요': 2663, '쌈': 2664, '주기': 2665, '종로': 2666, '분리': 2667, '스마트폰': 2668, '인기': 2669, '설립': 2670, '기술': 2671, '동일하다': 2672, '주산': 2673, '만으로도': 2674, '수령': 2675, '삭제': 2676, '월급': 2677, '신간': 2678, '분동': 2679, '저렴': 2680, '어느새다': 2681, '가치': 2682, '이구': 2683, '냉동': 2684, '파란': 2685, '직급': 2686, '껍질': 2687, '표지판': 2688, '후진': 2689, '숙이다': 2690, '아무렇다': 2691, '출근': 2692, '마무리': 2693, '단무지': 2694, '청결하다': 2695, '조절': 2696, '의대': 2697, '인식': 2698, '박히다': 2699, '신분증': 2700, '쌍욕': 2701, '화장': 2702, '신선도': 2703, '독서': 2704, '왠지': 2705, '가동': 2706, '조심': 2707, '긴장': 2708, '배고프다': 2709, '기운': 2710, '구리다': 2711, '카': 2712, '배정': 2713, '잘생기다': 2714, '닭': 2715, '청년': 2716, '반값': 2717, '각': 2718, '거지': 2719, '광덕사': 2720, '지켜보다': 2721, '목요일': 2722, '이용자': 2723, '흔하다': 2724, '앉히다': 2725, '쫒다': 2726, '기어': 2727, '가량': 2728, '경찰': 2729, '르': 2730, '통원': 2731, '찍기': 2732, '점포': 2733, '깊이': 2734, '정성': 2735, '약속': 2736, '신한': 2737, '라운지': 2738, '해지': 2739, '놀래다': 2740, '붉다': 2741, '억새': 2742, '단풍': 2743, '객': 2744, '이기': 2745, '도보': 2746, '밀리': 2747, '서도': 2748, '수영': 2749, '염': 2750, '냉방': 2751, '뿌리다': 2752, '철저하다': 2753, '주신': 2754, '이따': 2755, '쾌적': 2756, '년월': 2757, 'ㅅㄱ': 2758, '검': 2759, '문서': 2760, '거짓말': 2761, '망설이다': 2762, '못자다': 2763, '성모': 2764, '현장': 2765, '수액': 2766, '형식': 2767, '약물': 2768, '품': 2769, '불량하다': 2770, '킴스': 2771, '암튼': 2772, '팔고': 2773, '에다가': 2774, '정색': 2775, '이서': 2776, '봉지': 2777, '식다': 2778, '한결같이': 2779, '뵈다': 2780, '드림': 2781, '까칠하다': 2782, '냉장고': 2783, '춥다': 2784, '비만': 2785, '내야': 2786, '그럭저럭': 2787, '승질': 2788, '딸': 2789, '혈관': 2790, '나누다': 2791, '꿈': 2792, '얘': 2793, '분과': 2794, '서버': 2795, '공익': 2796, '김해': 2797, '빙빙': 2798, '몰리다': 2799, '웨이': 2800, '데크': 2801, '듬': 2802, '악': 2803, '흙': 2804, '빵집': 2805, '어어': 2806, '이딴': 2807, '융통성': 2808, '다다르다': 2809, '폐기': 2810, '요일': 2811, '입점': 2812, 'ㅋㅋㅋㅋㅋㅋㅋㅋ': 2813, '진정': 2814, '돋다': 2815, '열람': 2816, '맙시': 2817, '물르다': 2818, '권위': 2819, '최애': 2820, '렌즈': 2821, '안약': 2822, '데리': 2823, '짓거리': 2824, '겁': 2825, '의무': 2826, '고정': 2827, '방식': 2828, '에나': 2829, '그림': 2830, '멋': 2831, '카이스트': 2832, '의원': 2833, '에게는': 2834, '밝히다': 2835, '든지': 2836, '배식': 2837, '무겁다': 2838, '소비자': 2839, '한적': 2840, '대책': 2841, '에겐': 2842, '으로써': 2843, '복사': 2844, '잘나오다': 2845, '내면': 2846, '만큼은': 2847, '감상': 2848, '조명': 2849, '변하다': 2850, '듄': 2851, '해외': 2852, '증명서': 2853, '베스트셀러': 2854, '에서만': 2855, '면회': 2856, '신학': 2857, '깨': 2858, '의하다': 2859, '사이트': 2860, '홍보': 2861, '키트': 2862, '초코': 2863, '구멍': 2864, '헐다': 2865, '쓰리다': 2866, '지내다': 2867, '건너': 2868, '뛰다': 2869, '견사': 2870, '예금': 2871, '옆집': 2872, '경력': 2873, '빈': 2874, '신청': 2875, '탈모': 2876, '책임': 2877, '갈비': 2878, '구역': 2879, '진입': 2880, '주식': 2881, '어쩌': 2882, '법인': 2883, '용산': 2884, '영원하다': 2885, '안심': 2886, '반대': 2887, '구로': 2888, '업': 2889, '말르다': 2890, '국내': 2891, '주가': 2892, '한강': 2893, '파': 2894, '노답': 2895, '청주': 2896, '노소': 2897, '양재': 2898, '마저도': 2899, '박다': 2900, '실감': 2901, '오는': 2902, '나니': 2903, '생': 2904, '연결하다': 2905, '맡다': 2906, '다행': 2907, '마을': 2908, '소요': 2909, '제거': 2910, '얼그레이': 2911, '엇': 2912, '매주': 2913, '헉': 2914, '실망하다': 2915, '조사': 2916, '큐알': 2917, '취하': 2918, '불량': 2919, '어지럽다': 2920, '떨리다': 2921, '물리치료사': 2922, '관계': 2923, '최상': 2924, '완료': 2925, '월드': 2926, '수학': 2927, '그림책': 2928, '최저': 2929, '가나': 2930, '각도': 2931, '아트': 2932, '선생': 2933, '대처': 2934, '말고는': 2935, '전공': 2936, '건데': 2937, '놀람': 2938, '중환자실': 2939, 'ㅠㅠㅠㅠ': 2940, '부지': 2941, '깜놀': 2942, '자마자': 2943, '투': 2944, '살리다': 2945, '스틱': 2946, '에가': 2947, '가득': 2948, '제로': 2949, '사건': 2950, '자가': 2951, '꽉차다': 2952, '경남': 2953, '영등포': 2954, '시전': 2955, '만약': 2956, '지난번': 2957, '가죽': 2958, '족발': 2959, '심각': 2960, '일반인': 2961, '문진': 2962, '저기': 2963, '전이': 2964, '막말': 2965, '담기다': 2966, '상식': 2967, '누락': 2968, '올라서다': 2969, '어우러지다': 2970, '최강': 2971, '이스': 2972, '체력': 2973, '자료': 2974, '밝기': 2975, '송금': 2976, '폐렴': 2977, '응급진료': 2978, '테라스': 2979, '직장인': 2980, '스타벅스': 2981, '단계': 2982, '휠체어': 2983, '비슬산': 2984, '수영장': 2985, '사생활': 2986, '오락실': 2987, '그립다': 2988, '이어도': 2989, 'ㅠㅠㅠㅠㅠ': 2990, '스팀': 2991, '가스': 2992, '살아나다': 2993, '샐러드': 2994, '수건': 2995, '그따위': 2996, '춘천': 2997, '대출받다': 2998, '화비': 2999, '상담시': 3000, '남아': 3001, '쪽지': 3002, '소모': 3003, '넘어지다': 3004, '몹시': 3005, '임도': 3006, '하얗다': 3007, '보물': 3008, '모래': 3009, '가파른': 3010, '안녕': 3011, '박살': 3012, '내주다': 3013, '간이': 3014, '책사': 3015, '만점': 3016, '짖다': 3017, '까진': 3018, '음료수': 3019, '아르바이트생': 3020, '왤케': 3021, '눈빛': 3022, '스포츠': 3023, '님들': 3024, '란': 3025, '거지같다': 3026, '한도': 3027, 'ㅋㅋㅋㅋㅋㅋㅋㅋㅋ': 3028, '골프': 3029, '수시로': 3030, '둘러보기': 3031, '희다': 3032, '예절': 3033, '정수기': 3034, '마치다': 3035, '마침': 3036, '민망하다': 3037, '제주도': 3038, '접다': 3039, '중학교': 3040, '땅': 3041, '낚시터': 3042, '활용': 3043, '까맣다': 3044, '원칙': 3045, '일품': 3046, '스무디': 3047, '어유': 3048, '주네': 3049, '솜': 3050, '그만하다': 3051, '용량': 3052, '교정': 3053, '휴지': 3054, '부실하다': 3055, '부럽다': 3056, '라지': 3057, '기관': 3058, '단순': 3059, '마음대로': 3060, '격리': 3061, '주지': 3062, '본사': 3063, '곳임': 3064, '취업': 3065, '교': 3066, '감염': 3067, '감히': 3068, '캠핑': 3069, '둥': 3070, '대도': 3071, '점장님': 3072, '필요없다': 3073, '자유': 3074, '대상': 3075, '컵': 3076, '간만': 3077, '찬': 3078, '시절': 3079, '뱅킹': 3080, '쓸데없이': 3081, '덕주': 3082, '호소': 3083, '높이다': 3084, '잡히다': 3085, '시급하다': 3086, '어딜': 3087, '별거': 3088, '떼': 3089, '숨다': 3090, '간호학': 3091, '요시': 3092, '뒤쪽': 3093, '우연히': 3094, '보관': 3095, '씌우다': 3096, '지정': 3097, '종각': 3098, '오래오래': 3099, '개똥': 3100, '키보': 3101, '시계': 3102, '시가': 3103, '행정': 3104, '돼지': 3105, '정육점': 3106, '티나': 3107, '비치': 3108, '은혜': 3109, '기약': 3110, '감탄': 3111, '평타': 3112, '뵙다': 3113, '오르내리다': 3114, '헤어지다': 3115, '채용': 3116, '오랫': 3117, '바나나': 3118, '도저히': 3119, '중구': 3120, '정갈하다': 3121, '멋대로': 3122, '발길': 3123, '인스타': 3124, '최신': 3125, '광명': 3126, '보고서': 3127, '강하다': 3128, '입력': 3129, '회비': 3130, '가로': 3131, '번잡': 3132, '유아': 3133, '오프라인': 3134, '실화': 3135, '종': 3136, '기억나다': 3137, '분야': 3138, '쓰레기통': 3139, '긁다': 3140, '질환': 3141, '일방': 3142, '플랫': 3143, '화이트': 3144, '동물': 3145, 'ㅜㅠ': 3146, '구이': 3147, '다짜고짜': 3148, '빌다': 3149, '무선': 3150, '웃기다': 3151, '드네': 3152, '공개': 3153, '손등': 3154, '스티커': 3155, '잔잔하다': 3156, '주사실': 3157, '만의': 3158, '멀티플렉스': 3159, '요새': 3160, '팔걸이': 3161, '쏟다': 3162, '일본': 3163, '킴스클럽': 3164, '상한': 3165, '번만': 3166, '찔리다': 3167, '모델': 3168, '꺼내다': 3169, '대뜸': 3170, '고급': 3171, '대접': 3172, '분하다': 3173, '라볶이': 3174, '숟가락': 3175, '꼬치': 3176, '젓가락': 3177, '블루': 3178, '사설': 3179, '악취': 3180, '볼거리': 3181, '등급': 3182, '소아과': 3183, '주소': 3184, '신용': 3185, '와우': 3186, '저하': 3187, '핵': 3188, '이시고': 3189, '무사하다': 3190, '소품': 3191, '샵': 3192, '분전': 3193, '명도': 3194, '미성년': 3195, '오랫동안': 3196, '반대편': 3197, '전산': 3198, '섞이다': 3199, '론': 3200, '덜하다': 3201, '살펴보다': 3202, '마카롱': 3203, '아픔': 3204, '여느': 3205, '소스': 3206, '쩔다': 3207, '장군': 3208, '지각': 3209, '여분': 3210, '빈자리': 3211, '입지': 3212, '경제': 3213, '진자': 3214, '저장': 3215, '코드': 3216, '재수': 3217, '력': 3218, '아보': 3219, '설사': 3220, '추나': 3221, '상급': 3222, '슬': 3223, '한국어': 3224, '블랙': 3225, '따라가다': 3226, '탕': 3227, '으': 3228, '소설': 3229, '데려오다': 3230, '정돈': 3231, '중국인': 3232, '구리': 3233, '다이소': 3234, '대의': 3235, '파서': 3236, '독점': 3237, '치마': 3238, '깍': 3239, '혀': 3240, '거림': 3241, '따위': 3242, '베이커리': 3243, '협': 3244, '어른': 3245, '어처구니': 3246, '양호': 3247, '사가': 3248, '오줌': 3249, '수많다': 3250, '삶': 3251, '아마': 3252, '마저': 3253, '흉터': 3254, '화요일': 3255, '얼': 3256, '고딩': 3257, '두운': 3258, '염증': 3259, '차서': 3260, '베다': 3261, '보더': 3262, '우리동네': 3263, '이러하다': 3264, '곤란하다': 3265, '문병원': 3266, '낚시': 3267, '어떻': 3268, '과연': 3269, '배다': 3270, '위험': 3271, '편안함': 3272, '금정산': 3273, '돌려주다': 3274, '불만족': 3275, '현실': 3276, '런': 3277, '허다': 3278, '회귀': 3279, '군락': 3280, '종합': 3281, '내미다': 3282, '휴식': 3283, '안전하다': 3284, '어차피': 3285, '무한': 3286, '여친': 3287, '일어나서': 3288, '푹신하다': 3289, '팔지': 3290, '벗겨지다': 3291, '진과': 3292, '격': 3293, '케이스': 3294, '건성': 3295, '인도': 3296, '자빠지다': 3297, '안전': 3298, '맡기다': 3299, '후회되다': 3300, '출국': 3301, '뚫다': 3302, '가관': 3303, '수강신청': 3304, '지리다': 3305, '롯시': 3306, '산소': 3307, '신용카드': 3308, '알아주다': 3309, '케바케': 3310, '그치다': 3311, '축령산': 3312, '응원': 3313, '항문': 3314, '봣': 3315, '흥': 3316, '운행': 3317, '현수막': 3318, '용인': 3319, '급성': 3320, '사복': 3321, '보아': 3322, '사업자': 3323, 'ㄱ': 3324, '재미없다': 3325, '주어': 3326, '몰입': 3327, '시청': 3328, '막걸리': 3329, '건너다': 3330, '초기': 3331, '모으다': 3332, '라니': 3333, '채': 3334, '가슴': 3335, '고통': 3336, '조건': 3337, '체육관': 3338, '공통': 3339, '대가리': 3340, '치면': 3341, '우려': 3342, '코코넛': 3343, '돼지고기': 3344, '쓰러지다': 3345, '어머님': 3346, '보안': 3347, '스펙': 3348, '현상': 3349, '도심': 3350, '재난': 3351, '원금': 3352, '추후': 3353, '깜짝': 3354, '도장': 3355, '상실': 3356, '무인': 3357, '이외': 3358, '통과': 3359, '무지': 3360, '위아래': 3361, '그날': 3362, '말리다': 3363, '떠오르다': 3364, '퉁퉁': 3365, '구구구': 3366, '발가락': 3367, '장애': 3368, '흐리다': 3369, '달러': 3370, '양해': 3371, '두루': 3372, '죄': 3373, '해산물': 3374, '집도': 3375, '김치': 3376, '달콤': 3377, '수업': 3378, '스캔': 3379, '요리': 3380, '어두컴컴하다': 3381, '녹색': 3382, '유일': 3383, '중앙대': 3384, '덩어리': 3385, '통로': 3386, '아이스티': 3387, '극치': 3388, '틈': 3389, '찍': 3390, '바글바글': 3391, '비리': 3392, '더불다': 3393, '귀신': 3394, '바리': 3395, '랩': 3396, '체': 3397, '최': 3398, '전날': 3399, '리기': 3400, '리지': 3401, '허름': 3402, '정말로': 3403, '영혼': 3404, '심장': 3405, '누군가': 3406, '게시': 3407, '메': 3408, '조작': 3409, '공감': 3410, '붙잡다': 3411, '사태': 3412, '성인': 3413, '군포': 3414, '과학': 3415, '베이비': 3416, '겨': 3417, '천안': 3418, '기한': 3419, '섬세하다': 3420, '두드러기': 3421, '세월': 3422, '접촉': 3423, '정시': 3424, '미로': 3425, '수속': 3426, '전설': 3427, '신발': 3428, '샛길': 3429, '자재': 3430, '광주': 3431, '수십': 3432, '좀더': 3433, '식당가': 3434, '자랑스럽다': 3435, '파열': 3436, '완치': 3437, '방음': 3438, '악화': 3439, '한산하다': 3440, '쵝오': 3441, '인턴': 3442, '뒤늦다': 3443, '이글': 3444, '상쾌하다': 3445, '뱀': 3446, '극': 3447, '조무사': 3448, '초면': 3449, '첨부': 3450, '난이도': 3451, '궁예': 3452, '학과': 3453, '오우': 3454, '과를': 3455, '재수없다': 3456, '김안': 3457, '잠': 3458, '순대': 3459, '관절염': 3460, '등반': 3461, '음성': 3462, '기침': 3463, '프로세스': 3464, '동탄': 3465, '금은': 3466, '손상': 3467, '졸업생': 3468, '움직': 3469, '계정': 3470, '띄다': 3471, '아산병원': 3472, '곱다': 3473, '비상': 3474, '마취': 3475, '널': 3476, '메이': 3477, '띠': 3478, '발열': 3479, '주로': 3480, '테스트': 3481, '안이': 3482, '또는': 3483, '샴푸': 3484, '래서': 3485, '보수': 3486, '에게도': 3487, '드레싱': 3488, '무능하다': 3489, '만지다': 3490, '낙후': 3491, '거만하다': 3492, '잠실': 3493, '간판': 3494, '교양': 3495, '내려놓다': 3496, '동시': 3497, '씻다': 3498, '안달': 3499, '프라': 3500, '가정': 3501, '비빔밥': 3502, 'ㄱㅊ': 3503, '일몰': 3504, '좌측': 3505, '우리엄마': 3506, '비꼬다': 3507, '리필': 3508, '육': 3509, '저지르다': 3510, '따라서': 3511, '늙다': 3512, '과정': 3513, '호흡기': 3514, '우송대': 3515, '혜택': 3516, '지루하다': 3517, '꽁초': 3518, '고층': 3519, '호명': 3520, '장산': 3521, '재단': 3522, '서럽다': 3523, '권리': 3524, '의류': 3525, '구름다리': 3526, '길병원': 3527, '숙소': 3528, '구기다': 3529, '성하다': 3530, '샌드위치': 3531, '그러면': 3532, '훼손': 3533, '택배': 3534, '안마': 3535, '김진규': 3536, '소소하다': 3537, '삐걱': 3538, '불필요하다': 3539, '샤인': 3540, '애플': 3541, '이모': 3542, '축사': 3543, '피해자': 3544, '섬유': 3545, '유연제': 3546, '친환경': 3547, '미숙': 3548, '참꽃': 3549, '올림픽': 3550, '날씬하다': 3551, '전시': 3552, '가야대': 3553, '구름': 3554, '한라산': 3555, '역겹다': 3556, '선명하다': 3557, '인쇄': 3558, '타입': 3559, '절경': 3560, '수플레': 3561, '뉘앙스': 3562, '오아시스': 3563, '급경사': 3564, '놀랍다': 3565, '반찬': 3566, '보재': 3567, '내리락': 3568, '숲': 3569, '좌우': 3570, '마사토': 3571, '소나무': 3572, '탈출': 3573, '단풍나무': 3574, '만들기': 3575, '동영상': 3576, '성품': 3577, '리프': 3578, '성형': 3579, '쥐꼬리': 3580, '여럿': 3581, '모시다': 3582, '그래픽': 3583, '리안': 3584, '러닝': 3585, '차돌': 3586, '큰소리치다': 3587, '팩스': 3588, '골프장': 3589, '하우스': 3590, '랍시고': 3591, '에너지': 3592, '튕겨': 3593, '스마일': 3594, '시집': 3595, '책상': 3596, '분한': 3597, '요안': 3598, '살살': 3599, '구류': 3600, '말차': 3601, '다루다': 3602, '푹': 3603, '혼잣말': 3604, '거임': 3605, '가져다주다': 3606, '파이팅': 3607, '포켓몬빵': 3608, '미니': 3609, '진로': 3610, '배스': 3611, '잼': 3612, '어딨다': 3613, '아동': 3614, '전집': 3615, '망고': 3616, '어쨌든': 3617, '이해도': 3618, '동두천': 3619, '개통': 3620, '개장': 3621, '전통': 3622, '선교사': 3623, '바늘': 3624, '일회용': 3625, '알콜': 3626, '노랗다': 3627, '꽁': 3628, '달라지다': 3629, '침구': 3630, '학식': 3631, '점수': 3632, '사이사이': 3633, '물질': 3634, '수신': 3635, '중년': 3636, '언젠가': 3637, '의견': 3638, '학': 3639, '핀': 3640, '재촉': 3641, '쌔': 3642, '과중': 3643, '허탕': 3644, '대전': 3645, '시세': 3646, '올려다보다': 3647, '모찌': 3648, '아울렛': 3649, '이순신': 3650, '점원': 3651, '콤보': 3652, '더블': 3653, '연인': 3654, '막대': 3655, '맛탱': 3656, '한텐': 3657, '돌아서다': 3658, '년제': 3659, '아웃': 3660, '자라다': 3661, '친근하다': 3662, '맥주': 3663, '기차': 3664, '입산': 3665, '파트': 3666, '아이고': 3667, '팍팍': 3668, '함정': 3669, '세탁': 3670, '널널': 3671, '알려지다': 3672, '비비다': 3673, '민': 3674, '고하': 3675, '오은영': 3676, '레쉬': 3677, '샤워': 3678, '비누': 3679, '정석': 3680, '회장': 3681, '와플': 3682, '휴게소': 3683, '왠': 3684, '뜻': 3685, '측면': 3686, '안눌리': 3687, '한층': 3688, '본원': 3689, '밀려오다': 3690, '운주산성': 3691, '제안': 3692, '털리다': 3693, '닮다': 3694, '맥': 3695, '처벌': 3696, '꼬이다': 3697, '불고기': 3698, '멤버십': 3699, '만들어지다': 3700, '전면': 3701, '악덕': 3702, '열시': 3703, '재부팅': 3704, '쓰기': 3705, '별루': 3706, '악플': 3707, '헛소리': 3708, '변화': 3709, '포항': 3710, '심사': 3711, '거들다': 3712, '실패': 3713, '헷갈리다': 3714, '토론': 3715, '기여': 3716, '다차': 3717, '전보': 3718, '꽉': 3719, '표창장': 3720, '악보': 3721, '분리수거': 3722, '취향': 3723, '사소하다': 3724, '까먹다': 3725, '믄': 3726, '밍밍': 3727, '애견': 3728, '동반': 3729, '견주': 3730, '한장': 3731, '디자인': 3732, '즉석': 3733, '로얄': 3734, '라임': 3735, '일상생활': 3736, '청약': 3737, '마이': 3738, '제지': 3739, '다한': 3740, '테마': 3741, '집단': 3742, '림': 3743, '내지': 3744, '존중': 3745, '델리': 3746, '무지개': 3747, '전환': 3748, '남친': 3749, '계획': 3750, '사도': 3751, '휠': 3752, '후반': 3753, '차트': 3754, '다행하다': 3755, '화병': 3756, '호구': 3757, '속지': 3758, '미용': 3759, '지로': 3760, '튀기다': 3761, '맵다': 3762, '불가능하다': 3763, '뜸': 3764, '인수': 3765, '소규모': 3766, '고덕': 3767, '일자': 3768, '지속': 3769, '상주': 3770, '자동화': 3771, '휴일': 3772, '뚝': 3773, '고등학교': 3774, '가려지다': 3775, '낙엽': 3776, '익다': 3777, '퇴직': 3778, '거듭': 3779, '부실': 3780, '의도': 3781, '찢다': 3782, '욕먹다': 3783, 'ㅎㄷㄷ': 3784, '소음': 3785, '깍이다': 3786, '셔': 3787, '관광지': 3788, '일반석': 3789, '벤큐': 3790, '거미줄': 3791, '일행': 3792, '순번': 3793, '주먹구구': 3794, '진창': 3795, '기질': 3796, '삼성': 3797, '출신': 3798, '냉면': 3799, '스럽지': 3800, '원주': 3801, '보나': 3802, '독립영화': 3803, '퇴사': 3804, '신의': 3805, '목격': 3806, '부부': 3807, '부원장': 3808, '연수': 3809, '우기다': 3810, '열악하다': 3811, '족': 3812, '재주': 3813, '낭비하다': 3814, '갑질': 3815, '우롱': 3816, '육체': 3817, '사회생활': 3818, '고통스럽다': 3819, '헬': 3820, '설': 3821, '박원종': 3822, '의정부': 3823, '진표': 3824, '하래': 3825, '바보': 3826, '툭하면': 3827, '꾸리': 3828, '리도': 3829, '감성': 3830, '어딘가': 3831, '라이': 3832, '소변기': 3833, '명정': 3834, '평상시': 3835, '이마': 3836, '옥수수': 3837, '부다': 3838, 'ㅅㅅ': 3839, '감각': 3840, '해방촌': 3841, '크루': 3842, '별관': 3843, '졸라': 3844, '교대': 3845, '흔적': 3846, '나타나다': 3847, '웃음': 3848, '으으': 3849, '섞다': 3850, '에이': 3851, '밀도': 3852, '엘지': 3853, '메가마트': 3854, '덤': 3855, '아랫': 3856, '광': 3857, '부천역': 3858, '일렉트로': 3859, '필름': 3860, '탁': 3861, '제외': 3862, '용이': 3863, '키우다': 3864, '선불': 3865, '정제': 3866, '미흡하다': 3867, '훈계': 3868, '송': 3869, '메다': 3870, '컬': 3871, '맞은편': 3872, '햄버거': 3873, 'ㅆㄹㄱ': 3874, '대사': 3875, '아기자기': 3876, '모자라다': 3877, '표현': 3878, '원망하다': 3879, '에라도': 3880, '짚다': 3881, '작가': 3882, '적용': 3883, '닷': 3884, '복합': 3885, '실물': 3886, '의학': 3887, '트리': 3888, '카맵': 3889, '피하': 3890, '경비원': 3891, '쉰내': 3892, '물티슈': 3893, '오브': 3894, '밤시': 3895, '정착': 3896, '바퀴벌레': 3897, '초보자': 3898, '아아': 3899, '난국': 3900, '도무지': 3901, '범': 3902, '원점': 3903, '부재': 3904, '붕어': 3905, '절차': 3906, '라야': 3907, '과의': 3908, '만남': 3909, '주눅': 3910, '오렌지': 3911, '지연': 3912, '의뢰': 3913, '환하다': 3914, '분식': 3915, '영풍문고': 3916, '쑥': 3917, '비키다': 3918, '중복': 3919, '유독': 3920, '쥐': 3921, '평촌': 3922, '수산': 3923, '삶다': 3924, '덜다': 3925, '고용': 3926, '퍼센트': 3927, '포트': 3928, '도망치다': 3929, '소리치다': 3930, '캔': 3931, '안경점': 3932, '사거리': 3933, '한시': 3934, '해제': 3935, '마구': 3936, '행주': 3937, '셋': 3938, '상호': 3939, '팔이': 3940, '뚫리다': 3941, '정밀검사': 3942, '호출': 3943, '최적화': 3944, '광교': 3945, '구내식당': 3946, '주방': 3947, '심보': 3948, '하나로': 3949, '리얼': 3950, '성함': 3951, '일보': 3952, '마련': 3953, '차끌': 3954, '서리': 3955, '산도': 3956, '물량': 3957, '간호조무사': 3958, '생리': 3959, '아함': 3960, '원본': 3961, '깜빡': 3962, '두르다': 3963, '옵니다': 3964, '폭탄': 3965, '복': 3966, '추구': 3967, '세금': 3968, '발행': 3969, 'ㄷ': 3970, '썰렁하다': 3971, '안정': 3972, '혹은': 3973, '정자': 3974, '잉어': 3975, '충주': 3976, '월달': 3977, '호통': 3978, '교사': 3979, '폐교': 3980, '기지': 3981, '엿': 3982, '벨': 3983, '캠': 3984, '타운': 3985, '밀': 3986, '건대': 3987, '핫바': 3988, '어묵': 3989, '숙주': 3990, '일만': 3991, '쉰': 3992, '한정': 3993, '가리다': 3994, '강도': 3995, '으로의': 3996, '사료': 3997, '산본': 3998, '에여': 3999, '에어콘': 4000, '잘알다': 4001, '허락': 4002, '케잌': 4003, '나오니': 4004, '복부': 4005, '경고': 4006, '쵝': 4007, '가천대': 4008, '인재': 4009, '장임': 4010, '불쌍하다': 4011, '설거지': 4012, '창문': 4013, '반입': 4014, '엄격하다': 4015, '달달': 4016, '압구정': 4017, '국수': 4018, '환상': 4019, '꾸미다': 4020, '무심하다': 4021, '켜': 4022, '바닐라': 4023, '시도': 4024, '후배': 4025, '간지럽다': 4026, '그러니까': 4027, '볼라': 4028, '착오': 4029, '무너지다': 4030, '병점': 4031, '제기': 4032, '지면': 4033, '디지다': 4034, '꾹': 4035, '밀크': 4036, '게이트': 4037, '시킴': 4038, '원한': 4039, '자매': 4040, '워치': 4041, '정직': 4042, '후문': 4043, '지고': 4044, '만듬': 4045, '의아': 4046, '여지': 4047, '패': 4048, '의전': 4049, '이메일': 4050, '당직': 4051, '제목': 4052, '꼽': 4053, '급수': 4054, '나위': 4055, '방금': 4056, '누나': 4057, '할배': 4058, '임산부': 4059, '제도': 4060, '조직검사': 4061, '대접받다': 4062, '청주시': 4063, '체제': 4064, '아이폰': 4065, '한식': 4066, '호떡': 4067, '친정': 4068, '이천': 4069, '린다': 4070, '날로': 4071, '주더': 4072, 'ㅜㅜㅜ': 4073, '로스팅': 4074, '비뇨기': 4075, '안성': 4076, '평범': 4077, '대학생': 4078, '부대': 4079, '배부': 4080, '수백': 4081, '홍대': 4082, '경관': 4083, '득템': 4084, '몇십': 4085, '폐': 4086, '모자': 4087, '이기준': 4088, '호텔': 4089, '예식': 4090, '찜': 4091, '스테이크': 4092, '함수': 4093, '질리다': 4094, '뻥': 4095, '수집': 4096, '익': 4097, '간염': 4098, '단위': 4099, '디피': 4100, '고충': 4101, '윽': 4102, '뭐임': 4103, '무기': 4104, '그늘': 4105, '싱겁다': 4106, '정신차리다': 4107, '나아지다': 4108, '듣기': 4109, '덜덜': 4110, '당당하다': 4111, '목숨': 4112, '공영': 4113, '자금': 4114, '필요성': 4115, '까다롭다': 4116, '민증': 4117, '비회': 4118, '귀가': 4119, '오진': 4120, '협의': 4121, '이끌다': 4122, '흉부': 4123, '구동': 4124, '남여': 4125, '완공': 4126, '시루': 4127, '곰': 4128, '아람': 4129, '명작': 4130, '문학': 4131, '도깨비': 4132, '톡톡': 4133, '품다': 4134, '아산': 4135, '어쩌다': 4136, '계시': 4137, '딱이다': 4138, '이어폰': 4139, '자막': 4140, '검단산': 4141, '신속': 4142, '대장': 4143, '장보고': 4144, '문해': 4145, '울산': 4146, '셋팅': 4147, '내년': 4148, '미래': 4149, '퇴장': 4150, '논': 4151, '다가오다': 4152, '산업': 4153, '생생하다': 4154, '각오': 4155, '포도나무': 4156, '치유': 4157, '충격파': 4158, '괜': 4159, '프라이': 4160, '살수': 4161, '매년': 4162, '노래방': 4163, '찜통': 4164, '강력': 4165, '함부로': 4166, '척추': 4167, '면담': 4168, '피부질환': 4169, '아이러니': 4170, 'ㅣ': 4171, '엉덩이': 4172, '송계': 4173, '기흥': 4174, '잖다': 4175, '쓰시': 4176, '레지던트': 4177, '팍': 4178, '뒷문': 4179, '밧줄': 4180, '상단': 4181, '가지가지': 4182, '볶음': 4183, '의심스럽다': 4184, '고작': 4185, '도리': 4186, '혈액': 4187, '끓이다': 4188, '언급': 4189, '도르다': 4190, '마주': 4191, '접근': 4192, '산임': 4193, '돌기': 4194, '갑상선': 4195, '수량': 4196, '데려가다': 4197, '벽면': 4198, '목동': 4199, '함대': 4200, '하므다': 4201, '빈번': 4202, '환': 4203, '미화원': 4204, '하고는': 4205, '짜파게티': 4206, '거울': 4207, '나노미터': 4208, '붙들다': 4209, '내일': 4210, '도하': 4211, '일전': 4212, '조로': 4213, '배움': 4214, '꺽': 4215, '패스': 4216, '판독': 4217, '초등학생': 4218, '귓볼': 4219, '설마': 4220, '잠그다': 4221, '자고': 4222, '꽃대': 4223, '욥': 4224, '무단': 4225, '뚱뚱하다': 4226, '정원': 4227, '새치기': 4228, '한나절': 4229, '영봉': 4230, '지경': 4231, '수치': 4232, '토이저러스': 4233, '데리다': 4234, '블로그': 4235, '보톡스': 4236, '강사': 4237, '잼민': 4238, '세브란스': 4239, '다그': 4240, '생활비': 4241, '띄우다': 4242, '홍수': 4243, '씁쓸하다': 4244, '싸이다': 4245, '버터': 4246, '먹이다': 4247, '가능성': 4248, '칼': 4249, '브런치': 4250, '어수선하다': 4251, '이러니': 4252, '공기청정기': 4253, '중증': 4254, '출혈': 4255, '우왕좌왕': 4256, '햇빛': 4257, '숲속': 4258, '진주': 4259, '창원': 4260, '창렬': 4261, '뛰어다니다': 4262, '사원': 4263, '분비': 4264, '부근': 4265, '골고루': 4266, '자행': 4267, '연기': 4268, '낼': 4269, '번지': 4270, '노을': 4271, '창': 4272, '닳다': 4273, '거슬리다': 4274, '때우다': 4275, '홧팅': 4276, '치질': 4277, '업뎃': 4278, '마음먹다': 4279, '핫도그': 4280, '관할': 4281, '방지': 4282, '표지': 4283, '더러워지다': 4284, '공격': 4285, '기병': 4286, '업데이트': 4287, '비닐': 4288, '참조': 4289, '책보': 4290, '벗다': 4291, '랬': 4292, '리뉴얼': 4293, '발언': 4294, '압도': 4295, '에스': 4296, '쌀쌀': 4297, '겨자': 4298, '유실': 4299, '서너': 4300, '수수료': 4301, '체크카드': 4302, '알반': 4303, '짱짱': 4304, '로비': 4305, '구미': 4306, '비위생적': 4307, '딱좋다': 4308, '상천역': 4309, '팔각정': 4310, '초점': 4311, '음악분수': 4312, 'ㅏ': 4313, '온몸': 4314, '만드': 4315, '비율': 4316, '폐쇄': 4317, '엥': 4318, '서명': 4319, '사인': 4320, '송원': 4321, '이태원': 4322, '편임': 4323, '제휴': 4324, '월말': 4325, '면적': 4326, '사납다': 4327, '코피': 4328, '시위': 4329, '부정': 4330, '한심하다': 4331, '껏': 4332, '다른사람': 4333, '고막': 4334, '가맹': 4335, '훑다': 4336, '껀': 4337, '단어': 4338, '재직': 4339, '욕심': 4340, '찬찬하다': 4341, '양은': 4342, '인대': 4343, '충수염': 4344, '내외': 4345, '뇌': 4346, '연락처': 4347, '칵테일': 4348, '루': 4349, '항생제': 4350, '펼치다': 4351, '명성산': 4352, '일가': 4353, '부디': 4354, '관광': 4355, '태기산': 4356, '우울증': 4357, '방문객': 4358, '장난감': 4359, '타르트': 4360, '겉': 4361, '빌딩': 4362, '복구': 4363, '중하': 4364, '응급환자': 4365, '한남대': 4366, '고향': 4367, '뺏다': 4368, '싸': 4369, '센트럴': 4370, '김미진': 4371, '이대': 4372, '생리통': 4373, '하드': 4374, '오대양': 4375, '좌회전': 4376, '편견': 4377, '파워': 4378, '꼬': 4379, '대패': 4380, '관인': 4381, '방역': 4382, '스프': 4383, '무인기': 4384, '직통': 4385, '소름': 4386, '꼴랑': 4387, '엠알': 4388, '슬슬': 4389, '수산물': 4390, '문신': 4391, '숨막히다': 4392, '이득': 4393, '콜센터': 4394, '펀드': 4395, '시사회': 4396, '차근차근': 4397, '시로': 4398, '찌린': 4399, '태': 4400, '바이럴': 4401, '용마산': 4402, '식이': 4403, '실속': 4404, '찍찍': 4405, '동아': 4406, '영풍': 4407, '지뢰': 4408, '매출': 4409, '턱': 4410, '반성': 4411, '불통': 4412, '보람': 4413, '태풍': 4414, '핑크': 4415, '틀': 4416, '스테이션': 4417, '용기': 4418, '다양성': 4419, '쓸데없다': 4420, '증후군': 4421, '저러다': 4422, '허위': 4423, '가뜩이나': 4424, '유출': 4425, '잉': 4426, '이여': 4427, '어필': 4428, '케톤': 4429, '산증': 4430, '신권': 4431, '쪼개다': 4432, '사무직': 4433, '금제': 4434, '녹내장': 4435, '기업은행': 4436, '쌓이다': 4437, '동구': 4438, '도넛': 4439, '후각': 4440, '부림': 4441, '봉사': 4442, '과천': 4443, '매콤': 4444, '복수': 4445, '우릴': 4446, '볼링장': 4447, '적응': 4448, '힙': 4449, '소망': 4450, '광장': 4451, '비온': 4452, '경북': 4453, '뚝딱': 4454, '마전': 4455, '다지다': 4456, '정맥': 4457, '한창': 4458, '락': 4459, '낙옆': 4460, '온통': 4461, '멧돼지': 4462, '먹이': 4463, '개체': 4464, '인증': 4465, '봉우리': 4466, '거대하다': 4467, '숨기다': 4468, '철쭉': 4469, '시달리다': 4470, '싱글': 4471, '시체': 4472, '만화책': 4473, '조음': 4474, '맞이': 4475, '요별': 4476, '부담스럽다': 4477, '글씨': 4478, '사무실': 4479, '배후령': 4480, '나쵸': 4481, '쥐다': 4482, '임종': 4483, '지적': 4484, '닝': 4485, '대지': 4486, '삼십분': 4487, '처가': 4488, '추측': 4489, '평보': 4490, '뭡': 4491, '양보': 4492, '남알프스': 4493, '지은': 4494, '찜닭': 4495, '적당': 4496, '우거지': 4497, '독침': 4498, '구분': 4499, '절절': 4500, '가정의학': 4501, '몽촌호': 4502, '참관': 4503, '성추행': 4504, '본관': 4505, '구려': 4506, '정면': 4507, '서귀포': 4508, '완성': 4509, '작업장': 4510, '안대': 4511, '응급처치': 4512, '프라임': 4513, '등록금': 4514, '냉동식품': 4515, '지성': 4516, '신학대': 4517, '하나님': 4518, '주님': 4519, '평신도': 4520, '도합': 4521, '실습생': 4522, '글쓰기': 4523, '태우다': 4524, '레벨': 4525, '라며': 4526, '카라반': 4527, '박하다': 4528, '보충': 4529, '투자': 4530, '충남대': 4531, '사립': 4532, '구르다': 4533, '득': 4534, '턱스': 4535, '제출': 4536, '백병원': 4537, '부경대': 4538, '불신': 4539, '자존심': 4540, '센티': 4541, '브': 4542, '연차': 4543, '채다': 4544, '좋아욘': 4545, '오냐': 4546, '한계': 4547, '시점': 4548, '수덕사': 4549, '도비': 4550, '사하다': 4551, '홍': 4552, '현대': 4553, '절하': 4554, '반영': 4555, '고치': 4556, '흔들리다': 4557, '후딱': 4558, '바란': 4559, '베스트': 4560, '조정': 4561, '불친철': 4562, '상동': 4563, '보안요원': 4564, '풋': 4565, '졸리다': 4566, '출판물': 4567, '사시': 4568, '만천원': 4569, '절판': 4570, '희귀': 4571, '원내': 4572, '책값': 4573, '충무로': 4574, '주유소': 4575, '버거킹': 4576, '도계': 4577, '배추': 4578, '썰다': 4579, '얄': 4580, '연휴': 4581, '인파': 4582, '치밀다': 4583, '비행기': 4584, '황': 4585, '롭': 4586, '타이': 4587, '까지로': 4588, '도봉산': 4589, '가산': 4590, '물리다': 4591, '마사지': 4592, '오이': 4593, '한진': 4594, '그룹': 4595, '특별시': 4596, '라던가': 4597, '월정사': 4598, '불교': 4599, '양주': 4600, '옵션': 4601, '한쪽': 4602, '스퀘어원': 4603, '안구건조증': 4604, '회복하다': 4605, '웬만큼': 4606, '예민': 4607, '뾰족': 4608, '아우성': 4609, '조각': 4610, '고산': 4611, '전동면': 4612, '일대': 4613, '고산사': 4614, '고분': 4615, '매가': 4616, '앵무새': 4617, '한판': 4618, '싱그럽다': 4619, '관찰': 4620, '살피다': 4621, '돌비': 4622, '녹음': 4623, '습니다': 4624, '주호': 4625, '베드': 4626, '달걀': 4627, '타일': 4628, '선하다': 4629, '더군다나': 4630, '궁금': 4631, '치료법': 4632, '불법': 4633, '장애인': 4634, '불어': 4635, '왈': 4636, '고액': 4637, '거절': 4638, '켜지다': 4639, '개표': 4640, '무작정': 4641, '한의대': 4642, '젊음': 4643, '절로': 4644, '총학생회': 4645, '칠하다': 4646, '애정': 4647, '여가': 4648, '대구': 4649, '승인': 4650, '받아들이다': 4651, '어케': 4652, '예방접종': 4653, '정해': 4654, '파일': 4655, '개꿀띠': 4656, '번역': 4657, '이수': 4658, '호선': 4659, '열차': 4660, '없애다': 4661, '간편': 4662, '찬란하다': 4663, '조국': 4664, '강산': 4665, '앞날': 4666, '선봉': 4667, '조경': 4668, '나눔': 4669, '주요': 4670, '거치': 4671, '설령': 4672, '바램': 4673, '자상하다': 4674, '감염병': 4675, '인내심': 4676, '소식': 4677, '모닝': 4678, '멀뚱멀뚱': 4679, '초등학교': 4680, '강남역': 4681, '식빵': 4682, '근사하다': 4683, '미숫가루': 4684, '청량산': 4685, '헤드폰': 4686, '분실물': 4687, '기쁘다': 4688, '서영은': 4689, '댜': 4690, '탕수육': 4691, '시중': 4692, '껌': 4693, '튕기거': 4694, '회선': 4695, '날아가다': 4696, '유학생': 4697, '중학생': 4698, '맺다': 4699, '국적': 4700, '스벅': 4701, '묘': 4702, '둘러싸다': 4703, '감시': 4704, '입맛': 4705, '의상': 4706, '위기': 4707, '집합': 4708, '가해자': 4709, '국민카드': 4710, '뭣': 4711, '혜': 4712, '원숭이': 4713, '통풍': 4714, '고의': 4715, '스페이스바': 4716, '이빨': 4717, '이슈': 4718, '가다가': 4719, '주제': 4720, '재수술': 4721, '잘나가다': 4722, '재건축': 4723, '형성': 4724, '콘센트': 4725, '갈이': 4726, '가라아게': 4727, '전자렌지': 4728, '평판': 4729, '접속': 4730, '괴물': 4731, '토나오다': 4732, '하이라이트': 4733, '수질': 4734, '거북이': 4735, '또다른': 4736, '명칭': 4737, '평택시': 4738, '편리': 4739, '전담': 4740, '겜방': 4741, '무안': 4742, '컨트롤': 4743, '기계로': 4744, '차지': 4745, '도도': 4746, '다인': 4747, '삐': 4748, '약사': 4749, '신건': 4750, '성비': 4751, '아이템': 4752, '항만': 4753, '과민반응': 4754, '병력': 4755, '추움': 4756, '률': 4757, '실천': 4758, '폭리': 4759, '갤럭시': 4760, '세대': 4761, '사라': 4762, '흠잡다': 4763, '지지': 4764, '갈바': 4765, '신림': 4766, '폭도': 4767, '스튜': 4768, '이탈리아': 4769, '서산': 4770, '열무김치': 4771, '전복': 4772, '완구': 4773, '폭염': 4774, '괴롭다': 4775, '망막': 4776, '다라': 4777, '잠실역': 4778, '비탈': 4779, '코끼리': 4780, '홍성': 4781, '바지락': 4782, '할인점': 4783, '겉옷': 4784, '어우': 4785, '땅바닥': 4786, '체육': 4787, '시들다': 4788, '물리': 4789, '기리': 4790, '착상': 4791, '멘탈': 4792, '용소': 4793, '장판': 4794, '승격': 4795, '명목': 4796, '기념': 4797, '호불호': 4798, '응답': 4799, '저만': 4800, '눈물나다': 4801, '고열': 4802, '조선': 4803, '다말': 4804, '주임': 4805, '실하다': 4806, '불안': 4807, '원가': 4808, '넘어오다': 4809, '주머니': 4810, '한류': 4811, '겉보기': 4812, '간병인': 4813, '듯함': 4814, '우주': 4815, '인자': 4816, '썪': 4817, '선곡': 4818, '산만하다': 4819, '무니': 4820, '사드': 4821, '시지': 4822, '리셉션': 4823, '석도': 4824, '무조': 4825, '앵앵': 4826, '마비': 4827, '퇴실': 4828, '상회': 4829, '선착순': 4830, '말로': 4831, '목구멍': 4832, '세도': 4833, '긋다': 4834, '하하호호': 4835, '칼빈': 4836, '감옥': 4837, '쾅': 4838, '하하': 4839, '경로': 4840, '절터': 4841, '유리': 4842, '판도': 4843, '암벽': 4844, '삐끗': 4845, '닥터': 4846, '혼돈': 4847, '언니': 4848, '고프다': 4849, '식은땀': 4850, '담날': 4851, '가봣는데': 4852, '경이': 4853, '시르다': 4854, 'ㄴ': 4855, '소풍': 4856, '오해': 4857, '만만하다': 4858, '큰코다치다': 4859, '출판': 4860, '끼치다': 4861, '털': 4862, '고문': 4863, '판매원': 4864, '아이돌': 4865, '요란하다': 4866, '사계절': 4867, '도의': 4868, '낭': 4869, '옵': 4870, '층관': 4871, '급식': 4872, '일해': 4873, '배터리': 4874, '층별': 4875, '피로': 4876, '꽁치': 4877, '문정동': 4878, '장보기': 4879, '남명': 4880, '골다': 4881, '손짓': 4882, '워딩': 4883, '공산': 4884, '소하': 4885, '하는둥': 4886, '약품': 4887, '돌산': 4888, '딸내미': 4889, '북부': 4890, '입도': 4891, '입안': 4892, '번가': 4893, '지침': 4894, '미사': 4895, '스스로': 4896, '까닭': 4897, '붕괴': 4898, '것임': 4899, '행복': 4900, '살아가다': 4901, '자꾸만': 4902, '답답': 4903, '월요일': 4904, '운동화': 4905, '승': 4906, '끊음': 4907, '취식': 4908, '알기': 4909, '사무': 4910, '용이하다': 4911, '수박': 4912, '책좀': 4913, '심플': 4914, '칙': 4915, '캐다': 4916, '댕': 4917, '잡지': 4918, '과제': 4919, '수단': 4920, '아방궁': 4921, '투약': 4922, '스태프': 4923, '묶다': 4924, '혜자': 4925, '분교': 4926, '본교': 4927, '학부': 4928, '철새': 4929, '돈대': 4930, '땡기다': 4931, '외환': 4932, '육성': 4933, '골목': 4934, '입문': 4935, '군부': 4936, '파괴': 4937, '용문산': 4938, '제주': 4939, '잣나무': 4940, '연어': 4941, '궁리': 4942, '이뤄지다': 4943, '섬': 4944, '다람쥐': 4945, '웃기': 4946, '한국인': 4947, '성지': 4948, '모말': 4949, '묶음': 4950, '기고': 4951, '식감': 4952, '스팸': 4953, '달전': 4954, '넌': 4955, '숫자': 4956, '의존': 4957, '전교': 4958, '몽블랑': 4959, '분배': 4960, '젠데': 4961, '정신과': 4962, '맛있슴': 4963, 'ㅂㄹ': 4964, '서비스업': 4965, '뚱하다': 4966, '특징': 4967, '안방': 4968, '외우다': 4969, '문어': 4970, '보건복지부': 4971, '공공': 4972, '미지근하다': 4973, '인프라': 4974, '거사': 4975, '소주': 4976, '백내장': 4977, '만주': 4978, '애도': 4979, '피우다': 4980, '도로로': 4981, '마약': 4982, '학점': 4983, '만년': 4984, '일명': 4985, '쾅쾅': 4986, '주관': 4987, '이로': 4988, '비일비재하다': 4989, '부활': 4990, '이뿌다': 4991, '징징': 4992, '나대다': 4993, '육류': 4994, '댓글알바': 4995, '아오': 4996, '굿즈들': 4997, '기세': 4998, '저렇다': 4999, '눈물': 5000, '그중': 5001, '명감': 5002, '일체': 5003, '다대기': 5004, '원균': 5005, '드러내다': 5006, '짬': 5007, '임신': 5008, '산모': 5009, '당근': 5010, '설겆': 5011, '하수': 5012, '뽕': 5013, '일쑤': 5014, '금일': 5015, '푼': 5016, '농산물': 5017, '털다': 5018, '샷건': 5019, '장치': 5020, '다다': 5021, '수월하다': 5022, '친척': 5023, '버튼': 5024, '확보': 5025, '탐폰': 5026, '넥슨': 5027, '어쩐지': 5028, '손절': 5029, '개추움': 5030, '단속': 5031, '신장결석': 5032, '녹색병원': 5033, '느끼하다': 5034, '곳앞': 5035, '빼빼': 5036, 'ㅆㄱㅈ': 5037, '안주시': 5038, '부평': 5039, '해대': 5040, '공인': 5041, '인증서': 5042, '츄': 5043, '어짜피': 5044, '반개': 5045, '보존': 5046, '친철': 5047, '항암': 5048, '고수': 5049, '승가대': 5050, '덩치': 5051, '혈안': 5052, '지명': 5053, '목사': 5054, '거미': 5055, '낚': 5056, '번의': 5057, '단단하다': 5058, '씨지브이': 5059, '글러': 5060, '매봉산': 5061, '수록': 5062, '마케팅': 5063, '실상': 5064, '수명': 5065, '신설': 5066, '장안': 5067, '소량': 5068, '적도': 5069, '썩': 5070, '파바': 5071, '새끼손가락': 5072, '무표정': 5073, '깨끗해지다': 5074, '노상': 5075, '케찹': 5076, '아인': 5077, '슈페': 5078, '패키지': 5079, '쓸모': 5080, '장도': 5081, '탑점': 5082, '펜': 5083, '어두움': 5084, '즁': 5085, '라기': 5086, '책정': 5087, '오목': 5088, '망치': 5089, '두드리다': 5090, '누룽지': 5091, '일간': 5092, '해주': 5093, '근육': 5094, '스러운': 5095, '이니까': 5096, '다녀가다': 5097, '안기다': 5098, '포케': 5099, '스탑': 5100, '낳다': 5101, '와이드': 5102, '부채질': 5103, '문지기': 5104, '어쩌구': 5105, '층문': 5106, '천왕봉': 5107, '내리막': 5108, '버세': 5109, '참견': 5110, '무도': 5111, 'ㅋㅋㅋㅋㅋㅋㅋㅋㅋㅋ': 5112, 'ㅋㅋㅋㅋㅋㅋㅋㅋㅋㅋㅋㅋ': 5113, '낫': 5114, '이함': 5115, '불가능': 5116, '외모': 5117, '뭉치다': 5118, '피지': 5119, '쪽팔리다': 5120, '마찰': 5121, '보조': 5122, '협소함': 5123, '쫌': 5124, '즉': 5125, '질병': 5126, '유무': 5127, '대량': 5128, '적지': 5129, '유쾌하다': 5130, '촉': 5131, '제법': 5132, '열무': 5133, '조만간': 5134, '식탁': 5135, '환자복': 5136, '메인': 5137, '엉뚱하다': 5138, '예스': 5139, '대동서': 5140, '따름': 5141, '따리': 5142, '도중': 5143, '차선': 5144, '한자': 5145, '간절하다': 5146, '약자': 5147, '바꿈': 5148, '용진': 5149, '버금': 5150, '색다르다': 5151, '때때로': 5152, '슬리퍼': 5153, '선배': 5154, '음산하다': 5155, '초반': 5156, '안내받다': 5157, '회피': 5158, '문도': 5159, '남아돌다': 5160, '난생': 5161, '펼쳐지다': 5162, '함박스테이크': 5163, '시각': 5164, '실명': 5165, '누군지': 5166, '틱틱대': 5167, '구도': 5168, '쿠션': 5169, '장천': 5170, '만요': 5171, '방임': 5172, '핀잔': 5173, '달이': 5174, '건의': 5175, '핫초코': 5176, '단맛': 5177, '초콜릿': 5178, '당당': 5179, '경쟁력': 5180, '협박': 5181, '왓는데': 5182, '쭈욱': 5183, '억지로': 5184, '피크닉': 5185, '안중': 5186, '흘긋': 5187, '싸움': 5188, '박박': 5189, '박정희': 5190, '주중': 5191, '박아': 5192, '응급의학': 5193, '빗물': 5194, '만치': 5195, '색깔': 5196, '독특하다': 5197, '음가': 5198, '스케쥴': 5199, '다래끼': 5200, 'ㅋㅋㅋㅋㅋㅋㅋ': 5201, '패킹': 5202, '적금': 5203, '섹션': 5204, '산성': 5205, '면박': 5206, '포탈': 5207, '괴석': 5208, '황금': 5209, '프론트': 5210, '여주': 5211, '김밥': 5212, '소문나다': 5213, '이음': 5214, '걸치다': 5215, '피부관리': 5216, '스캐너': 5217, '역할': 5218, '손맛': 5219, '토리': 5220, '기선': 5221, '미식': 5222, '유제품': 5223, '부치다': 5224, '과로': 5225, '동행': 5226, '슬쩍': 5227, '살이': 5228, '다이렉트': 5229, '연석': 5230, '아내': 5231, '던': 5232, '재교육': 5233, '공학': 5234, '섭': 5235, '풍부하다': 5236, '쉐이크': 5237, '복귀': 5238, '완벽': 5239, '서교동': 5240, '타워': 5241, '소파': 5242, '답사': 5243, '육봉': 5244, '차오르다': 5245, '숨소리': 5246, '반면': 5247, '결혼식': 5248, '신안': 5249, '겹': 5250, '어쩌려': 5251, '당사자': 5252, '징계': 5253, '무지하다': 5254, '공실이': 5255, '남산': 5256, '최하': 5257, '묶여서': 5258, '와는': 5259, '맑은': 5260, '이따위': 5261, '가타': 5262, '식대': 5263, '커피집': 5264, '뒤죽박죽': 5265, '병점역': 5266, '부족함': 5267, '명당': 5268, '상환': 5269, '원리금': 5270, '상위': 5271, '대다수': 5272, '만이라도': 5273, '함차': 5274, '어지럼증': 5275, '핸폰': 5276, '철학': 5277, '푸다': 5278, '세시': 5279, '참치': 5280, '여사': 5281, '단가': 5282, '차액': 5283, '이구나': 5284, '단순하다': 5285, '전경': 5286, '케': 5287, '사용자': 5288, '최고봉': 5289, '베이스': 5290, '의욕': 5291, '이리저리': 5292, '스킬': 5293, '장창': 5294, '자제': 5295, '하이마트': 5296, '형님': 5297, '이천원': 5298, '천황산': 5299, '고인': 5300, '드랍': 5301, '총장': 5302, '국민대': 5303, '기껏': 5304, '방사선': 5305, '오심': 5306, '외장하드': 5307, '만화방': 5308, '공룡': 5309, '버니': 5310, '한국사': 5311, '요술': 5312, '키즈': 5313, '루크': 5314, '똑똑': 5315, '누리': 5316, '베이트': 5317, '탄탄': 5318, '베이': 5319, '핑': 5320, '개성': 5321, '회색': 5322, '콩나물': 5323, '설교': 5324, '트렌드': 5325, '틀어지다': 5326, '조깅': 5327, '매월': 5328, '만큼도': 5329, '지시': 5330, '탑승': 5331, '니넨': 5332, '아시아': 5333, '건설': 5334, '무덥다': 5335, '헬기장': 5336, '처지': 5337, '후려치다': 5338, '전후': 5339, '융퉁': 5340, '성도': 5341, '산림': 5342, '벤치': 5343, '강화도': 5344, '성벽': 5345, '찜질방': 5346, '손세정제': 5347, '대박나다': 5348, '노원': 5349, '이라고는': 5350, '극복': 5351, '품절': 5352, '하인': 5353, '커피전문점': 5354, '팬시': 5355, '현직': 5356, '성공하다': 5357, '자퇴': 5358, '와의': 5359, '한해대': 5360, '설계': 5361, '진촤': 5362, '기독': 5363, '권사': 5364, '앤': 5365, '도우': 5366, '개원': 5367, '합의': 5368, '유가': 5369, 'ㅉ': 5370, '그렇지만': 5371, '의료행위': 5372, '공무원': 5373, '여군': 5374, '반년': 5375, '구나': 5376, '배성준': 5377, '람': 5378, '잽싸다': 5379, '갈래': 5380, '월금': 5381, '뺑뺑': 5382, '빗': 5383, '녀석': 5384, '마이카': 5385, '곡': 5386, '최단': 5387, '아이젠': 5388, '감수': 5389, 'ㄳ': 5390, '필히': 5391, '상상': 5392, '부어': 5393, '공유': 5394, '고만하다': 5395, '커뮤니케이션': 5396, '공동': 5397, '연고': 5398, '약인': 5399, '하마': 5400, '백만원': 5401, '판이': 5402, '과보': 5403, '선호': 5404, '산속': 5405, '윤원': 5406, '어린시절': 5407, '회관': 5408, '최신영': 5409, '테이': 5410, '마우스패드': 5411, '지수': 5412, '고등법원': 5413, '후보': 5414, '로써': 5415, '답지': 5416, '풀이': 5417, '디스플레이': 5418, '껀데': 5419, '해석': 5420, '양제': 5421, '여전': 5422, '여자애': 5423, '일기': 5424, '게임기': 5425, '난소': 5426, '물혹': 5427, '수술실': 5428, '연세': 5429, '누리다': 5430, '오뎅': 5431, '운주사': 5432, '가파름': 5433, '약수터': 5434, '산악회': 5435, '숙련': 5436, '건성건성': 5437, '걱정스럽다': 5438, '출장': 5439, '한잔': 5440, '화재': 5441, '트러블': 5442, '케어': 5443, '괜춘': 5444, '빼기': 5445, '베테': 5446, '텅텅': 5447, '낙동강': 5448, '외지': 5449, '러': 5450, '충수': 5451, '용감': 5452, '대교': 5453, '과기대': 5454, '거짓': 5455, '레몬에이드': 5456, '미륵도': 5457, '김천': 5458, '거제': 5459, '견내량': 5460, '당포': 5461, '두시': 5462, '고성': 5463, '머무르다': 5464, '팔찌': 5465, '이송': 5466, '종업원': 5467, '접': 5468, '가안': 5469, '시흥': 5470, '선정': 5471, '입김': 5472, '어리둥절하다': 5473, '쩐내': 5474, '열심': 5475, '오늘이': 5476, '망정': 5477, '낮추다': 5478, '왜냐구요': 5479, '상편': 5480, '슴니': 5481, '과지': 5482, '만도': 5483, '지랄': 5484, '궁': 5485, '초록색': 5486, '물때': 5487, '무얼': 5488, '형태': 5489, '필드': 5490, '강릉': 5491, '전문점': 5492, '비지': 5493, '재정': 5494, '최고다': 5495, '데코': 5496, '가구': 5497, '가짜': 5498, '직관': 5499, '인건비': 5500, '대학원': 5501, '골반': 5502, '누굴': 5503, '전전': 5504, '롱': 5505, '자생': 5506, '월악산': 5507, '원만': 5508, '혼란': 5509, '거도': 5510, '천하다': 5511, '챠트': 5512, '새록새록': 5513, '친하다': 5514, '큰일': 5515, '엄지발가락': 5516, '기하': 5517, '어두침침하다': 5518, '진짜진짜': 5519, '내쫓다': 5520, '아이콘': 5521, '트럭': 5522, '대남': 5523, '쿠쿠': 5524, 'ㅗ': 5525, '거려': 5526, '천지': 5527, '여름밤': 5528, '디테': 5529, '한때': 5530, '양옆': 5531, '수면': 5532, '드립': 5533, '로그인': 5534, '한의원': 5535, '반일': 5536, '모노레일': 5537, '편도': 5538, '팻말': 5539, '장르': 5540, '초딩': 5541, '이천의료원': 5542, '이형': 5543, '모악산': 5544, '미사일': 5545, '자녀': 5546, '의예': 5547, '전형': 5548, '타고나다': 5549, '연세대': 5550, '수능': 5551, '정확도': 5552, '강동구': 5553, '일지': 5554, '조회': 5555, '호사': 5556, '대략': 5557, '개똥컴': 5558, '원활하다': 5559, '과대': 5560, '링겔': 5561, '한림': 5562, '세면대': 5563, '연골': 5564, '잠기다': 5565, '학년': 5566, '팡': 5567, '투성이': 5568, '경의': 5569, '이보': 5570, '서울특별시': 5571, '삼성동': 5572, '찌푸리다': 5573, '치고는': 5574, '백석': 5575, '통속': 5576, '커턴': 5577, '진공': 5578, '주택': 5579, '착공': 5580, '종기': 5581, '티라미수': 5582, '닭강정': 5583, '피어싱': 5584, '상시': 5585, '치매': 5586, '출입통제': 5587, '감당': 5588, '야단': 5589, '고만': 5590, '반응': 5591, '처참하다': 5592, '자부심': 5593, '슼': 5594, '쉬는시간': 5595, '일수록': 5596, '웨': 5597, '존경': 5598, '하고프다': 5599, '명예': 5600, '가래': 5601, '노동': 5602, '일텐데': 5603, '초도': 5604, '농심': 5605, '오뚜기': 5606, '월경': 5607, '유발': 5608, '위트': 5609, '고속도로': 5610, '이원장': 5611, '하필': 5612, '아카시아': 5613, '산길': 5614, '잘쓰다': 5615, '에코': 5616, '멘트': 5617, '세븐': 5618, '틴': 5619, '도난': 5620, '끼우다': 5621, '살갑': 5622, '추세': 5623, '불산': 5624, '자격': 5625, '틱틱': 5626, '럼': 5627, '분잡': 5628, '가야산': 5629, '빛번짐': 5630, '윈도우': 5631, '버전': 5632, '구급차': 5633, '시신': 5634, '개별': 5635, '수도꼭지': 5636, '점주': 5637, '첫째': 5638, '부품': 5639, '수련': 5640, '따라오다': 5641, '수시': 5642, '진산': 5643, '고대로': 5644, '조무': 5645, '준수': 5646, '쉬움': 5647, '비번': 5648, '높아지다': 5649, '앓다': 5650, '외국': 5651, '덧': 5652, '지원이': 5653, '가주': 5654, '오열': 5655, '구장': 5656, '숲길': 5657, '깔깔': 5658, '초심': 5659, '판교': 5660, '어째': 5661, '불쾌감': 5662, '빼먹다': 5663, '신호': 5664, '출금': 5665, '논현': 5666, '넵': 5667, '말귀': 5668, '한국은행': 5669, '모서리': 5670, '파트장': 5671, '책임지다': 5672, '비염': 5673, '아무튼': 5674, '이남': 5675, '저축': 5676, '욜라': 5677, '투덜대다': 5678, '개꿀': 5679, '본대': 5680, '예방': 5681, '좌': 5682, '구산': 5683, '무전': 5684, '더욱더': 5685, '쇼파': 5686, '두부': 5687, '해상도': 5688, '런처': 5689, '적반하장': 5690, '조금씩': 5691, '우측': 5692, '봉정': 5693, '마장': 5694, '헬기': 5695, '잔돈': 5696, '발권': 5697, '반의': 5698, '석류': 5699, '종교': 5700, '동성애': 5701, '퇴짜': 5702, '밑줄': 5703, '뭍': 5704, '답안': 5705, '의학과': 5706, '한눈': 5707, '오른': 5708, '세부': 5709, '역서': 5710, '차후': 5711, '비공개': 5712, '유추': 5713, '영향': 5714, '용산역': 5715, '오프': 5716, '율': 5717, '탁하다': 5718, '당분간': 5719, '내시': 5720, '물폭탄': 5721, '젖다': 5722, '랜덤': 5723, '마지기': 5724, '몽글': 5725, '박지르다': 5726, '핫': 5727, '씨앗': 5728, '동문': 5729, '윤석열': 5730, '너무나도': 5731, '일괄': 5732, '헌': 5733, '용도': 5734, '쩐다': 5735, '금리': 5736, '산기슭': 5737, '이비': 5738, '시선': 5739, '글쎄': 5740, '잡아내다': 5741, '사천원': 5742, '영종도': 5743, '디스': 5744, '진수': 5745, '근거리': 5746, '바구니': 5747, '분원': 5748, '용다': 5749, '천리': 5750, '청력': 5751, '커튼': 5752, '완전하다': 5753, '도망가다': 5754, '예기': 5755, '개덕': 5756, '프리': 5757, '보장': 5758, '미접': 5759, '종자': 5760, '강조': 5761, '신규': 5762, '뇨': 5763, '쭉쭉': 5764, '레옹': 5765, '안경원': 5766, '됫': 5767, '압출': 5768, '커피숍': 5769, '다나': 5770, '부팅': 5771, '볼펜': 5772, '오금': 5773, '클라스': 5774, '안고': 5775, 'ㅆㅏ': 5776, '번쩍': 5777, '신기': 5778, '입성': 5779, '화살표': 5780, '까지라고': 5781, '구색': 5782, '청춘': 5783, '경품': 5784, '조합': 5785, '이세': 5786, '비트': 5787, '녹음기': 5788, '군사': 5789, '왕건': 5790, '군대': 5791, '늘어나다': 5792, '인계': 5793, '워낙': 5794, '살인마': 5795, '횡성': 5796, '군수': 5797, '뒷담화': 5798, '다짐': 5799, '교회': 5800, '콩팥': 5801, '포르투갈': 5802, '랩핑': 5803, '롤러코스터': 5804, '셔틀버스': 5805, '시간표': 5806, '빙수': 5807, '스시': 5808, '리해': 5809, '갤러리': 5810, '갓길': 5811, '생태': 5812, '오란': 5813, '자식': 5814, '땜시': 5815, '합천': 5816, '영관': 5817, '목쪽': 5818, '로시': 5819, '함허': 5820, '예상': 5821, '중임': 5822, '트레킹': 5823, '가가': 5824, '오르락': 5825, '웨이팅': 5826, 'ㅂ': 5827, '올리브영': 5828, '볕': 5829, '조차도': 5830, '어의': 5831, '진짜루': 5832, '보신': 5833, '재접': 5834, '레이드': 5835, '메세지': 5836, '참나': 5837, '투여': 5838, '바르다': 5839, '어쩌면': 5840, '거고': 5841, '베리': 5842, '응': 5843, '소한': 5844, '기대다': 5845, '이색': 5846, '홀': 5847, '넨': 5848, '공연장': 5849, '휙': 5850, '노은역': 5851, '환승': 5852, '재래시장': 5853, '샷': 5854, '스리': 5855, '브로': 5856, '전하': 5857, '맹장염': 5858, '얌전하다': 5859, '일동': 5860, '방구': 5861, '마구마구': 5862, '배우자': 5863, '소금': 5864, '싸이코': 5865, '방배역': 5866, 'ㅠㅠㅠㅠㅠㅠ': 5867, '부인과': 5868, '세라': 5869, '젬': 5870, '번갈아': 5871, '클락': 5872, '쓱': 5873, '앞차': 5874, '콜': 5875, '전동': 5876, '수렴': 5877, '랜드': 5878, '레시피': 5879, '정해지다': 5880, '간시': 5881, '멀더': 5882, '염좌': 5883, '놀러와': 5884, '령': 5885, '이예': 5886, '수습': 5887, '니요': 5888, '극혐': 5889, '아무래도': 5890, '산정': 5891, '청주대': 5892, '심리': 5893, '언덕': 5894, '로봇': 5895, '만큼의': 5896, '버': 5897, '에서부터': 5898, '독수리': 5899, '로운': 5900, '거저': 5901, '동쪽': 5902, '자살': 5903, '파업': 5904, '반나절': 5905, '탄산': 5906, '낙성대': 5907, '통행': 5908, '간결하다': 5909, '안식처': 5910, '노맛': 5911, '데우다': 5912, '아마도': 5913, '명문': 5914, '개운하다': 5915, '렵': 5916, '판다': 5917, '려면': 5918, '차내': 5919, '라자냐': 5920, '공항': 5921, '유효하다': 5922, '분량': 5923, '스탭들': 5924, '다정': 5925, '비운': 5926, '무식하다': 5927, '플라스틱': 5928, '난생처음': 5929, '풀리다': 5930, '쫓아오다': 5931, '정병주': 5932, '변두리': 5933, '비밀번호': 5934, '몰리': 5935, '질도': 5936, '여행사': 5937, '농': 5938, '화장품': 5939, '투썸': 5940, '비거': 5941, '금도': 5942, '급니': 5943, '접시': 5944, '갠': 5945, '라성': 5946, '수년': 5947, '실시': 5948, '염려': 5949, '웨딩': 5950, '뚝뚝': 5951, '일차': 5952, '경쟁': 5953, '붙이': 5954, '차앤박': 5955, '부가': 5956, '엘레': 5957, '밑바닥': 5958, '재차': 5959, '갚다': 5960, '미가': 5961, '산지': 5962, '자극': 5963, '외식': 5964, '회엄사': 5965, '스캣': 5966, '생애': 5967, '사악하다': 5968, '픽업': 5969, '거실': 5970, '앞세우다': 5971, '구해': 5972, '군기': 5973, '바이': 5974, '쾌쾌': 5975, '도둑': 5976, '체형': 5977, '출입문': 5978, '교직원': 5979, '짝': 5980, '개극혐': 5981, '검수': 5982, '두기': 5983, '시행': 5984, '뜨겁다': 5985, '제련소': 5986, '정식': 5987, '천성산': 5988, '똥개': 5989, '숨쉬기': 5990, '현저': 5991, '감은사지': 5992, '석탑': 5993, '용연': 5994, '로드': 5995, '노려보다': 5996, '도박': 5997, '경호원': 5998, '상술': 5999, '변명': 6000, '강의': 6001, '구성원': 6002, '민주주의': 6003, '남지': 6004, '창가': 6005, '가려진': 6006, '풍기다': 6007, '파주': 6008, '의학용어': 6009, '반바지': 6010, '차요': 6011, '먹히다': 6012, '수동': 6013, '정책': 6014, '거름': 6015, '인걸': 6016, '닭볶음탕': 6017, '파김치': 6018, '에서의': 6019, '정부': 6020, '요도': 6021, '참내': 6022, '파스타': 6023, '신입생': 6024, '보구': 6025, '삐지다': 6026, '시늉': 6027, '슈가버블': 6028, '각각': 6029, '노트북': 6030, '슬라이드': 6031, '대방역': 6032, '거주': 6033, '편집': 6034, '만날': 6035, '는가': 6036, '영감': 6037, '후려': 6038, '하드웨어': 6039, '왜케': 6040, '탱자': 6041, '화성': 6042, '쿠싱': 6043, '메모리': 6044, '간신히': 6045, '죽겠네': 6046, '이동해': 6047, '철골': 6048, '로스트': 6049, '아크': 6050, '성격': 6051, '징글징글': 6052, '텐데': 6053, '자연휴양림': 6054, '뒤편': 6055, '만발': 6056, '경사지다': 6057, '가해': 6058, '하산시': 6059, '매진': 6060, '셔틀': 6061, '절정': 6062, '비계': 6063, '따지다': 6064, '손해배상': 6065, '엄중하다': 6066, '교과서': 6067, '홍익': 6068, '무대': 6069, '무색': 6070, '랄': 6071, '허참': 6072, '관쪽': 6073, '배경': 6074, '모던': 6075, '색': 6076, '박물관': 6077, '김영훈': 6078, '로간': 6079, '세명': 6080, '명승': 6081, '흑': 6082, '당뇨': 6083, '로리': 6084, '프로그래밍': 6085, '식권': 6086, '창궐': 6087, '물고기': 6088, '유선': 6089, '일베': 6090, '관아': 6091, '백화': 6092, '조명도': 6093, '초대': 6094, '실태': 6095, '각자': 6096, '악평': 6097, '오토바이': 6098, '정정': 6099, '백원': 6100, '펄': 6101, '마싯다': 6102, '운치': 6103, '다음주': 6104, '양치': 6105, '안동시': 6106, '호반로': 6107, '중평': 6108, '인텔': 6109, '성령님': 6110, '출판사': 6111, '관리인': 6112, '이웃': 6113, '대판': 6114, '생산': 6115, '반드시': 6116, '뒤차': 6117, '깨점': 6118, '흰색': 6119, '로고': 6120, '논술': 6121, '호룡곡단': 6122, '조난': 6123, '장통': 6124, '굽': 6125, '포대': 6126, '다지': 6127, '탈주': 6128, '환급': 6129, '치아': 6130, '조아': 6131, '드릅': 6132, '민폐': 6133, '석플란트': 6134, '당산': 6135, '둘러싸이다': 6136, '그렇케': 6137, '잠도': 6138, '메일': 6139, '김형': 6140, '완충': 6141, '파손': 6142, '요로결석': 6143, '층임': 6144, '문제점': 6145, '풍구': 6146, '물빛': 6147, '방문자': 6148, '발톱': 6149, '낙상': 6150, '강정': 6151, '대게': 6152, '중국어': 6153, '수원역': 6154, '총무': 6155, '늘어놓다': 6156, '엔딩': 6157, '크레딧': 6158, '기안동': 6159, '안통': 6160, '팬케이크': 6161, '평창': 6162, '드럼': 6163, '뙤약볕': 6164, '취항': 6165, '강원': 6166, '배액관': 6167, '코노': 6168, '이사오': 6169, '명대': 6170, '동강': 6171, '아무나': 6172, '보다야': 6173, '필링': 6174, '밍숭밍숭했어': 6175, '허옇': 6176, '반반하다': 6177, '뜨내기': 6178, '선셋': 6179, '거르': 6180, '아유': 6181, '명상': 6182, '야탑역': 6183, '더할껄': 6184, '합계': 6185, '고도': 6186, '열량': 6187, '생선묵': 6188, '경로당': 6189, '한남금북정맥': 6190, '잘라지다': 6191, '복원': 6192, '터널': 6193, '괴산군': 6194, '향합': 6195, '까지의': 6196, '파릅': 6197, '면목': 6198, '위용': 6199, '다오': 6200, '진개': 6201, '참나무': 6202, '박달나무': 6203, '물푸레나무': 6204, '목전': 6205, '가뀌어': 6206, '애마': 6207, '스타렉스': 6208, '여정': 6209, '석양': 6210, '저물다': 6211, '동사': 6212, '당진': 6213, '추워지다': 6214, '약수': 6215, '자전거타기': 6216, '갇어': 6217, '래일': 6218, '캐시': 6219, '구수하다': 6220, '유아교육': 6221, '용호': 6222, '파로호': 6223, '용화산': 6224, '갈림길': 6225, '영화니': 6226, '요전': 6227, '가신': 6228, '바스': 6229, '호스피스': 6230, '검토': 6231, '뭉클하다': 6232, 'ㅍ': 6233, 'ㅅㅇ': 6234, '여신': 6235, '신림역': 6236, '상이': 6237, '쫌더': 6238, '브룩스': 6239, '철수': 6240, '저금': 6241, '지폐': 6242, '따로따로': 6243, '위대': 6244, '파채': 6245, '기어이': 6246, '우기': 6247, '시더': 6248, '개조': 6249, '개교': 6250, '양말': 6251, '똥꼬': 6252, '발랄': 6253, '한의학': 6254, '어딘': 6255, '날기': 6256, '마음껏': 6257, '백만배': 6258, '붕대': 6259, '손쉽다': 6260, '악재': 6261, '공과': 6262, '실리다': 6263, '이엏': 6264, '평화': 6265, '에문': 6266, '훈': 6267, '교하': 6268, '해군': 6269, '쁘': 6270, '장위': 6271, '빈번히': 6272, '갑자': 6273, '스렌': 6274, '에타': 6275, '브루': 6276, '정신건강': 6277, '움관': 6278, '데도': 6279, '상함': 6280, '지라': 6281, '데기': 6282, '나왓는데': 6283, '대유': 6284, '쩌내': 6285, '짛문': 6286, '동탄신도시': 6287, '푸슉': 6288, '으어억': 6289, '광역버스': 6290, '육회': 6291, '컨설턴트': 6292, '영성': 6293, '예수교': 6294, '장로회': 6295, '선지': 6296, '목회자': 6297, '역자': 6298, '드립커피': 6299, '실습': 6300, '티어': 6301, '체온계': 6302, '양면': 6303, '귀지': 6304, '수긍': 6305, '내부고발': 6306, '말고도': 6307, '덜달': 6308, '쌍수': 6309, '넌센스': 6310, '학교면': 6311, '마네': 6312, '겜튕겨': 6313, '리좀': 6314, '임키': 6315, '찐득거리다': 6316, '안테나': 6317, '제재': 6318, '안겹칠때': 6319, '어려웟음': 6320, '핏자국': 6321, '미흡': 6322, '대중': 6323, '경전철': 6324, '부울경': 6325, '예상외': 6326, '동아대': 6327, '출근시간': 6328, '영구차': 6329, '남부': 6330, '순환로': 6331, '적대': 6332, '린저': 6333, '도감': 6334, '분류기': 6335, '트라우마': 6336, '서요': 6337, '엔진': 6338, '위스키': 6339, '뻑뻑': 6340, '레알': 6341, '밑단': 6342, '만당': 6343, '팥': 6344, '엔제리너스': 6345, '다산': 6346, '스페이스': 6347, '개보': 6348, '송천': 6349, '상업': 6350, '과격하다': 6351, '성희롱': 6352, '익숙해지다': 6353, '낳을': 6354, '닭갈비': 6355, '삼삼오오': 6356, '욕창': 6357, '가젤': 6358, '서하': 6359, '들보': 6360, '삿는데': 6361, '덩이': 6362, '신태일': 6363, '인풋': 6364, 'ㅇㄷ': 6365, '철밥통': 6366, 'ㄹㅇㅋㅋ': 6367, '알덴테': 6368, '동숲': 6369, '브금': 6370, '권값': 6371, '본도': 6372, '고원': 6373, '싸이': 6374, '화정': 6375, '제정': 6376, '꼬마': 6377, '여유롭다': 6378, '섬기다': 6379, '몬주': 6380, '아지': 6381, '취업률': 6382, '강원대학교': 6383, 'ㅇㅅ': 6384, '갈라': 6385, '슬어있': 6386, '싫어지다': 6387, '플러스': 6388, '널럴': 6389, '몰려오다': 6390, '퓨터': 6391, '능': 6392, '송능리': 6393, '홀려': 6394, '매수': 6395, '너구리': 6396, '정구': 6397, '체감': 6398, '서운산': 6399, '서운하다': 6400, '도너츠': 6401, '칭': 6402, '을해': 6403, '빗대다': 6404, '비난': 6405, '피어': 6406, '문명': 6407, '모야': 6408, '군인': 6409, '중공군': 6410, '사단': 6411, '주둔': 6412, '오로지': 6413, '지하실': 6414, '거더': 6415, '송월후': 6416, '타월': 6417, '아모레퍼시픽': 6418, '조중훈': 6419, '임광': 6420, '고려대학교': 6421, '만인': 6422, '인산': 6423, '가파르구': 6424, '다듬어지다': 6425, '산적': 6426, '오대산': 6427, '진고': 6428, '봉소': 6429, '금강': 6430, '승려': 6431, '강도짓': 6432, '나이트클럽': 6433, '불경': 6434, '참선': 6435, '조계종': 6436, '타락하다': 6437, '천박하다': 6438, '부도탑': 6439, '금값': 6440, '엘': 6441, '스페셜': 6442, '평이하다': 6443, '김영': 6444, '동춘역': 6445, '화장지': 6446, '안녕하십니까': 6447, '요다음': 6448, '분다': 6449, '고서': 6450, '자하문로': 6451, '키메라': 6452, '동봉': 6453, '사절': 6454, '평온하다': 6455, '특별자치시': 6456, '전의면': 6457, '역순': 6458, '성곽': 6459, '삽도': 6460, '떳든데': 6461, '호젓하다': 6462, '예고편': 6463, '앞줄': 6464, '매표': 6465, '액자': 6466, '당초': 6467, '덜컥': 6468, '수락': 6469, '없슴': 6470, '설봉산': 6471, '불리하다': 6472, '족족': 6473, '적접': 6474, '풀기': 6475, '바랬다': 6476, '팔면': 6477, '몆배': 6478, '산신령': 6479, '유레카': 6480, '김민정': 6481, '협진': 6482, '김현진': 6483, '관광객': 6484, '활공': 6485, '헤결': 6486, '사업가': 6487, '퀸': 6488, '사내': 6489, '상사': 6490, '모션': 6491, '한가득': 6492, '시급': 6493, '이상주': 6494, '공기업': 6495, '혈세': 6496, '차분해지다': 6497, '장조림': 6498, '지팡이': 6499, '미비하다': 6500, '차주': 6501, '나비': 6502, '열도': 6503, '수수방관': 6504, '승용차': 6505, '곱추': 6506, '썬팅': 6507, '랏': 6508, '월화': 6509, '목금': 6510, '부숴': 6511, '학대': 6512, '맏': 6513, '촉박': 6514, '아드님': 6515, '뱅': 6516, '가드': 6517, '라이엇': 6518, '방책': 6519, '어설프다': 6520, '매몰': 6521, '높낮이': 6522, '키도': 6523, '본체': 6524, '데탑': 6525, '설마설마': 6526, '기차역': 6527, '의술': 6528, '자성': 6529, '설문': 6530, '보완': 6531, '쇄신': 6532, '전민동': 6533, '엽떡': 6534, '맘에듭니': 6535, '전국구': 6536, '권력': 6537, '군림': 6538, '곁눈질': 6539, '해처': 6540, '뚱녀': 6541, '재량': 6542, '선의': 6543, '늬앙스': 6544, '뇌물': 6545, '월등하다': 6546, '앞서': 6547, '지포스': 6548, '반하다': 6549, '이선': 6550, '빡세': 6551, '새삼': 6552, '청명역': 6553, '통차': 6554, '모임': 6555, '변환': 6556, '처넌': 6557, '온수': 6558, '석남': 6559, '방면': 6560, '갈아타다': 6561, '이수역': 6562, '남성역': 6563, '겨레': 6564, '대열': 6565, '메롱이': 6566, '이나마': 6567, '외진': 6568, '피크': 6569, 'ㅊㅇ': 6570, '봉사활동': 6571, '주가조작': 6572, '여학생': 6573, '재밋': 6574, '파시': 6575, '로움': 6576, '플로': 6577, '송산': 6578, '연상': 6579, '땡떙': 6580, '독촉': 6581, '경차': 6582, '환영': 6583, '피부관리법': 6584, '제시': 6585, '로스터스': 6586, '다썻으': 6587, '경악': 6588, '역삼': 6589, '황점': 6590, '석사': 6591, '아스팔트': 6592, '구룡사': 6593, '시종일관': 6594, '간단': 6595, '밥류': 6596, '꼬들꼬들': 6597, '인디고': 6598, '밥맛': 6599, '민박하다': 6600, '일주': 6601, '포스팅': 6602, '시안': 6603, '회전초밥': 6604, '벙쪄': 6605, '시라': 6606, '보너스': 6607, '불합격': 6608, '분해': 6609, '교카': 6610, '맛도뤼': 6611, '편두통': 6612, '처방약': 6613, '들깨': 6614, '삼계탕': 6615, '텀': 6616, '빠릿빠릿': 6617, '미트': 6618, '성남동': 6619, '심지': 6620, '다난': 6621, '만세': 6622, '껄삣하': 6623, '튕기': 6624, '유지관리': 6625, '호두나무': 6626, '표범': 6627, '도곡역': 6628, '성관계': 6629, '혐의': 6630, '성폭행': 6631, '네팔': 6632, '방글라데시': 6633, '단월드': 6634, '소양호': 6635, '한껏': 6636, '엑스트라': 6637, '늘어지다': 6638, '위례권': 6639, '위례': 6640, '위례내': 6641, '기강': 6642, '온기': 6643, '종량제': 6644, '막창집': 6645, '강능': 6646, '갓음': 6647, '혜제': 6648, '빠': 6649, '궤도': 6650, '헬창인줄': 6651, '착': 6652, '소홀하다': 6653, '입양': 6654, '윗줄': 6655, '다분하다': 6656, '짙다': 6657, '이쯤': 6658, '성상': 6659, '하소연': 6660, '욬': 6661, '클릭': 6662, '앞차빨': 6663, '싸이코패스': 6664, '스포츠머리': 6665, '정당하다': 6666, '눈데': 6667, '사후관리': 6668, '번지르르': 6669, '잠수': 6670, '깐깐하다': 6671, '격하': 6672, '안맜': 6673, '충당': 6674, '채집': 6675, '습도': 6676, '육박': 6677, '자정': 6678, '꼽으': 6679, '멀티탭': 6680, '틀어놓다': 6681, '송풍기': 6682, '빠삭': 6683, '베너': 6684, '강남구청역': 6685, '설봉': 6686, '드문드문': 6687, '벽화': 6688, '여염': 6689, '고덕동': 6690, '상공회의소': 6691, '라코스트': 6692, '성원': 6693, '신한카드': 6694, '라라': 6695, '코스트': 6696, '서정동': 6697, '럭키백': 6698, '너치': 6699, '사슴': 6700, '뿔': 6701, '버섯': 6702, '서강대역': 6703, '전철역': 6704, '보훈': 6705, '기지역': 6706, '불친철해': 6707, '한상기': 6708, '늦가을': 6709, '비빔면': 6710, '감정노동': 6711, '말라가': 6712, '크나크다': 6713, '손실': 6714, '있네욬': 6715, '단독': 6716, '사들이다': 6717, '요양': 6718, '신참': 6719, '기립': 6720, '재횔병원': 6721, '철마': 6722, '갑사': 6723, '미학': 6724, '보조개': 6725, '어떠하다': 6726, '김경미': 6727, 'ㅠㅜㅠㅠ': 6728, '등로': 6729, '유머러스하다': 6730, '해고': 6731, '자인': 6732, '메디': 6733, '카이': 6734, '사포': 6735, '진료기록': 6736, '몇장': 6737, '재빨리': 6738, '구두': 6739, '한가지': 6740, '협소한것': 6741, '활보': 6742, '무관': 6743, '철갑상어': 6744, '앱코': 6745, '알록달록하다': 6746, '울트라': 6747, '위경': 6748, '기용': 6749, '보이드': 6750, '글카': 6751, '욧': 6752, '시식': 6753, '꼴불견': 6754, '발렛': 6755, '철권': 6756, '묵': 6757, '사발': 6758, '종북좌파': 6759, '론데': 6760, '꼬수우면': 6761, '일드': 6762, '손잡이': 6763, '일렬': 6764, '무서움': 6765, '튀어나오다': 6766, '엎었': 6767, '말림': 6768, '오마이갓': 6769, '탈': 6770, '해장국': 6771, '맛술': 6772, '비프': 6773, '해운대': 6774, '연제구': 6775, '피크타임': 6776, '안지': 6777, '똥내': 6778, '낭낭함': 6779, '으악': 6780, '특보': 6781, '따갑다': 6782, '후두': 6783, '알아내다': 6784, '은병': 6785, '흙길': 6786, '김종원': 6787, '씹히다': 6788, '서하면': 6789, '김창국': 6790, '소재': 6791, '추위': 6792, '토스': 6793, '고구마': 6794, '맛탕': 6795, '갈릭': 6796, '힙하': 6797, '축축': 6798, '물떡': 6799, '든든하다': 6800, '몽골': 6801, '친': 6802, '한희유': 6803, '자로': 6804, '영역': 6805, '이런저런': 6806, 'ㅅㅇㅊ': 6807, '마리아': 6808, '부속품': 6809, '마상': 6810, '별별': 6811, '날카로워지다': 6812, '수천': 6813, '초조': 6814, '밭길': 6815, '벡스코': 6816, '빙': 6817, '벽장': 6818, '라이머': 6819, '이지나': 6820, '도열': 6821, '불찬절': 6822, '민주': 6823, '발신': 6824, '유전자': 6825, '연수구': 6826, '마이크로소프트': 6827, '수상하다': 6828, '금전': 6829, '대인기피증': 6830, '살기': 6831, '도아': 6832, '베': 6833, '김건우': 6834, '공산부': 6835, '대퇴골': 6836, '무혈': 6837, '더물': 6838, '가만': 6839, '교포': 6840, '억양': 6841, '발음': 6842, '자채': 6843, '티슈': 6844, '별루임': 6845, '댁': 6846, '정수리': 6847, '묘기': 6848, '함일': 6849, '일월': 6850, '보일러': 6851, '메트': 6852, '사이퍼즈': 6853, '집감': 6854, '은감': 6855, '이행': 6856, '그로': 6857, '회진': 6858, '포드': 6859, '방빼': 6860, '폐허': 6861, 'ㅈㅔ': 6862, '삼분': 6863, '쟁반짜장': 6864, '김정민': 6865, '정민': 6866, '빻음': 6867, 'ㄸ': 6868, '턴테이블': 6869, '십견': 6870, '안식일': 6871, '신답': 6872, '안식일교': 6873, '이의제기': 6874, '명개': 6875, '고무줄': 6876, '도살': 6877, '일정하다': 6878, '소금물': 6879, '띠용': 6880, '알아채다': 6881, '거북목': 6882, '인생게임': 6883, 'ㅐㅇ': 6884, '즉시': 6885, '원광': 6886, '데쓰': 6887, '달재': 6888, '투어': 6889, '당첨': 6890, '물감': 6891, '삼키다': 6892, '위산': 6893, '뻗치다': 6894, '기둥': 6895, '킹메이커': 6896, '토르': 6897, '클라인': 6898, '소총': 6899, '생가': 6900, '안락하다': 6901, '회용': 6902, '최초': 6903, '도인': 6904, '기구': 6905, '야크': 6906, '얼핏': 6907, '이끼': 6908, '추락': 6909, '기어오르다': 6910, '펜스': 6911, '선녀': 6912, '스트레': 6913, '멀티버스': 6914, '스팸마': 6915, '스팸양': 6916, 'ㄹㅈㄷ': 6917, '필': 6918, '매스': 6919, '껍': 6920, '쏠쏠': 6921, '유적': 6922, '들뜨다': 6923, '영양': 6924, '채팅': 6925, '월토': 6926, '주일': 6927, '제본': 6928, '픙광': 6929, '노말': 6930, '중점': 6931, '자지러지다': 6932, '울면': 6933, '공공장소': 6934, '소음공해': 6935, '반쪽': 6936, '첨단': 6937, '바짝': 6938, '철창': 6939, '고비': 6940, '자멸': 6941, '안통함': 6942, '부시': 6943, '전투씬': 6944, '개똥이': 6945, '모드': 6946, '브정사진': 6947, '유익하다': 6948, '엮어': 6949, '김현수': 6950, '전수형': 6951, '쩐내나': 6952, '눈탱': 6953, '장사치': 6954, '호박': 6955, '소굴': 6956, '어감': 6957, '폐해': 6958, '뫼산': 6959, '쏫아': 6960, '폭포수': 6961, '닭살': 6962, '돚': 6963, '무시무시하다': 6964, '연출': 6965, '웅장': 6966, '헤집다': 6967, '치돌리다': 6968, '두두': 6969, '볼땐': 6970, '핫팩': 6971, '방한복': 6972, '내복': 6973, '중동로': 6974, '뜯기다': 6975, '맛남': 6976, '가든파이브': 6977, '첩': 6978, '오인': 6979, '극협': 6980, '루고': 6981, '진압': 6982, '경박하다': 6983, '눈앞': 6984, '견본': 6985, '핸드': 6986, '드라이어': 6987, '부리면': 6988, '오래됨': 6989, '뿅': 6990, '잡기': 6991, '눈높이': 6992, '음약': 6993, '중동역': 6994, '온누리': 6995, '펭': 6996, '얼박': 6997, '박카스': 6998, '임후': 6999, '뽀닥뽀닥': 7000, '코회': 7001, '휘': 7002, '젓다': 7003, '회문': 7004, '큐레이터': 7005, '단추': 7006, '가로막히다': 7007, '건네다': 7008, '이별': 7009, '긍정': 7010, '복선': 7011, '너스레': 7012, '인세': 7013, '결과물': 7014, '추호': 7015, '연소': 7016, '그을음': 7017, '것이렸다': 7018, '그리하여': 7019, '모순': 7020, '괴리': 7021, '편지': 7022, '배트맨': 7023, '맥스': 7024, '유념': 7025, '리심': 7026, '번호판': 7027, '장성호': 7028, '입장권': 7029, '주는뎁': 7030, '전화통화': 7031, '시어머니': 7032, '만족도': 7033, '버라이어티': 7034, '디다': 7035, '중훙부두': 7036, '부등부등': 7037, '하절': 7038, '외가': 7039, '베인': 7040, '컴빠릉': 7041, '노원구': 7042, '상계동': 7043, '간편식': 7044, '올가을': 7045, '질염': 7046, '디테일': 7047, '군민': 7048, '히아루론산': 7049, '성분': 7050, '갸웃': 7051, '정점': 7052, '가꾸어지다': 7053, '헤어스타일': 7054, '개진': 7055, '설상가상': 7056, '노골': 7057, '인종': 7058, '빽': 7059, '청취': 7060, '눈알': 7061, '굴림': 7062, '음습': 7063, '빼감': 7064, '유똥물': 7065, '낟': 7066, '우왕': 7067, '파밍': 7068, '자기장': 7069, '한가운데': 7070, '찌라시': 7071, '비트코인': 7072, '퍼': 7073, '발산': 7074, '김포공항': 7075, '관전': 7076, 'ㅋㅋㅋㅁㅁ': 7077, '마야': 7078, '애니메이션': 7079, '전문가': 7080, '우편': 7081, '이스터에그': 7082, '뚜벅': 7083, '그러드': 7084, '들머리': 7085, '진흙': 7086, '눈길': 7087, '회로': 7088, '김치냉장고': 7089, '콤콤': 7090, '덤임': 7091, '서민': 7092, '배미례': 7093, '이랬는데': 7094, '레저': 7095, '캬캬': 7096, '느흑흑': 7097, '족보': 7098, '러버': 7099, '레고': 7100, '모질듳': 7101, '국민성': 7102, '차이니즈': 7103, '정반대': 7104, 'ㅋㅋㅋㅎㅋㅎ': 7105, '선키스트': 7106, '소위': 7107, '섬유질': 7108, '퍼석': 7109, '부적합하다': 7110, '출고': 7111, '알림': 7112, '달후': 7113, '안처': 7114, '설치다': 7115, '실별': 7116, '명단': 7117, '었': 7118, '계수기': 7119, '단팥빵': 7120, '애슐리': 7121, '퀸즈': 7122, '안호영': 7123, '사리다': 7124, '곤돌라': 7125, '일다': 7126, '점줄': 7127, '뚱육이': 7128, '뼘': 7129, '돌덩': 7130, '이임': 7131, '버스정류장': 7132, '반납': 7133, '사람인': 7134, '조앙': 7135, '중계방송': 7136, '미달': 7137, '촌스럽다': 7138, '받침': 7139, '맙': 7140, '비자': 7141, '어린이병원': 7142, '쫓다': 7143, '크롬': 7144, '환절기': 7145, '수산시장': 7146, '촉구': 7147, '어죽맛집': 7148, '어죽': 7149, '오직': 7150, '실컷': 7151, '빈병': 7152, '홉': 7153, '시아버지': 7154, '장끼': 7155, '루테': 7156, '닼는': 7157, '이하임': 7158, '교통법규': 7159, '대각선': 7160, '무단횡단': 7161, '술처': 7162, '점거': 7163, '공포': 7164, '일진': 7165, '헛': 7166, '천년': 7167, '노가리': 7168, '바로바로': 7169, '독': 7170, '정기석': 7171, '조선만': 7172, '롯데리아': 7173, '잇츠': 7174, '나락급': 7175, '이었음': 7176, '쇼핑카트': 7177, '부딧혀': 7178, '질서': 7179, '특색': 7180, '박지현': 7181, '완존': 7182, '주무시다': 7183, '인쇄물': 7184, '잠자다': 7185, '깨우다': 7186, '개멋': 7187, '공대': 7188, '간지나다': 7189, '더더': 7190, 'ㄷㄷㄷ': 7191, '나하': 7192, '고아': 7193, '피치': 7194, '쑤시다': 7195, '점막': 7196, '콧물': 7197, '양파': 7198, '유기농': 7199, '선점': 7200, '신길역': 7201, '순환기': 7202, '장문': 7203, '스레기같': 7204, '적나라하다': 7205, '자손': 7206, '국회의원': 7207, '무통': 7208, '피캉스': 7209, '진절함': 7210, '낫밷': 7211, '읍압병동': 7212, '법도': 7213, '븅': 7214, '칠곡': 7215, '이를': 7216, '원함': 7217, '뚜껑': 7218, '밥솥': 7219, '후라이팬': 7220, '세척': 7221, '넣기': 7222, '정렬': 7223, '단기간': 7224, '방관': 7225, '치사하다': 7226, '입사': 7227, 'ㅡㅎㅇㅅㅎ': 7228, '청정': 7229, '하나라': 7230, '편타': 7231, '무릉': 7232, '중반': 7233, '매기': 7234, '담양': 7235, '유감': 7236, '지급': 7237, '얺찮군': 7238, '돟': 7239, '몆': 7240, '해전': 7241, '에전': 7242, '신청서': 7243, '원성': 7244, '대만': 7245, '김범준': 7246, '보는둥': 7247, '마는둥': 7248, '씻기다': 7249, '읎으욬': 7250, '모허': 7251, '사적': 7252, '화채': 7253, '오솔길': 7254, '듭': 7255, '가파르고힘': 7256, '싱크홀': 7257, '원삿': 7258, '저림': 7259, '뒷쪽': 7260, '킨텍스': 7261, '존경심': 7262, '꼽는다': 7263, '속옷': 7264, '둬': 7265, '마셈': 7266, '아이온': 7267, '통수치다': 7268, '찜질': 7269, '허허': 7270, '명중': 7271, '죽닥': 7272, '응봉역': 7273, '위급': 7274, '복인': 7275, '신협': 7276, '조합원': 7277, '소정': 7278, '양반': 7279, '내알빠': 7280, '훌륭': 7281, '흥행': 7282, '금융기관': 7283, '여건': 7284, '처자': 7285, '계산서': 7286, '범용': 7287, '등록증': 7288, '디씨': 7289, 'ㅠㅠㅜㄷ': 7290, 'ㅠㅠㅠㅠㅜㄷ': 7291, 'ㅜㄱㄱㄱ': 7292, 'ㅝㅠㅠㄷㅊㅎ': 7293, '생략': 7294, '에이펙': 7295, '관여': 7296, '옮겻': 7297, '유점': 7298, '공통점': 7299, '혁신도시': 7300, '맙시다절': 7301, '때기': 7302, '에세이': 7303, '렁': 7304, '수의': 7305, '조도': 7306, '술판': 7307, '웃음소리': 7308, '간김': 7309, '패밀리': 7310, '토핑': 7311, '휙휙': 7312, '가얃': 7313, '로다': 7314, '봉합': 7315, '단발': 7316, '난데없이': 7317, '띠껍': 7318, '러시': 7319, '불쾌': 7320, '과거': 7321, '전신': 7322, '성서학': 7323, '교동': 7324, '마포구': 7325, '아현동': 7326, '일제': 7327, '전쟁': 7328, '임시': 7329, '제대': 7330, '학장': 7331, '이명직': 7332, '부천시': 7333, '소사본동': 7334, '보드게임': 7335, '말뽄새': 7336, '효자동': 7337, 'ㄱㄱ': 7338, '인심': 7339, '연중': 7340, '안양역': 7341, '그래픽카드': 7342, '발휘': 7343, '다물다': 7344, '아뇨': 7345, '던킨도너츠': 7346, '코크': 7347, '카테고리': 7348, '흩어지다': 7349, '코팅': 7350, '반감': 7351, '워스트': 7352, '움떡': 7353, '백설기': 7354, '송편': 7355, '굵다': 7356, '잇몸': 7357, '날뻔': 7358, '피스': 7359, '썰리다': 7360, '사본': 7361, '중지': 7362, '쌩쌩하다': 7363, '친목': 7364, '도모': 7365, '진아': 7366, '장미': 7367, '극정': 7368, '놀이기구': 7369, '달려들다': 7370, '래지': 7371, '망원경': 7372, '탐조': 7373, '해파리': 7374, '헤엄': 7375, '원각사': 7376, '대정': 7377, '초심자': 7378, '타바스코': 7379, '김량': 7380, '수문': 7381, '어지럽혀지다': 7382, '미산': 7383, '뿌듯하다': 7384, '깨우치다': 7385, '신사동': 7386, '아주아주': 7387, '당분': 7388, '오밤중': 7389, '글라스': 7390, '달콤하다': 7391, '촉촉': 7392, '재방': 7393, '포천': 7394, '금년': 7395, '장상피화생': 7396, '모형': 7397, '짐맥': 7398, '치한': 7399, '액수': 7400, '번침': 7401, '격으': 7402, '움켜쥐다': 7403, '젼': 7404, '한상태': 7405, '도해': 7406, '거길왜': 7407, '사주다': 7408, '조산': 7409, '순산': 7410, '출타': 7411, '오입': 7412, '유가사': 7413, '버겁다': 7414, '피시': 7415, '택': 7416, '개맛': 7417, '개쪼금': 7418, '발라': 7419, '호스텔': 7420, '낮아지다': 7421, '무례': 7422, '생판': 7423, '무협': 7424, '어요': 7425, '텅': 7426, '해먹': 7427, 'ㅋㅋㅋㅋㅋㅋㅋㅋㅋㅋㅋㅋㅋ': 7428, '안준': 7429, '닼': 7430, '서울대학교': 7431, '학위': 7432, '말벌': 7433, '우웅': 7434, '빡쌨음': 7435, '에잇': 7436, '엇음': 7437, '이정훈': 7438, '지난주': 7439, '전적': 7440, '시월드': 7441, '공고': 7442, '임기': 7443, '몸매': 7444, '끼리끼리': 7445, '해댐': 7446, 'ㅗㅗ': 7447, '아이디': 7448, '난동': 7449, '소환': 7450, '가만히': 7451, '아이스커피': 7452, '쨋': 7453, '깡': 7454, '촣아': 7455, '에스프레소': 7456, '처방전': 7457, '전과': 7458, '후의': 7459, '백만': 7460, '바삭바삭하다': 7461, '겉바': 7462, '폼': 7463, '왓습니': 7464, '양념장': 7465, '그램': 7466, '육즙': 7467, '음화': 7468, '사이버테러': 7469, '취약': 7470, '랜섬': 7471, '하여튼': 7472, '소비': 7473, '척추관': 7474, '협착증': 7475, '승하': 7476, '쩐': 7477, '안남': 7478, '더러는': 7479, '관해': 7480, '행운': 7481, '서점가': 7482, 'ㄱㅂㅁㄱ': 7483, '램': 7484, '꾼': 7485, '맹탕': 7486, '스페어': 7487, '인곳': 7488, '증가': 7489, '블럭': 7490, '신호등': 7491, '교통체증': 7492, '호도': 7493, '차럄': 7494, '빠져나가다': 7495, '용건': 7496, '스키': 7497, 'ㄲㅋㅋㄲㄲㄲ': 7498, '이도': 7499, '삼척': 7500, '통큰치킨': 7501, '차편': 7502, '열라면': 7503, '재래': 7504, '정치': 7505, 'ㄹ': 7506, '은파': 7507, '혹': 7508, '육아휴직': 7509, '셀프서비스': 7510, '늬들': 7511, '김성환': 7512, '재앙': 7513, '성은': 7514, '함축': 7515, '축하': 7516, '응교': 7517, '육방': 7518, '침입': 7519, '먼산': 7520, '나뉘다': 7521, '데헷': 7522, '국산': 7523, '창점': 7524, '아작': 7525, '후짐': 7526, '늦': 7527, '안왓다': 7528, '홍대앞': 7529, '신탁은행': 7530, '아지트': 7531, '도통': 7532, '차남': 7533, '송곡': 7534, '경유': 7535, '봉봉': 7536, '소름끼치다': 7537, '난감': 7538, '참여': 7539, '재결': 7540, '제하': 7541, '박문수': 7542, '진철': 7543, '매다': 7544, '생존': 7545, '치열하다': 7546, '두꺼비': 7547, '조각상': 7548, '아바타': 7549, '호크룩스': 7550, 'ㅇㅅㅇ': 7551, '잘만': 7552, '따른': 7553, '웅얼웅얼대답': 7554, '끄덕': 7555, '상조': 7556, '역주행': 7557, '있늠데': 7558, '팬케익': 7559, '수양': 7560, '안타': 7561, '빠마': 7562, '훓어보': 7563, '가소롭다': 7564, '뺨': 7565, '싱하': 7566, '퀄리': 7567, '부딪히다': 7568, '언성': 7569, '노조': 7570, '갈등': 7571, '이따금': 7572, '작렬': 7573, '여운': 7574, '영도': 7575, '벼르기': 7576, '시꺼멓다': 7577, '연동': 7578, '수험생': 7579, '캐슬': 7580, '아케이드': 7581, '과시': 7582, '요약': 7583, '어긋': 7584, '침상': 7585, '오기재': 7586, '주고받다': 7587, '사람이름': 7588, '지모': 7589, '낭만': 7590, '부장': 7591, '김영택': 7592, '와부': 7593, '버젓이': 7594, '화강암': 7595, '채석': 7596, '웅덩이': 7597, '샘물': 7598, '유입': 7599, '가재': 7600, '도롱뇽': 7601, '버들치': 7602, '수심': 7603, '에메랄드': 7604, '신비하다': 7605, '내뿜는': 7606, '테헤란로': 7607, '슈퍼마켓': 7608, '개점': 7609, '오션': 7610, '훔치다': 7611, '법쪽': 7612, '거야': 7613, '나소': 7614, '확률': 7615, '상임': 7616, '개꿀따뤼': 7617, '가난': 7618, '였음': 7619, '노형동': 7620, '임개': 7621, '공교': 7622, '읺': 7623, '옛말': 7624, '셧습': 7625, '곶감': 7626, '티맵': 7627, '싸구려': 7628, '대폭': 7629, '돈벌이': 7630, '즉각': 7631, '환장하다': 7632, '움직임': 7633, '허니': 7634, '미끄러지다': 7635, '워킹': 7636, '포인터': 7637, '양평': 7638, '무리': 7639, '한다해': 7640, '오티피': 7641, '정재홍': 7642, '겸손하다': 7643, '보듬다': 7644, '소머리국밥': 7645, '웬': 7646, '쌀국수': 7647, '간간히': 7648, '홀리': 7649, '가현': 7650, '길목': 7651, '한남정맥': 7652, '해랑': 7653, '존예': 7654, '페이지': 7655, '때매': 7656, '떨구다': 7657, '제자': 7658, '망각': 7659, '마늘': 7660, '데이': 7661, '용서': 7662, '떡붕어': 7663, '쏘가리': 7664, '장어': 7665, '동자개': 7666, '경찰복': 7667, 'ㅇㅔ': 7668, '우웩': 7669, '수첩': 7670, '레파': 7671, '가라앉다': 7672, '울렁거리다': 7673, '노랑': 7674, '토액': 7675, '버럭': 7676, '응토': 7677, '정적': 7678, '이상하': 7679, '물음': 7680, '죽겄': 7681, '소용돌이': 7682, '잠깜': 7683, '노련하다': 7684, '회상': 7685, 'ㅡㅡㅡㅡ': 7686, '퀴': 7687, '엮': 7688, '바질': 7689, '별미': 7690, '찌뿌두둥': 7691, '미군기지': 7692, '유창하다': 7693, '한결': 7694, '파리바게트': 7695, '밀가루': 7696, '빵맛': 7697, '서현': 7698, '롯': 7699, '라비': 7700, '스토리': 7701, '해시태그': 7702, '삼각': 7703, '엎': 7704, '어둠': 7705, '관념': 7706, '사마귀': 7707, '뒷다릿': 7708, '라이스': 7709, '개함': 7710, '스펀지': 7711, '설계자': 7712, '저주': 7713, '전역': 7714, '봣는데': 7715, '사기꾼': 7716, '최재혁': 7717, '틀림': 7718, '나누어지다': 7719, '씨지븨': 7720, '유치권': 7721, '크랜베리': 7722, '초코쿠키': 7723, '내용물': 7724, '그니': 7725, '고고씽': 7726, '고관': 7727, '일후': 7728, '했슴다': 7729, '강지호': 7730, '꾸뻑': 7731, '실밥': 7732, '날이갈수록': 7733, '쿠팡': 7734, '로켓': 7735, '교동도': 7736, '뒷동산': 7737, '쥑임': 7738, '드저트': 7739, '아파트': 7740, '사감': 7741, '두산': 7742, '복지': 7743, '닌텐도': 7744, '스위치': 7745, '맘에듬': 7746, '유투': 7747, '익스': 7748, '애선': 7749, '이상태': 7750, '다잡다': 7751, '혼등': 7752, '남짓': 7753, '산보': 7754, '심폐': 7755, '턱끝': 7756, '할딱거리다': 7757, '멈칫': 7758, '산악인': 7759, '암벽등반': 7760, '심약하다': 7761, '아랫쪽': 7762, '시끌시끌': 7763, '벌컥벌컥': 7764, '삼다수': 7765, '원샷': 7766, '마렵': 7767, '성취': 7768, '난간': 7769, '망월사역': 7770, '망월사': 7771, '회현역': 7772, '렉스': 7773, '신랑': 7774, '꼭지': 7775, '부페': 7776, '게장': 7777, '도가니': 7778, '홍합': 7779, '육전': 7780, '모밀': 7781, '철판': 7782, '홍어': 7783, '파이다': 7784, '포도': 7785, '깔리다': 7786, '미노스': 7787, '마기': 7788, '용역': 7789, '야기': 7790, '벨소리': 7791, '휑': 7792, '스산해': 7793, '별룬데': 7794, '이키': 7795, '줄재': 7796, '봉세': 7797, '신봉': 7798, '상봉': 7799, '우두산': 7800, '낮술': 7801, '아차산': 7802, '아악': 7803, '문구점': 7804, '시저': 7805, '병목현상': 7806, '항체': 7807, '묶이다': 7808, '일치': 7809, '비유': 7810, '청초하다': 7811, '요구르트': 7812, '주니': 7813, '뒤따르다': 7814, '부타': 7815, '홈피': 7816, '신문고': 7817, '제일제당': 7818, '손길': 7819, '듬뿍': 7820, '양재천': 7821, '방객': 7822, '유비': 7823, '가산금': 7824, '액': 7825, '출처': 7826, '깡패': 7827, '진인': 7828, '인적': 7829, '검체': 7830, '사자': 7831, '자도': 7832, '그대': 7833, '수입': 7834, '트기': 7835, '낙인찍다': 7836, '미납': 7837, '꼬박꼬박': 7838, '팩트': 7839, '기피': 7840, '키친': 7841, '업계': 7842, '에어': 7843, '프라이어': 7844, '속편': 7845, '장본': 7846, '가늘다': 7847, '장보': 7848, '나가시': 7849, '겨남': 7850, '바리스타': 7851, '명줄': 7852, '절망': 7853, '눌': 7854, '캐릭터': 7855, '정상오': 7856, '은행나무': 7857, '정상인': 7858, '대우': 7859, '턱턱': 7860, '이성': 7861, '똑똑이': 7862, '촣': 7863, '아보카도': 7864, '산후': 7865, '오만득이': 7866, '지린다': 7867, '요물': 7868, '리스트': 7869, '네시': 7870, '퍼다': 7871, '정중하다': 7872, '도매': 7873, '화표': 7874, '타라': 7875, '관측타워': 7876, '석호': 7877, '중얼중얼': 7878, '북조선': 7879, '풍기': 7880, '창조': 7881, '휴양림': 7882, '화려하다': 7883, '미국': 7884, '공수': 7885, '까닥': 7886, '양배추': 7887, '한성': 7888, '리조트': 7889, '함흥차사': 7890, '호훕기내': 7891, '유언비어': 7892, '영산': 7893, '손색': 7894, '누님': 7895, '아우': 7896, '재약산': 7897, '오리가': 7898, '띡': 7899, '금릉역': 7900, '공릉천': 7901, '노루': 7902, '농장': 7903, '녹화': 7904, '폭력': 7905, '근래': 7906, '숙대': 7907, '정화': 7908, '이라곤': 7909, '게이머': 7910, '듀얼모니터': 7911, '감격': 7912, '그레이': 7913, '트북스': 7914, '무신': 7915, '으랏차': 7916, '차이다': 7917, '세계사': 7918, '도레미': 7919, '북스': 7920, '명화': 7921, '창작': 7922, '꼬꼬': 7923, '과학자': 7924, '아우라': 7925, '글리': 7926, '세미나': 7927, '항아리': 7928, '램프': 7929, '그리스': 7930, '로마신화': 7931, '스콜': 7932, '레': 7933, '테라': 7934, '스텝스': 7935, '퍼스트': 7936, '밤비노': 7937, '야호': 7938, '사이언스': 7939, '메이커': 7940, '발밤발밤': 7941, '마마': 7942, '파파': 7943, '틱톡': 7944, '밀란': 7945, '싱': 7946, '국어': 7947, '히스토리': 7948, '뭉치': 7949, '두레박': 7950, '디즈니': 7951, '골든': 7952, '사은': 7953, '이원': 7954, '무언가': 7955, '가인': 7956, '당한': 7957, '흰자': 7958, '요한': 7959, '숨쉬다': 7960, '똥컴': 7961, '자소': 7962, '떨어뜨리다': 7963, '복통': 7964, '스컬': 7965, '삥삥': 7966, '관절통': 7967, '인사동': 7968, '비엔나': 7969, '거르시길': 7970, '티케': 7971, '불쑥': 7972, '백운산': 7973, '혹부리': 7974, '여타': 7975, '측정': 7976, '어트': 7977, '어조': 7978, '썅': 7979, '한소리': 7980, '장내': 7981, '나가야': 7982, '꼬불꼬불': 7983, '촌': 7984, '주주': 7985, '연구소': 7986, '연주대': 7987, '레이더': 7988, '관측': 7989, '철망': 7990, '팔방': 7991, '납작하다': 7992, '내다보다': 7993, '서쪽': 7994, '안양시': 7995, '관악산': 7996, '신천지': 7997, '기반': 7998, '에어건': 7999, '빈폴': 8000, '폐병': 8001, '윱스': 8002, '오만': 8003, '삼만원': 8004, '줄알': 8005, '삼십만원': 8006, '어치': 8007, '억수': 8008, '까치': 8009, '소형차': 8010, '북문': 8011, '문수산': 8012, '고오': 8013, '여요': 8014, '하내': 8015, '삼가다': 8016, '명복': 8017, '거길': 8018, '중계': 8019, '헤메': 8020, '행인': 8021, '비즈니스': 8022, '자괴': 8023, '상응': 8024, '장방': 8025, '마땅하다': 8026, '기보': 8027, '뷸': 8028, '극적': 8029, '역북': 8030, '지구': 8031, '휑했던': 8032, '스위트': 8033, '외자': 8034, '청강': 8035, '반수': 8036, '내기': 8037, '세네': 8038, '번동': 8039, '끝내': 8040, '진학': 8041, '통녹': 8042, '들려주다': 8043, '악랄하다': 8044, '힐': 8045, '커브': 8046, '대못': 8047, '퇴직금': 8048, '오름': 8049, '테크니컬': 8050, '동아리': 8051, '테니스': 8052, '부도': 8053, '중직': 8054, '파르': 8055, '돋보기': 8056, '덕목': 8057, '겸손': 8058, '엄': 8059, '국현': 8060, '하루하루': 8061, '보험사': 8062, '의치': 8063, '만여': 8064, '마누라': 8065, '빙어': 8066, '인절미': 8067, '다쿠아즈': 8068, '중놈': 8069, '지곡': 8070, '닥': 8071, '부적': 8072, '시립': 8073, '컴해': 8074, '가경동': 8075, '남군': 8076, '별의별': 8077, '찾아다니다': 8078, '체외': 8079, '핌스': 8080, '강화': 8081, '몸소': 8082, '프레': 8083, '윤보': 8084, '은시': 8085, '큐브': 8086, '구원': 8087, '원걸': 8088, '까운': 8089, '디자이너': 8090, '적절하다': 8091, '말일': 8092, '혼잡': 8093, '파일럿': 8094, '노릇': 8095, '강원도': 8096, '상향': 8097, '평준화': 8098, '뇌사': 8099, '가망': 8100, '뇌사상태': 8101, '깨어나다': 8102, '이운정': 8103, '정우진': 8104, '개얼빵': 8105, '코인': 8106, '기온': 8107, '근본': 8108, '진물': 8109, '임대료': 8110, '중소기업': 8111, '청담역': 8112, '상도': 8113, '베베': 8114, 'ㅠㅎ': 8115, '가용': 8116, '난장판': 8117, '잠금장치': 8118, '없어섴': 8119, '중턱': 8120, '로션': 8121, '통치': 8122, '내연산': 8123, '경계': 8124, '선상': 8125, '오락가락': 8126, '난임': 8127, '대학입시': 8128, '압박': 8129, '웨돔감': 8130, '프리머스': 8131, '꿀벌': 8132, '왜안틈': 8133, '사우': 8134, '장안산': 8135, '군립': 8136, '이실': 8137, '적봉': 8138, '반신반의': 8139, '상전': 8140, '진의': 8141, '문경': 8142, '요역': 8143, '분주하다': 8144, '일생': 8145, '사색': 8146, '암릉길': 8147, '양압기': 8148, '신지현': 8149, '왼': 8150, '적성': 8151, '앙심': 8152, '성균관': 8153, '증주': 8154, '기필코': 8155, '피땀': 8156, '프로모션': 8157, '애먼': 8158, '기아': 8159, '머함': 8160, '인바디': 8161, '전단': 8162, '꿀잼': 8163, '알바로': 8164, '의리': 8165, '용추계곡': 8166, '여백': 8167, '관양동': 8168, '여제': 8169, '라텍스': 8170, '죙': 8171, '다리다': 8172, '조성도': 8173, '원격': 8174, '유영철': 8175, '견': 8176, '만만': 8177, '삼일': 8178, '하물며': 8179, '민시': 8180, '풀어지다': 8181, '악산': 8182, '수질검사': 8183, '대궐': 8184, '터쪽': 8185, '리본': 8186, '익사': 8187, '낱말': 8188, '난감하다': 8189, '서든': 8190, '속물': 8191, '소액': 8192, '특전': 8193, '범계': 8194, '장담': 8195, '함주': 8196, '사회주의': 8197, '태청': 8198, '멍하다': 8199, '화생방': 8200, '원도': 8201, '노인환': 8202, '자주성': 8203, '툴툴': 8204, '스트숍': 8205, '섬진강': 8206, '지난달': 8207, '올라타다': 8208, '상상력': 8209, '기획': 8210, '전주대학교': 8211, '휴게실': 8212, '장기': 8213, '순하다': 8214, '스킨': 8215, '비엘': 8216, '제기로': 8217, '캡처': 8218, '시리즈': 8219, '오예': 8220, '단촐': 8221, '소세지': 8222, '탈색': 8223, '자욱하다': 8224, '안개': 8225, '빼앗기다': 8226, '머물다': 8227, '발걸음': 8228, '초파리': 8229, '께선': 8230, '용감하다': 8231, '단호': 8232, '향기롭다': 8233, '사상': 8234, '뻘게': 8235, '성화': 8236, '산만': 8237, '예여': 8238, '카레라면': 8239, '본과': 8240, 'ㅓ': 8241, '어엉': 8242, '항진': 8243, '섬망': 8244, '보살피다': 8245, '다사': 8246, '적정': 8247, '선인': 8248, '수로': 8249, '주탑': 8250, '셔터': 8251, '자유롭다': 8252, '자몽': 8253, '대첩': 8254, '미륵산': 8255, '남서쪽': 8256, '수군': 8257, '피난': 8258, '목자': 8259, '달려오다': 8260, '적의': 8261, '소선': 8262, '충무공전서': 8263, '임맛': 8264, '자꾸자꾸': 8265, '힘줄': 8266, '건우': 8267, '치트키': 8268, '꼴사납다': 8269, '오규원': 8270, '불퉁': 8271, '유의사항': 8272, '야구장': 8273, 'ㅅㅌㅊ': 8274, '유투브': 8275, '금식': 8276, '한동안': 8277, '정년': 8278, '꽃다발': 8279, '고마움': 8280, '포브스': 8281, '미아': 8282, '비말': 8283, '에어로졸': 8284, '서리다': 8285, '입자': 8286, '철조망': 8287, '멘보샤': 8288, '할머님': 8289, '항시': 8290, '필때': 8291, '태조산': 8292, '리그': 8293, '버벅': 8294, '날개': 8295, '월후': 8296, '이심': 8297, '찿아': 8298, '긴급': 8299, '도데': 8300, '어썸카페': 8301, '옷자락': 8302, '시렁': 8303, '소래포구': 8304, '둔산동': 8305, '나일강': 8306, '죽음': 8307, '오돌오돌': 8308, '넹': 8309, '카레': 8310, '짜장': 8311, '카트라이더': 8312, '도돌이표': 8313, '적로': 8314, '자신감': 8315, '핸들': 8316, '아인슈페너': 8317, '썻던': 8318, '한동': 8319, '꺄갸갸': 8320, '복권': 8321, '이꼬': 8322, '동광': 8323, '주점': 8324, '인문': 8325, '꼬소': 8326, '검안': 8327, '조혜진': 8328, '조기': 8329, 'ㅋㅋㅋㅋㅋㅋㅋㅋㅋㅋㅋㅋㅋㅋ': 8330, '통역사': 8331, '중식': 8332, '짬뽕': 8333, '비주': 8334, '가전제품': 8335, '후다닥': 8336, '허겁지겁': 8337, '시긴': 8338, '넓히다': 8339, '옥상': 8340, '은평구': 8341, '심야시간대': 8342, '비틀어지다': 8343, '절기': 8344, '온실': 8345, '우여곡절': 8346, '짜장면': 8347, '택해': 8348, '내장산': 8349, '유야무야': 8350, '흘러가다': 8351, '벼': 8352, '추수': 8353, '불량품': 8354, '서평': 8355, '터치': 8356, '쓰레기봉투': 8357, '웨스트민스터': 8358, '정형': 8359, '녹': 8360, '합의금': 8361, '꾀': 8362, '병환': 8363, '일약': 8364, '달반': 8365, '녹이다': 8366, '위플': 8367, '짬밥': 8368, '국립공원': 8369, '산림청': 8370, '블': 8371, '약대': 8372, '신륵사': 8373, '보덕암': 8374, '파킹': 8375, '마애불': 8376, '마애': 8377, '동창': 8378, '회수': 8379, '무방': 8380, '세탁소': 8381, '코로': 8382, '나일': 8383, '발렛파킹': 8384, '건달': 8385, '우물쭈물': 8386, '요만': 8387, '미용실': 8388, '폴바': 8389, '김애': 8390, '옹이': 8391, 'ㅜㅜㅜㅜㅜ': 8392, '허구': 8393, '비지니스': 8394, '힝': 8395, '이원화': 8396, '링크': 8397, '카오스': 8398, '델꼬가': 8399, '장마': 8400, '작아지다': 8401, '당나귀': 8402, '줃': 8403, '치룬것': 8404, '스팟': 8405, '진해': 8406, '면허': 8407, '베뉴': 8408, '오픽': 8409, 'ㅠㅜㅜㅜㅜ': 8410, '영화음악': 8411, '바이닐': 8412, '시나리오': 8413, '포스터': 8414, '분지': 8415, '악용': 8416, '기색': 8417, '느꼇습니': 8418, '고요한': 8419, '쌩뚱맞음': 8420, '김상미': 8421, '정윤': 8422, '반증': 8423, '엄지': 8424, '둔하다': 8425, '개개인': 8426, '모호하다': 8427, '얼리다': 8428, '촤': 8429, '악의': 8430, '무직자': 8431, '햇살': 8432, '유스': 8433, '할껄': 8434, '저작권': 8435, '차이나다': 8436, '찿았습니': 8437, '경과': 8438, '백현주': 8439, '완화': 8440, '사랑스럽다': 8441, '언어': 8442, '보금자리': 8443, '무궁': 8444, '군생활': 8445, '진지': 8446, '타이어': 8447, '우와': 8448, 'ㅜㅇ': 8449, '콰': 8450, '오카': 8451, 'ㅏㅋ': 8452, '콬카': 8453, 'ㅏㅇ': 8454, '잔도': 8455, '듯밑': 8456, '성공': 8457, '말매미': 8458, '듭니다월': 8459, '뿌옇다': 8460, '재밋었': 8461, '트랙': 8462, '호랑이': 8463, '졸업장': 8464, '속담': 8465, '진보': 8466, '미쳣음': 8467, '빗해': 8468, '강창': 8469, '박일동': 8470, '손가락질': 8471, '번방앞': 8472, '씩씩하다': 8473, '젤리': 8474, '반갑다': 8475, '짱짱하다': 8476, '감떡': 8477, '떡국': 8478, '냅킨': 8479, '소심하다': 8480, '공연': 8481, '허무하다': 8482, '가렵니': 8483, '신년': 8484, '독서실': 8485, '영국': 8486, '무한리필': 8487, '행선': 8488, '옆쪽': 8489, '서투르다': 8490, '쥰내': 8491, '기네': 8492, '김원식': 8493, '어영부영': 8494, '하는둥마는둥': 8495, '한결같다': 8496, '대가면': 8497, '퀘퀘': 8498, '작살': 8499, '허진호': 8500, '모욕감': 8501, '다보스': 8502, '불타다': 8503, '문재인': 8504, '잡것': 8505, '주환': 8506, '충국': 8507, '거마': 8508, '에티튜드': 8509, '정으니': 8510, '김정은': 8511, '조상': 8512, '묻히다': 8513, '친형': 8514, '두뇌': 8515, '우수하다': 8516, '하나로마트': 8517, '바꼇습니': 8518, '경희대': 8519, '문닫고잇넴': 8520, '재테크': 8521, '여로': 8522, '디른병원': 8523, '봉임': 8524, '일과': 8525, '어캐하': 8526, '간소': 8527, '수려': 8528, '청량하다': 8529, '작시': 8530, '도롯': 8531, '워크맨': 8532, '기함': 8533, '요강': 8534, '추': 8535, '이선정': 8536, '가십': 8537, '병목': 8538, '침침하다': 8539, 'ㄲㅣ': 8540, '서러움': 8541, '일등': 8542, '갈아': 8543, '첫출근': 8544, '한없이': 8545, '일손': 8546, '사우나': 8547, '견학': 8548, '동백': 8549, '나무숲': 8550, '떠보다': 8551, '장식': 8552, '은줄': 8553, '면학': 8554, '하반신': 8555, '구등': 8556, '편향': 8557, '반대쪽': 8558, '거점국립대': 8559, '통영': 8560, '경상': 8561, '다년': 8562, '느무': 8563, '덤탱이': 8564, '어금니': 8565, '알멩': 8566, '앞장서다': 8567, '루팽': 8568, '대덕구': 8569, '송강': 8570, '동하': 8571, '관평동': 8572, '자그마하다': 8573, '예측': 8574, '마차': 8575, '망원': 8576, '송파구': 8577, '잠실동': 8578, '강남구': 8579, '코엑스': 8580, '무역': 8581, '횡설수설': 8582, '범죄영화': 8583, '음침하다': 8584, '눌림': 8585, '회부': 8586, '뜰': 8587, '눈쌀': 8588, 'ㄴㄴ': 8589, '고엽제': 8590, '스슥': 8591, '마이너': 8592, '평전': 8593, '신장염': 8594, '카를': 8595, '순찰': 8596, '부스럭부스럭': 8597, '엎어지다': 8598, '정수진': 8599, '축산': 8600, '수내동': 8601, '족하': 8602, '파니': 8603, '샛별': 8604, '붓다': 8605, '살찌다': 8606, '살빼다': 8607, '고름': 8608, '차기': 8609, '훨잘함': 8610, '조심조심': 8611, '이제야': 8612, '아프리카티비': 8613, '소울': 8614, '부전': 8615, '꾸역꾸역': 8616, '도시락': 8617, '한사코': 8618, '개미': 8619, '허비하다': 8620, '발품팔': 8621, '성실하다': 8622, '뽀운스': 8623, '빠운스': 8624, '뚜': 8625, '꺄항': 8626, '슬세권': 8627, '외짐': 8628, '엠비씨': 8629, '발판': 8630, '어나': 8631, '닥터페퍼': 8632, '가챠': 8633, '자유분방하다': 8634, '금연': 8635, '니코틴': 8636, '수락산': 8637, '수락산역': 8638, '슥': 8639, '유령': 8640, '알바인': 8641, '물맛': 8642, '상무지구': 8643, '셀렉': 8644, '맹목': 8645, '그득그득': 8646, '안목': 8647, '피곤': 8648, '효행': 8649, '직찍': 8650, '너머': 8651, '물들다': 8652, '함관': 8653, '흰빛': 8654, '반짝반짝': 8655, '반사': 8656, '톨': 8657, '구현': 8658, '씬': 8659, '조우씬': 8660, '재질': 8661, '차이점': 8662, '상미': 8663, '신생': 8664, '노후하다': 8665, '무비': 8666, '알박기': 8667, '엘피': 8668, '빈티': 8669, '이스트': 8670, '마당': 8671, '참으로': 8672, '만을': 8673, '밥값': 8674, '불합리': 8675, '황금산': 8676, '친전': 8677, '여보세요': 8678, '로군': 8679, '꼴다': 8680, '시들시들': 8681, '흐름': 8682, '유행': 8683, '이상무': 8684, '진부': 8685, '목원대': 8686, '해부학': 8687, '밤죄': 8688, '형사': 8689, '히어로': 8690, '영종': 8691, '문화생활': 8692, '연세대학교': 8693, '신소재': 8694, '연송': 8695, '김슈민': 8696, '헤롱거리': 8697, '갈까말까': 8698, '계세': 8699, '태만': 8700, 'ㅋㅎㅋㅎㅋㅎㅋㅎ': 8701, '스퀘어': 8702, '주흘산': 8703, '후방': 8704, '렌즈삽입술': 8705, '개월차': 8706, '건조': 8707, '증도': 8708, '따땃': 8709, '렌': 8710, '삽하': 8711, '광화문': 8712, '액체': 8713, '룰루랄라': 8714, 'ㄱㅔ': 8715, '건초염': 8716, '합당': 8717, '클래스': 8718, '유니폼': 8719, '산실': 8720, '상아탑': 8721, '지혜': 8722, '롭고': 8723, '총명하다': 8724, '학우': 8725, '빗다': 8726, '놀수': 8727, '분임': 8728, '개비': 8729, '돈값': 8730, '헹가래': 8731, '테이프': 8732, '덕지덕지': 8733, '얼핏보기': 8734, '꼼꼼힌': 8735, '두께': 8736, '두껍다': 8737, '성북동': 8738, '벅벅': 8739, '닦이다': 8740, '벗기다': 8741, '새살': 8742, '놧': 8743, '강압': 8744, '서핑': 8745, '이내': 8746, '함지': 8747, '난주': 8748, '부리고': 8749, '미디': 8750, '나왓다': 8751, '개떡': 8752, '말벗': 8753, '셨': 8754, '마스': 8755, '화학': 8756, '강대': 8757, '위장': 8758, '담낭염': 8759, '백운동': 8760, '탐방': 8761, '만물상': 8762, '무적': 8763, '천사': 8764, '중단': 8765, '드라이버': 8766, '장려': 8767, '식장': 8768, '쪽방길': 8769, '여기산': 8770, 'ㅂㄱ': 8771, '집단강간': 8772, '퍼뜨려줄': 8773, '주술': 8774, '최곤데용': 8775, '계절': 8776, '랍니다': 8777, '스레기같아': 8778, '피사': 8779, '사탑': 8780, '돌탑': 8781, '우웁': 8782, '우욱': 8783, '친일': 8784, '어떨': 8785, '떰': 8786, '유채꽃': 8787, '의랑': 8788, '스임': 8789, '초소': 8790, '논문': 8791, '하여간': 8792, '김행': 8793, '원님': 8794, '은은하다': 8795, '차마': 8796, '영천시장': 8797, '식후': 8798, '조치원': 8799, '납품': 8800, '방망이': 8801, '금산': 8802, '등번': 8803, '빨래': 8804, '텍': 8805, '쩝': 8806, '심영': 8807, '락골': 8808, '휘날리다': 8809, '태극기': 8810, '뭐좀': 8811, '드니': 8812, '끼니': 8813, '성숙하다': 8814, '트집': 8815, '자존감': 8816, '진흥': 8817, '모가디슈': 8818, '존잼': 8819, '전념': 8820, '배기': 8821, '몰아치다': 8822, '평지': 8823, '깔딱': 8824, '성산': 8825, '상각': 8826, '개수대': 8827, '레일바이크': 8828, '흥분하다': 8829, '나나': 8830, '말다툼': 8831, '체인점': 8832, '머스타드': 8833, '빠뜨리다': 8834, '퍼포먼스': 8835, '범퍼카': 8836, '수표': 8837, '남아도': 8838, '주창': 8839, '장로': 8840, '간접': 8841, '에어팟': 8842, '눈코': 8843, '뷴위기': 8844, '엘리': 8845, '타래': 8846, '두더지': 8847, '도체': 8848, '단장': 8849, '마크': 8850, '강서': 8851, '교명': 8852, '호평': 8853, '광고인': 8854, '배임': 8855, '오천원': 8856, '오만원': 8857, '식전': 8858, '구조원': 8859, '분간': 8860, '이일': 8861, '혜성': 8862, '등장': 8863, '타이거': 8864, '맵스': 8865, '비원': 8866, '안암': 8867, '무치다': 8868, '로웰': 8869, '산성역': 8870, '약분': 8871, '오르락내리락': 8872, '청계산': 8873, '대모산': 8874, '우면산': 8875, '녹차': 8876, '외다': 8877, '등당': 8878, '혈색소': 8879, '점심식사': 8880, '마망갸또': 8881, '나주': 8882, '청하면': 8883, '꼽주질않': 8884, '말리': 8885, '중대': 8886, '수화기': 8887, '눈웃음': 8888, '용종': 8889, '절제': 8890, '냉랭하다': 8891, '쏘아보다': 8892, '쒯임': 8893, '에서가': 8894, '깝': 8895, '청라': 8896, '지젤': 8897, '미등록': 8898, '업그레이드': 8899, '워킹맘': 8900, '침착하다': 8901, '단조롭다': 8902, '삼계': 8903, '리노': 8904, '홍순': 8905, '이기전': 8906, '강호동': 8907, '패딩': 8908, '왜케띠꺼움': 8909, '주스': 8910, '카자흐스탄': 8911, '엑': 8912, '동문서답': 8913, '향수': 8914, 'ㅜㅡㅜ': 8915, '희생': 8916, '서해': 8917, '포근하다': 8918, '등기': 8919, '발도': 8920, '총재': 8921, '개학': 8922, '전라도': 8923, '판치다': 8924, '인화': 8925, '만둣국': 8926, '바벨': 8927, '깔보다': 8928, '반려견': 8929, '손톱깎이': 8930, '불합': 8931, '요관': 8932, '유성': 8933, '주변기기': 8934, '비포장도로': 8935, '신학교': 8936, '쑥덕거리다': 8937, '헐뜯다': 8938, '조롱': 8939, '자위': 8940, '자영': 8941, '업자': 8942, '총괄': 8943, '시쫌': 8944, '김성수': 8945, '나신': 8946, '주치': 8947, '셧': 8948, '코골': 8949, '각봉': 8950, '사립대': 8951, '킹정': 8952, '습니': 8953, '서강대': 8954, '전자공학': 8955, '학종': 8956, '작용': 8957, '생쌀': 8958, '졋슴': 8959, '아동복': 8960, '핏': 8961, '단돈': 8962, '삼박자': 8963, '구만': 8964, '스승': 8965, '요나': 8966, '굼': 8967, '멎다': 8968, '운명': 8969, '마오': 8970, '구월동': 8971, '주안역': 8972, '봄철': 8973, '산불': 8974, '조림': 8975, '원주민': 8976, '동성': 8977, '국토부': 8978, '위성': 8979, '산초나무': 8980, '싸리나무': 8981, '국수나무': 8982, '경사면': 8983, '헤치다': 8984, '발도장': 8985, '감싸다': 8986, '생강나무': 8987, '꽃들이': 8988, '살피': 8989, '도룡용': 8990, '개구리': 8991, '생태계': 8992, '듭니다가파른': 8993, '내쉬다': 8994, '잔설': 8995, '덮힌': 8996, '꿈틀': 8997, '기지개': 8998, '환희': 8999, '송가': 9000, '대규모': 9001, '향악': 9002, '백성': 9003, '배타': 9004, '노니': 9005, '아우르다': 9006, '타박': 9007, '배송비': 9008, '싼값': 9009, '기사도': 9010, '핵꿀맛': 9011, '돌솥': 9012, '죽여주다': 9013, '해르츠': 9014, '라이선스': 9015, 'ㅅㅡㅂ': 9016, '으롭': 9017, '간정': 9018, '청풍호반': 9019, '비봉': 9020, '사유화': 9021, '제천시': 9022, '블리츠': 9023, '둔촌동': 9024, '풍납동': 9025, '연패': 9026, '성향': 9027, '보광사': 9028, '평상': 9029, '지그재그': 9030, '흙산': 9031, '앵무': 9032, '좋겠슴': 9033, '못내': 9034, '어물': 9035, '쩡': 9036, '송정동': 9037, '이구만': 9038, '비옷': 9039, '갑산': 9040, '구갈': 9041, '전일': 9042, '산타': 9043, '늠': 9044, '엘보쪽': 9045, '어마어마하다': 9046, 'ㄴㅅㄷㄴㄴㄴㄴㅇㄴㅅ': 9047, '자라': 9048, '벨벳': 9049, '자갈': 9050, '최정금': 9051, '르타리': 9052, '기관지염': 9053, '제조': 9054, '이프': 9055, '불문': 9056, '채플': 9057, '예수': 9058, '가습기': 9059, '살균제': 9060, '잡혀가다': 9061, '연필': 9062, '헐값': 9063, '아야': 9064, '조오': 9065, '뻘': 9066, '잣': 9067, '스탠': 9068, '딩': 9069, '함그': 9070, '신성하다': 9071, '수리산': 9072, '뒤로': 9073, '청량리': 9074, '문두': 9075, '환환': 9076, '실손': 9077, '부당성': 9078, '알리다': 9079, '함입': 9080, '원전': 9081, '인부': 9082, '담그다': 9083, '시불': 9084, '아산현': 9085, '남아나다': 9086, '발부': 9087, '아무런': 9088, '방송대': 9089, '나마': 9090, '전락': 9091, '사향': 9092, '치워지다': 9093, '삿대질': 9094, '대문': 9095, '맥박': 9096, '아이파크': 9097, '투철': 9098, '기와': 9099, '음질': 9100, '자동차극장': 9101, '아두': 9102, '팅팅': 9103, '개웅산': 9104, '모르겤': 9105, '닭도리탕': 9106, '요가파': 9107, '눙선': 9108, '다이어트': 9109, '답장': 9110, '또다시': 9111, '대걸레': 9112, '그랬는데': 9113, '마커': 9114, '화방': 9115, '화구': 9116, '용지': 9117, '제때': 9118, '천수만': 9119, '상신': 9120, '모산': 9121, '북굴': 9122, '먹보': 9123, '개구': 9124, '동리': 9125, '청옥산': 9126, '수풀': 9127, '소매': 9128, '스크레치': 9129, '몰려들다': 9130, '인산인해': 9131, '미만': 9132, '리움': 9133, '뛰어나다': 9134, '정성껏': 9135, '은평': 9136, '존댓말': 9137, '차려': 9138, '수선': 9139, '알래스카': 9140, '컨': 9141, '점심때': 9142, '멀티': 9143, '텝': 9144, '길찾기': 9145, '같이도': 9146, '적정하다': 9147, '상남': 9148, '초등때': 9149, '게맛': 9150, '불불불': 9151, '시름': 9152, '버블티': 9153, '취저': 9154, '명세서': 9155, '끊어지다': 9156, '꽤괜': 9157, '벌이다': 9158, '산채': 9159, '이라기': 9160, '존내': 9161, '화분': 9162, '해쉬': 9163, '브라운': 9164, '개티남': 9165, '이력': 9166, '달래': 9167, '몬': 9168, '에의': 9169, '청소부': 9170, '사망': 9171, '침묵': 9172, '정권': 9173, '취지': 9174, '군신': 9175, '한예종': 9176, '고립': 9177, '해소': 9178, '단서': 9179, '고현재': 9180, '초진': 9181, '사모님': 9182, '위닝': 9183, '신혼부부': 9184, '합산': 9185, '정발': 9186, '곰발': 9187, '타령': 9188, '부인사': 9189, '하이브리드': 9190, '솟다': 9191, '리오레': 9192, '조취': 9193, 'ㅅㅇㅈ': 9194, '실가': 9195, '때임': 9196, '선경': 9197, '위경련': 9198, '널다': 9199, '신실': 9200, '찬걸': 9201, '짝음': 9202, '카페나': 9203, '찜통임': 9204, '줄줄': 9205, '젓': 9206, '쩍쩍': 9207, '달라붙다': 9208, '실외': 9209, '엇어': 9210, '염두': 9211, '산정호수': 9212, '아름': 9213, '딥': 9214, '드심': 9215, '영웅재중': 9216, '앆읍니': 9217, '갑빠': 9218, '재공': 9219, '콜백': 9220, '가파른곳': 9221, '피카': 9222, '통틀어': 9223, '로벤': 9224, '우시': 9225, '계룡시': 9226, '반원': 9227, '에브리데이': 9228, '경인': 9229, '양관': 9230, '팔봉산': 9231, '덜컹덜컹': 9232, '으리': 9233, '쏟아지다': 9234, '무전기': 9235, '군요': 9236, '화타': 9237, '이버지': 9238, '프런트데스트': 9239, '비아': 9240, '역다': 9241, '파판': 9242, '본의': 9243, '미군': 9244, '부채': 9245, '요땀': 9246, '나왓어': 9247, '팔뚝': 9248, '피멍': 9249, '전통주': 9250, '네째': 9251, '단축': 9252, '삼장': 9253, '운장': 9254, '칠성': 9255, '살모사': 9256, '씨티': 9257, '줄평': 9258, '빼빼로': 9259, '비제': 9260, '개줌': 9261, '의왕시': 9262, '특약': 9263, '조언': 9264, '폐가': 9265, '혼쭐남': 9266, '할껀': 9267, '인후': 9268, '두경부': 9269, '상암': 9270, '번시': 9271, '푸석푸석하다': 9272, '여행지': 9273, '녹양역': 9274, '소림사': 9275, '천보산': 9276, '굿이어': 9277, '사보': 9278, '조선족': 9279, '유증': 9280, 'ㄴㄴㄴㄴㄴ': 9281, '뒤러': 9282, '합치다': 9283, '가뿐하다': 9284, '정규': 9285, '필욘': 9286, '요한손': 9287, '팔랑거리다': 9288, '쩌': 9289, '블라블라': 9290, '라기보다는': 9291, '나발': 9292, '이해력': 9293, '자취': 9294, '힐난': 9295, '착시현상': 9296, '마틸다': 9297, '검표': 9298, '하은': 9299, '피로하다': 9300, '은행가': 9301, '익현': 9302, '처럼만': 9303, '벋다': 9304, '브로커': 9305, '메뉴판': 9306, 'ㅎㄹ': 9307, '들여다보다': 9308, '번쩍번쩍': 9309, '대순진리교': 9310, '진리': 9311, '엄니': 9312, '문래': 9313, '날아다니다': 9314, 'ㄱㅁㅅ': 9315, '기각': 9316, '방어': 9317, '마비노기': 9318, '운길산': 9319, '수정사': 9320, '장기거래': 9321, '경향': 9322, '입히다': 9323, '벌벌': 9324, '부여': 9325, '경기장': 9326, '순환': 9327, '암컷': 9328, '무당': 9329, '무창': 9330, '렬임': 9331, '코카뚱캔': 9332, '개창': 9333, '렬': 9334, '해구': 9335, '색도': 9336, '직뤈': 9337, '생물학': 9338, '인문학': 9339, '타지': 9340, '미로찾기': 9341, '폐활량': 9342, '장윤정': 9343, '공작': 9344, '꼬리': 9345, '공작산': 9346, 'ㅇㅅㄷ': 9347, '여술': 9348, '던트': 9349, '국제화': 9350, '유차': 9351, '발레파킹': 9352, '떠지다': 9353, '에드': 9354, '자글자글': 9355, '민트': 9356, '유자': 9357, '알레르기': 9358, '엄한데': 9359, '최후': 9360, '항쟁': 9361, '쫓기다': 9362, '포위': 9363, '떠나가다': 9364, '울음': 9365, '음산': 9366, '전해지다': 9367, '판매량': 9368, '달성': 9369, '양하다': 9370, '전두환': 9371, '소유': 9372, '유치하다': 9373, '스카이': 9374, '횡성군': 9375, '이트': 9376, '최적': 9377, '드라이브차': 9378, '하루빨리': 9379, '지병': 9380, '코디': 9381, '안듬': 9382, '호두과자': 9383, '정이': 9384, '안시': 9385, '낚시꾼': 9386, '떡밥': 9387, '미끼': 9388, '투기': 9389, '뒷정리': 9390, '쫄딱맞': 9391, '닭고기': 9392, '도드람': 9393, '풀세팅': 9394, '내려다보다': 9395, '바사': 9396, '사사사': 9397, '삭': 9398, '앞열': 9399, '배우': 9400, '전율': 9401, '하단': 9402, '글자': 9403, '한글': 9404, '신용거래': 9405, '고지도': 9406, '효력': 9407, '벼락치기': 9408, '꽁꽁': 9409, '싸매다': 9410, '레이싱': 9411, '남한': 9412, '렸': 9413, '유로': 9414, '가평군': 9415, '사무소': 9416, '것좀': 9417, '울버린': 9418, '우당': 9419, '서림': 9420, '책갈피': 9421, '꾸러미': 9422, '여행자': 9423, '중리': 9424, '계방': 9425, '항': 9426, '위독하다': 9427, '걸어오다': 9428, '병들다': 9429, '악질': 9430, '금부': 9431, '뉘': 9432, '펌': 9433, '뿌루퉁': 9434, '무슌': 9435, '통수': 9436, '갯골': 9437, '왓어요갯': 9438, '서브': 9439, '노티': 9440, '세이브': 9441, '데이타': 9442, '중원산': 9443, '중원': 9444, '권장': 9445, '솜씨': 9446, '브레스트': 9447, '월초': 9448, '루프': 9449, '졸': 9450, '비슷': 9451, '커넥션': 9452, '제후': 9453, '잔기침': 9454, '광남': 9455, '여야': 9456, '상방리': 9457, '단군': 9458, '간분': 9459, '쉬움맵': 9460, '동천로': 9461, '로단': 9462, '브라우니': 9463, '산기': 9464, '년차': 9465, '포크': 9466, '오드': 9467, '쯧쯧': 9468, '빅': 9469, '철로': 9470, '로되': 9471, '켜줌': 9472, '디도스': 9473, '무능': 9474, '루팡': 9475, '후불': 9476, '카운트': 9477, '버시려': 9478, '눈밑': 9479, '오래간만': 9480, '가톨릭': 9481, '투썸플레이스': 9482, '송사': 9483, '고로케': 9484, '열거': 9485, '쿵짝쿵짝': 9486, '간도': 9487, '모로': 9488, '축구장': 9489, '죄책감': 9490, '끙끙': 9491, '한시름': 9492, '설득': 9493, '커뮤': 9494, '아다리': 9495, '엉기적엉기적': 9496, '여섯': 9497, '만경강': 9498, '발원': 9499, '치명': 9500, '녜': 9501, '외과의사': 9502, '개욕': 9503, '번로': 9504, '던파': 9505, '거진': 9506, '고로': 9507, '디코': 9508, '느닷없다': 9509, '과목': 9510, '어택': 9511, '도렉': 9512, '정자동': 9513, '표함': 9514, '죽전역': 9515, '주름': 9516, '제멋대로': 9517, '행태': 9518, '하관': 9519, '유순': 9520, '상책': 9521, '으로나': 9522, '홍입': 9523, '청진': 9524, '병용': 9525, '번하다': 9526, '모낭': 9527, '정가': 9528, '커트': 9529, '러리': 9530, '색감': 9531, '테일러': 9532, '엔프피': 9533, '퍼플': 9534, '레인': 9535, '산뜻하다': 9536, '돋보이다': 9537, '미당': 9538, '갈고': 9539, '빌런': 9540, '앨리': 9541, '옳다': 9542, '실펌': 9543, '탁월하다': 9544, '괜찬': 9545, '려산': 9546, '앞머리': 9547, '고자세': 9548, '요아리': 9549, '팔만': 9550, '광덕산': 9551, '하겐': 9552, '학생회': 9553, '안치': 9554, '빈소': 9555, '중얼거리다': 9556, '옹알거리다': 9557, '어위': 9558, '중고생': 9559, '시야': 9560, '경비실': 9561, '식인': 9562, '회차': 9563, '옛': 9564, '신돈': 9565, '언행': 9566, '면전': 9567, '여념': 9568, '소화기': 9569, '응용': 9570, '죵': 9571, '개띠': 9572, '불성실하다': 9573, '상대방': 9574, '수염': 9575, '가천의대': 9576, '박윤선': 9577, '문상훈': 9578, '이정은': 9579, '태그': 9580, '구보': 9581, '활': 9582, '패드': 9583, '거두다': 9584, '비어': 9585, '마티니': 9586, '케이준': 9587, '감자': 9588, '빡셌던': 9589, '빡센': 9590, '러블': 9591, '리즈': 9592, '미주': 9593, '옥천': 9594, '쟁반': 9595, '스피드': 9596, '우선하다': 9597, '찡찡대다': 9598, '피우지': 9599, '가소': 9600, '장협착': 9601, '요런': 9602, '대회': 9603, '만두': 9604, '타로': 9605, '상복': 9606, '비문': 9607, '사고방식': 9608, '구식': 9609, '욕지거리': 9610, '곧바로': 9611, '밥줄': 9612, '강화군': 9613, '삼산면': 9614, '매음': 9615, '탁트인': 9616, '휴식시간': 9617, '굽신굽신': 9618, '획': 9619, '커먼': 9620, '방과': 9621, '쌍벽': 9622, '고속': 9623, '고속버스': 9624, '유용하다': 9625, '짐작': 9626, '존엄': 9627, '따윈': 9628, '부들부들': 9629, '직각': 9630, '함집': 9631, '장하영': 9632, '안성은': 9633, '항소': 9634, '공판': 9635, '야금야금': 9636, '감옥살이': 9637, '옴청': 9638, '장마철': 9639, '빠앙': 9640, '힐끔': 9641, '어지간하다': 9642, '보복': 9643, '비방': 9644, '헬프': 9645, '열쇠': 9646, '현안': 9647, '확진': 9648, '쿡방': 9649, '요건': 9650, '투박': 9651, '브라운관': 9652, '엣지': 9653, '천연색': 9654, '대방': 9655, '유령도시': 9656, '적막하다': 9657, '난이': 9658, '빵점': 9659, '개인키': 9660, '쫄아': 9661, '텁텁': 9662, '묽다': 9663, '퀄': 9664, '흡족하다': 9665, '새건뮬': 9666, '후루룩': 9667, '특수': 9668, '떠듬': 9669, '뻔그': 9670, '해약': 9671, '돌솥밥': 9672, '김여기': 9673, '기소': 9674, '식자': 9675, '재는': 9676, '랐': 9677, '긴가민가하다': 9678, '나잇': 9679, '한가위': 9680, '즐추': 9681, '대룡': 9682, '뱅뱅': 9683, '지지도': 9684, '흐트려진': 9685, '이이': 9686, '반듯하다': 9687, '흐트려진옷': 9688, '도봉': 9689, '당혹스럽다': 9690, '필기': 9691, '가계': 9692, '뜰때': 9693, '세가족': 9694, '중장': 9695, '찐득찐득': 9696, '낭낭': 9697, '기낭': 9698, '낭함': 9699, '무화과': 9700, '깜빠뉴': 9701, '구의동': 9702, '교류': 9703, '킨': 9704, '자계': 9705, '잘나다': 9706, '푹쉬다': 9707, '워크샵': 9708, '자임': 9709, '다락방': 9710, '까딱': 9711, '나락': 9712, '박학': 9713, '만듭니': 9714, '유형': 9715, '청원': 9716, '야트막하다': 9717, '수퍼': 9718, '하기는': 9719, '대명사': 9720, 'ㅂㅈㅅ': 9721, '전입': 9722, '금기': 9723, '코어': 9724, '오초': 9725, '이소리': 9726, '통화연결음': 9727, '긴지': 9728, '돌려막기': 9729, '른': 9730, '미스': 9731, '황차': 9732, '이풍': 9733, '아멘': 9734, '용무': 9735, '남문': 9736, '땋': 9737, 'ㅇㄷㄱ': 9738, '와룡산': 9739, '전시회': 9740, '헤헤': 9741, '필봉': 9742, '동남쪽': 9743, '용화사': 9744, '효석': 9745, '한여름': 9746, '나야': 9747, '거르세': 9748, '독립기념관': 9749, '흑성산': 9750, '장시간': 9751, '광고지': 9752, '김씨': 9753, '아싸': 9754, '평화롭다': 9755, '소요산': 9756, '소요산역': 9757, '놨어': 9758, '학습지도': 9759, '라이트': 9760, '비인간': 9761, '햄스터': 9762, '빙글빙글': 9763, '공과금': 9764, '자만': 9765, '생엄': 9766, '애가': 9767, '년생': 9768, '객인': 9769, '발설': 9770, '가까워지다': 9771, '에펙같': 9772, '꿀팁': 9773, '마이크': 9774, '바탕화면': 9775, '뚱땡이': 9776, '이아': 9777, '전파': 9778, '만년필': 9779, '공책': 9780, '발렛되': 9781, '신경안': 9782, '꼴리다': 9783, '노출': 9784, '매달': 9785, '한우': 9786, '밖에는': 9787, '콘': 9788, '조두순': 9789, '기름기': 9790, '멍청하다': 9791, '훤히': 9792, '지우개': 9793, '취미': 9794, '포경': 9795, '스술': 9796, '슬립': 9797, '왼손': 9798, '허벅지': 9799, '찰': 9800, '과상': 9801, '아파해': 9802, '안라': 9803, '강당': 9804, '일분': 9805, '교장': 9806, '원진': 9807, '가중': 9808, '이불': 9809, '우대': 9810, '영상통화': 9811, '건너가다': 9812, '라마르': 9813, '갘': 9814, '녹조': 9815, '하아': 9816, '고대': 9817, '개운산': 9818, '이간': 9819, '대세': 9820, '검악산': 9821, '수협': 9822, '순수하다': 9823, '함박꽃': 9824, '함박눈': 9825, '푸딩': 9826, '개썩창': 9827, '딸아이': 9828, '책살': 9829, '변비': 9830, '방가': 9831, '유치': 9832, '움집': 9833, 'ㄲㄲ': 9834, '이디야': 9835, '정보보호': 9836, '적팀': 9837, '옴캔': 9838, '협소': 9839, '내의': 9840, '민락점': 9841, '중순': 9842, '명쾌하다': 9843, '명령': 9844, '연회': 9845, '조영제': 9846, '항히스타민제': 9847, '말좀': 9848, '위탁': 9849, '토마스': 9850, '제단': 9851, '구실': 9852, '거품': 9853, '고물': 9854, '오븐': 9855, '위치브랜딩': 9856, '무용': 9857, '꼬맷': 9858, '새롬동': 9859, '연기면': 9860, '월동': 9861, '정인': 9862, '양모': 9863, '댓글달다': 9864, '예비': 9865, '범죄자': 9866, '맴': 9867, '버들': 9868, '비량': 9869, '협소하': 9870, '창장': 9871, '텐션': 9872, '안틈': 9873, '산비탈': 9874, '청설모': 9875, '꿩': 9876, '은지': 9877, '밀크쉐이크': 9878, '다도': 9879, '천만원': 9880, '얽히다': 9881, '모의': 9882, '자양': 9883, '종식': 9884, '맹산': 9885, '발광하다': 9886, '눈부시다': 9887, '커다랗다': 9888, '나방': 9889, '우중충하다': 9890, '저급하다': 9891, '외환은행': 9892, '장동건': 9893, '스케': 9894, '안눌립니': 9895, '칼산': 9896, '버릭': 9897, '장바구니': 9898, '위번': 9899, '유원': 9900, '절었': 9901, '횡단보도': 9902, '열흘': 9903, '눌렸던': 9904, '년안': 9905, '병신': 9906, '저리다': 9907, '깽판': 9908, '제등': 9909, '때메': 9910, '창렬임': 9911, '주파': 9912, '음좀': 9913, '체육대회': 9914, '도화': 9915, '복숭아꽃': 9916, '보성': 9917, '빌라': 9918, '강종': 9919, '도시괴담': 9920, '오리역': 9921, '연관검색어': 9922, '식물원': 9923, '괜챦네': 9924, '헌터': 9925, 'ㅓㅆ': 9926, '는데': 9927, '꼼꼼': 9928, '나긋나긋하다': 9929, '방목': 9930, '살짝살짝': 9931, '아나바다': 9932, '총각': 9933, '순서도': 9934, '순서대로': 9935, '궁극': 9936, '파이터': 9937, '부라리다': 9938, '덤비다': 9939, '기계공': 9940, '융합': 9941, '두절': 9942, '개층': 9943, '츰': 9944, '베스킨라빈스': 9945, '쥬얼리': 9946, '모두투어': 9947, '상자': 9948, '샾': 9949, '가방': 9950, '악세사리': 9951, '문방구': 9952, '입출': 9953, '입시': 9954, '식료품': 9955, '제빵': 9956, '주방용품': 9957, '세제': 9958, '도구': 9959, '생활용품': 9960, '장지역': 9961, '몰리샾': 9962, '편쪽': 9963, '가이드라인': 9964, '본받다': 9965, '역량': 9966, '넘사벽': 9967, '강쥐': 9968, '밥그릇': 9969, '뮤지컬': 9970, '직하다': 9971, '반샷': 9972, '샷추': 9973, '낭독': 9974, '압니다': 9975, '훔': 9976, 'ㅇㅎㅌ': 9977, '요코': 9978, '빳습': 9979, '인격': 9980, '뻐근하다': 9981, '그란': 9982, '모터바이크': 9983, '경포': 9984, '가시연': 9985, '습지': 9986, '막국수': 9987, '아쿠아리움': 9988, '아르떼': 9989, '뮤': 9990, '지엄': 9991, '배출': 9992, '떽떽': 9993, '청수': 9994, '사각': 9995, '통체': 9996, '익선동': 9997, '넓어지다': 9998, '란치': 9999, '딸램': 10000, '토플': 10001, '펭소': 10002, '무족': 10003, '영문': 10004, '로라': 10005, '파먹다': 10006, '이기도': 10007, '어쨌을': 10008, '아찔하다': 10009, '궂어': 10010, '응가': 10011, '돼지갈비': 10012, '자비': 10013, '기담': 10014, '싸늘하다': 10015, '냉대': 10016, '함왜': 10017, '줄곧': 10018, '비수': 10019, '무뚝뚝하다': 10020, '구트': 10021, '유사': 10022, '삼겹': 10023, '찌꺼기': 10024, '시원': 10025, '흘깃보더': 10026, '차돌박이': 10027, '국밥': 10028, '누르기': 10029, '제약': 10030, '부안': 10031, '쇼크': 10032, '마나': 10033, '지리': 10034, '똑똑하다': 10035, '꼬으려': 10036, '가부좌': 10037, '동사무소': 10038, '거래처': 10039, '순삭': 10040, '허리우드': 10041, '왕중': 10042, '아벨리노': 10043, '안팎': 10044, '눈부심': 10045, '나눠지다': 10046, '울안': 10047, '강변역': 10048, '자차': 10049, '사안': 10050, '도배': 10051, '악성댓글': 10052, '들쑥날쑥': 10053, '티남': 10054, '아해': 10055, '갸우뚱갸우뚱': 10056, '차앤': 10057, '친절해지다': 10058, '대적': 10059, '느릿느릿': 10060, '되돌리다': 10061, '년산': 10062, '토박이': 10063, '원수': 10064, '강스': 10065, '곳울': 10066, '페플': 10067, '멤버': 10068, '보채다': 10069, '외형': 10070, '벌생': 10071, '해안가': 10072, '세지': 10073, '압': 10074, '해얄듯': 10075, '백수': 10076, '액션영화': 10077, '포디': 10078, '비쥬': 10079, '클래식': 10080, '커피가게': 10081, '익숙하다': 10082, '라인업': 10083, '트렌디': 10084, '호기심': 10085, '만족감': 10086, '떨기': 10087, '으음': 10088, '명확하다': 10089, '목록': 10090, '떰나': 10091, '진지하다': 10092, '회엄': 10093, '사죄': 10094, 'ㅇㅅㅇㅅ': 10095, '아득하다': 10096, '사랑방': 10097, '풍요롭': 10098, '그간': 10099, '원주고': 10100, '샤머': 10101, '머스켓': 10102, '비꼼': 10103, '몇대': 10104, '피아니스트': 10105, '박하사탕': 10106, '사촌': 10107, '오빠': 10108, '빔': 10109, '프로젝트': 10110, '귯평일': 10111, '끌북북': 10112, '운동선수': 10113, '중상': 10114, '대낮': 10115, '괜춘함': 10116, 'ㅜㅜㅠㅠㅠ': 10117, '갯': 10118, '펄펄': 10119, '끓다': 10120, '타이머': 10121, '난치': 10122, '염시': 10123, '제천': 10124, '북바위산': 10125, '길들이다': 10126, '오한': 10127, '두통': 10128, '타이레놀': 10129, '의왕': 10130, '포일': 10131, '냉': 10132, '개떡같다': 10133, '나흘': 10134, '연유': 10135, '치즈케이크': 10136, '싣다': 10137, '애끼': 10138, '차지맙시': 10139, '달랑': 10140, '던저': 10141, '노닥거리': 10142, '퍼주': 10143, 'ㅓㅠ': 10144, '뷰티': 10145, '대졸': 10146, '자전': 10147, '입합': 10148, '멘토링': 10149, '거주지': 10150, '통학': 10151, '품격': 10152, '장바닥': 10153, '극도': 10154, '랍니': 10155, '달래다': 10156, '맥도날드': 10157, '리턴': 10158, '노동요': 10159, '볼륨': 10160, '김봉': 10161, '어쩌라고': 10162, '조지': 10163, '메이슨': 10164, '조화': 10165, '주상': 10166, '매각': 10167, '탄생': 10168, '발산역': 10169, '점차': 10170, '머거다': 10171, '변호사': 10172, '쨍쨍': 10173, '향연': 10174, '금치': 10175, '다작': 10176, '이해해': 10177, '절때': 10178, '맹물': 10179, '떨이': 10180, '퍼서줌': 10181, '안가봣': 10182, '로열': 10183, '법적': 10184, '혼영': 10185, '갇히다': 10186, '검정': 10187, '복창': 10188, '리어카': 10189, '쫌쉬운': 10190, '루트': 10191, '한남동': 10192, '웻커피': 10193, '위펄': 10194, '신부': 10195, '둘임': 10196, '축가': 10197, '초치': 10198, '안남협소': 10199, '피아노': 10200, '꽃장식': 10201, '상차림': 10202, '남짓하다': 10203, '퍽': 10204, '운영자': 10205, '토익': 10206, '책위': 10207, '꽂히다': 10208, '와이': 10209, '통일': 10210, '한겨울': 10211, '분소': 10212, '조그마하다': 10213, '땡볕': 10214, '소화': 10215, '강변': 10216, '연금': 10217, '지껄이다': 10218, '멍청이': 10219, '네네': 10220, 'ㄷㅊ': 10221, 'ㅈㄷㅊㄷㅊㅅ': 10222, 'ㅊ': 10223, '틑': 10224, 'ㅉㄷㅊㅌ': 10225, '즏': 10226, 'ㅈㄷ': 10227, '듲': 10228, 'ㅈㅅ': 10229, '거봉': 10230, '넷플릭스': 10231, '아디': 10232, '쪼금': 10233, '괴롭히다': 10234, '카드뮴': 10235, '중금속': 10236, '방류': 10237, '양대': 10238, '축': 10239, '가제': 10240, '주춤': 10241, '다식': 10242, '뭣같네': 10243, '어투': 10244, '로딩': 10245, '섬뜩하다': 10246, '본격': 10247, '진흙탕': 10248, '만신창이': 10249, '어찌저찌': 10250, '힘겹다': 10251, '선수': 10252, '삼페쓰': 10253, '기로': 10254, '다산동': 10255, '맹신': 10256, '안갓': 10257, '호성': 10258, '호로도': 10259, '더콜': 10260, '스팸등록': 10261, '전번': 10262, '문화제': 10263, '대청호': 10264, '오봉산': 10265, '자하': 10266, '설영': 10267, '일직': 10268, '구가': 10269, '하우고개': 10270, '어번': 10271, '낮은덴': 10272, '손자': 10273, '킥': 10274, '발악': 10275, '주마': 10276, '전단지': 10277, '금천': 10278, '몰라몰라': 10279, '좌파': 10280, '친북': 10281, '본점': 10282, '버드': 10283, '동화책': 10284, '영대': 10285, '도성': 10286, '결명자': 10287, '면밀하다': 10288, '전의': 10289, '기류': 10290, '지류': 10291, '메우다': 10292, '제주시': 10293, '용담동': 10294, '룸': 10295, '헌트': 10296, '이동훈': 10297, '개관': 10298, '미인': 10299, '대머리': 10300, '에일': 10301, '검정색': 10302, '가만있다': 10303, '불칠절': 10304, '요점': 10305, '박진': 10306, '두어': 10307, '층수': 10308, '어쩌란거임': 10309, '멀뚱이': 10310, '칵퉤': 10311, '대형맏트': 10312, '선진': 10313, '조교': 10314, '학술': 10315, '문화원': 10316, '교무': 10317, '남탓': 10318, '향상': 10319, '성찰': 10320, '태반': 10321, '우위': 10322, '개무시': 10323, '막무가내': 10324, '개돼지': 10325, '단언컨대': 10326, '국립대': 10327, '합병': 10328, '실체': 10329, '닥치고': 10330, '오만만이': 10331, '청주교대': 10332, '이자': 10333, '정답': 10334, '단연': 10335, '트레블': 10336, '힌남노': 10337, '호반': 10338, '색구경': 10339, '존맛이넹': 10340, '불루길': 10341, '문장': 10342, '무협지': 10343, '히스테리': 10344, '만오천원': 10345, '설레다': 10346, '더듬더듬': 10347, '석굴암': 10348, '토함산': 10349, '코오롱': 10350, '빡': 10351, '엉덩방아': 10352, '골짜기': 10353, '차럼': 10354, '푹푹': 10355, '그나저나': 10356, '묘소': 10357, '뒤척': 10358, '트렸': 10359, '니스': 10360, '사다리': 10361, '고령산': 10362, '라멩집입니': 10363, '친일파': 10364, '후손': 10365, '정치인': 10366, '콜롬비아': 10367, '에스페란자': 10368, '버본': 10369, '레드와인': 10370, '건포도': 10371, '레퍼런스': 10372, '한국영': 10373, '떡하니': 10374, '요하': 10375, '글보': 10376, '답십리': 10377, '장한평': 10378, '느그': 10379, '아부지': 10380, '세련되다': 10381, '워드': 10382, '충만': 10383, '할애': 10384, '울창': 10385, '커리큘럼': 10386, '살돈': 10387, '겟한것': 10388, '호공': 10389, '일리': 10390, '말임': 10391, '다름없다': 10392, '꼽주면': 10393, '보덕사': 10394, '지갑': 10395, '푸틴': 10396, '구타': 10397, '용인대': 10398, '떠들썩하다': 10399, '닭꼬치': 10400, '추장국': 10401, '원제': 10402, '하교': 10403, '시가지': 10404, '서나': 10405, '중산': 10406, '정터목': 10407, '동래': 10408, '때혀': 10409, '절실': 10410, '카펜데': 10411, '레스토랑': 10412, '페': 10413, '플랫폼': 10414, '에티켓': 10415, '갑갑하다': 10416, '영화상': 10417, '뭐합': 10418, '손소독': 10419, '우린': 10420, '도입': 10421, '추첨': 10422, '빈통': 10423, '패트병': 10424, '만큼만': 10425, '환경부': 10426, '이십': 10427, '나안': 10428, '왕발': 10429, '특화관': 10430, '나왓으먄': 10431, '구경만': 10432, '아르바이트': 10433, '중독': 10434, '만분': 10435, '구형': 10436, '불안정하다': 10437, '질질': 10438, '꺄': 10439, '얼른얼른': 10440, '동화작가': 10441, '존맛임': 10442, '의암호': 10443, '메뉴얼': 10444, '신입': 10445, '챙': 10446, '주전': 10447, '함덤': 10448, '부서지다': 10449, '구지': 10450, '마자': 10451, '뿌드득': 10452, '또르': 10453, '륵': 10454, 'ㅠㅠㅠㅠㅋㅋㅋㅋ': 10455, '볼패': 10456, '문화재': 10457, '감별': 10458, '면도': 10459, '하나카드': 10460, '버톡': 10461, '테프론': 10462, '간접흡연': 10463, '힘차다': 10464, '징': 10465, '화성시': 10466, '태안읍': 10467, '봉담읍': 10468, '신도시': 10469, '경종': 10470, '부로': 10471, '치직': 10472, '몰루겟음': 10473, '울림': 10474, '의과학': 10475, '짜릿하다': 10476, '메이플': 10477, '손목': 10478, '부목': 10479, '자판기': 10480, '합병증': 10481, '당뇨병': 10482, '고혈압': 10483, '골다공증': 10484, '면역': 10485, '아토피': 10486, '호르몬': 10487, '불균형': 10488, '아주대병원': 10489, '뭐함일': 10490, '파견': 10491, '프린터': 10492, '구한': 10493, '하랑': 10494, '강냉이': 10495, '여물': 10496, '신관': 10497, '불암산': 10498, '부경': 10499, '장기간': 10500, '하주': 10501, '조대': 10502, '완': 10503, '로군요': 10504, '배때': 10505, '닌': 10506, '넘김': 10507, '그러다가': 10508, '가열': 10509, '멘붕': 10510, '너비': 10511, '고집': 10512, '월출산': 10513, '시기하다': 10514, '마로': 10515, '상승': 10516, '벌집': 10517, '쏘이다': 10518, '명불허전': 10519, '조퇴': 10520, '팔꿈치': 10521, '오리진': 10522, '필터': 10523, '노트': 10524, '닥치다': 10525, '과잠': 10526, '안성호': 10527, '곳별': 10528, '들개': 10529, '둘쨋': 10530, '네쨋주': 10531, '헛탕': 10532, 'ㅡㅢㅣㅣ': 10533, '고래사냥': 10534, '호주': 10535, '걸레': 10536, '익스플로러': 10537, '자가용': 10538, '읍내': 10539, '현풍': 10540, '만평': 10541, '다대': 10542, '동이': 10543, '컴컴하다': 10544, '생해': 10545, '기쁨': 10546, '앞서다': 10547, '레몬': 10548, '파운드': 10549, '크으': 10550, '파티': 10551, '은하': 10552, '집주인': 10553, '개발': 10554, '뻗다': 10555, '오호': 10556, '오염': 10557, '갈치': 10558, '경찰청': 10559, '지황': 10560, '궁금증': 10561, '사생활침해': 10562, '불법행위': 10563, '동참': 10564, '학부모': 10565, '맴돌다': 10566, '선처': 10567, '고합': 10568, '이익': 10569, '전체주의': 10570, '광기': 10571, '초상권': 10572, '자궁': 10573, '나팔관': 10574, '생사': 10575, '오가다': 10576, '뿡': 10577, '위엄': 10578, '갱신': 10579, '적합하다': 10580, '덕산': 10581, '시시덕대다': 10582, '온누리상품권': 10583, '날수': 10584, '담요': 10585, '전액': 10586, '딜': 10587, '이브': 10588, '레모네이트': 10589, '피칠갑': 10590, '즐비하다': 10591, '인쇄소': 10592, '곤': 10593, '기회': 10594, 'ㅋㅎㅎ': 10595, '불면증': 10596, '다시피': 10597, '짛': 10598, '지킴': 10599, '지배': 10600, '쒸워저있는': 10601, '어두우': 10602, '휠링': 10603, '진정하다': 10604, '꼭꼭': 10605, '배아': 10606, '직도': 10607, '스배': 10608, '패치': 10609, '이집': 10610, '추정': 10611, '정각': 10612, '어쨌는': 10613, '알턱': 10614, '침체': 10615, '멀뚱하다': 10616, '복판': 10617, '지휘': 10618, '청와대': 10619, '기습': 10620, '전대통령': 10621, '건만': 10622, '사의': 10623, '강인하다': 10624, '공공시설': 10625, '펍': 10626, '신용산': 10627, '간편하다': 10628, '후후': 10629, '아버님': 10630, '찌끄레기': 10631, '퍼줌': 10632, '질리': 10633, '가히': 10634, '자부': 10635, '물회': 10636, '밍': 10637, '가수': 10638, '콘서트장': 10639, '헤드라이트': 10640, '농구장': 10641, '잔디': 10642, '축구': 10643, '야구': 10644, '놀이': 10645, '테니스장': 10646, '베드민턴': 10647, '미술관': 10648, '전관': 10649, '도자기': 10650, '기오': 10651, '태양': 10652, '물보라': 10653, '피고': 10654, '싼타페': 10655, '꼰대': 10656, '소로': 10657, '얼씬': 10658, '안하렵니': 10659, '컨데': 10660, '지향': 10661, '소원': 10662, '이루어지다': 10663, '문전': 10664, '박대': 10665, '남복': 10666, '지관': 10667, '냄왜케': 10668, '싹싹하다': 10669, '사춘기': 10670, '뒤집어지다': 10671, '희망': 10672, '이지함': 10673, '월간': 10674, '께서는': 10675, '은인': 10676, 'ㅅㅃ': 10677, '반절': 10678, '직소': 10679, '컴토': 10680, '용왕': 10681, '약바르다': 10682, '갈랬': 10683, '니드': 10684, '궐': 10685, '밪꽃': 10686, '들판': 10687, '뜻밖': 10688, '횡재': 10689, '유채': 10690, '개나리': 10691, '만끽': 10692, '일렉트로닉': 10693, '라든지': 10694, '설빙': 10695, '어쩌는지': 10696, '헛소릴함': 10697, '원보': 10698, '내달': 10699, '동맥혈': 10700, '그제야': 10701, '안일하다': 10702, '증세': 10703, '과실': 10704, '개톨릭': 10705, '주절주절': 10706, '호룡': 10707, '곡산': 10708, '낙': 10709, '조리사': 10710, '지큐': 10711, '음악사': 10712, '사과받다': 10713, '떨떠름하다': 10714, '땅달보': 10715, '애프터서비스': 10716, '일일이': 10717, '어째서': 10718, '미스테리': 10719, '독감': 10720, '차피': 10721, '숏컷': 10722, '관점': 10723, '별일': 10724, '호들갑': 10725, '버벅일': 10726, '헤어': 10727, '에센스': 10728, '사천': 10729, '오백원': 10730, '경영': 10731, '감사히': 10732, '저녁식사': 10733, '사랑받다': 10734, '라이닝': 10735, '곳꽤': 10736, '짧아지다': 10737, '후유증': 10738, '오토': 10739, '부릅뜨다': 10740, '캡쳐': 10741, '돟음': 10742, '뎨': 10743, '기업체': 10744, '메르스': 10745, '어회': 10746, '얇다': 10747, '공중화장실': 10748, '성과': 10749, '선동': 10750, '마녀사냥': 10751, '오점': 10752, '세스코': 10753, '믿음직하다': 10754, '스페인': 10755, 'ㅗㅜㅑ': 10756, '삭감': 10757, '보이스피싱': 10758, '안당': 10759, '게시판': 10760, '규': 10761, '슬랙스': 10762, '슬림핏': 10763, '수육': 10764, '별문제': 10765, '체증': 10766, '설악산': 10767, '공룡능선': 10768, '서면': 10769, '귀신의집': 10770, '절도': 10771, '학폭': 10772, '자년': 10773, '신장': 10774, '슬쩍슬쩍': 10775, '만큼이나': 10776, '전자제품': 10777, 'ㄱㅆㅏㄱㅈ': 10778, '앗': 10779, '짜르': 10780, '임절때': 10781, '상투': 10782, '임꺽정': 10783, '무더기': 10784, '보이시': 10785, '서씨': 10786, '뒷전': 10787, '분경': 10788, '편협': 10789, '멍멍': 10790, '눅눅최악': 10791, '튕깁니': 10792, '동권': 10793, '푹신푹신': 10794, '이용도': 10795, '말하깅': 10796, '정리해고': 10797, '어쩌냐': 10798, '부축': 10799, '감덕': 10800, '여개': 10801, '폴폴': 10802, '갈기산': 10803, '낫뱃': 10804, '영화트': 10805, '햐': 10806, '환경오염': 10807, '철렁': 10808, '놀란': 10809, '습관': 10810, 'ㅇㅈ': 10811, '뉴코아': 10812, '지하철역': 10813, '매달리다': 10814, '마법': 10815, '시림': 10816, '라섹수술': 10817, '은우': 10818, '김도현': 10819, '서식': 10820, '희미하다': 10821, '심심하다': 10822, '그랬더니': 10823, '긴급하다': 10824, '독하다': 10825, '합법': 10826, '난폭운전': 10827, '충북대': 10828, '트러플': 10829, '제로로': 10830, '병워뉴': 10831, '우한': 10832, '심해지다': 10833, '생업': 10834, '만으로': 10835, '버티고': 10836, '절박': 10837, '병과': 10838, '모욕': 10839, '요성': 10840, '억압받다': 10841, '북큐': 10842, '여항': 10843, '헛구역질': 10844, '영사기': 10845, '빛바': 10846, '양산': 10847, '물금': 10848, '피에스타': 10849, '요거트': 10850, '일회용품': 10851, '표면장력': 10852, '정유진': 10853, '협소해': 10854, '충분': 10855, '산진달래': 10856, '진달래꽃': 10857, '유명': 10858, '샤넬': 10859, '렝겜': 10860, '부랄탁': 10861, '펙트': 10862, '더나': 10863, '병인': 10864, '차근하다': 10865, '간부': 10866, '고등': 10867, '검찰청': 10868, '법조': 10869, '으로서의': 10870, '진절머리': 10871, '전직': 10872, '들여놓다': 10873, '마진': 10874, '샘플': 10875, '포지션': 10876, '헛갈리': 10877, '버벅거리': 10878, '륜차': 10879, '랑은': 10880, '공산당': 10881, '요망': 10882, '수용': 10883, '아자': 10884, '치기': 10885, '먹통': 10886, '에바': 10887, '위층': 10888, '잔해': 10889, '주행': 10890, '이랑은': 10891, '익히다': 10892, '별반': 10893, '야생화': 10894, '고동산': 10895, '회사원': 10896, '가선': 10897, '잎': 10898, '탠데': 10899, '황량': 10900, '괜챦아': 10901, '블랙데이': 10902, '려니': 10903, '부당이득': 10904, '계산기': 10905, '반환': 10906, '연어초밥': 10907, '불암': 10908, '포디관': 10909, '관내': 10910, '경성대': 10911, '동기화': 10912, '열한시': 10913, '눚': 10914, '풀풀': 10915, '가프': 10916, '묘함': 10917, '과쪽': 10918, '난리치다': 10919, '졸졸': 10920, '뇌경색': 10921, '쯔음': 10922, '승급': 10923, '경보': 10924, '위안화': 10925, '상의': 10926, 'ㅁㅊ': 10927, '고양': 10928, '클레': 10929, '초래': 10930, '올바르다': 10931, '테러': 10932, '태원': 10933, '구포': 10934, '부민': 10935, '하진': 10936, '강회': 10937, '정밀': 10938, '수업료': 10939, '순천': 10940, '전세계': 10941, '전상': 10942, '성결교회': 10943, '성결': 10944, '열매': 10945, '부덕': 10946, '고백': 10947, '멸종': 10948, '고재': 10949, '찜찜': 10950, '아가페': 10951, '힘쓰다': 10952, '골빈': 10953, '톡신': 10954, '세수': 10955, '메리': 10956, '빠이': 10957, '악햇': 10958, '무지개폭포': 10959, '반려동물': 10960, '강남대': 10961, '기흥역': 10962, '작전': 10963, '눈살': 10964, '삭히다': 10965, '잇슴': 10966, '왕십리': 10967, '이맥스': 10968, '뽑기': 10969, '튕': 10970, '길때': 10971, '팝업': 10972, '스토어': 10973, '께끗함': 10974, '등교': 10975, '있늩': 10976, '서인': 10977, '토시': 10978, '굽다': 10979, '일로': 10980, '배탈': 10981, '재동': 10982, '자작나무': 10983, '우석대학교': 10984, '전북': 10985, '완주군': 10986, '삼례읍': 10987, '종합대학': 10988, '약학': 10989, '갑인': 10990, '행세': 10991, '왓챠': 10992, '낚였다': 10993, '서생': 10994, '중어': 10995, '방위': 10996, '다정다감하다': 10997, 'ㅡㅎ': 10998, '감솨': 10999, '땅콩': 11000, '버터쿠키': 11001, '족저근막염': 11002, '후식': 11003, '카푸치노': 11004, '요기': 11005, '철': 11006, '모난돌': 11007, '아브렐슈드': 11008, '관문': 11009, '막바지': 11010, '진행중': 11011, '파티원': 11012, '대조': 11013, '개살때': 11014, '부하': 11015, '마틸이': 11016, '태클': 11017, '상점': 11018, '에구': 11019, '출시': 11020, '오프라': 11021, '예산': 11022, '비바람': 11023, '하안': 11024, '사분': 11025, '드뎌': 11026, '구성지다': 11027, '교육부': 11028, '방심하다': 11029, '맛좀': 11030, '미끄럼': 11031, '뻥뚤리다': 11032, '최상급': 11033, '후원': 11034, '해구해': 11035, '지체': 11036, '한페이': 11037, '순식간': 11038, '고차': 11039, '톤': 11040, '줄선': 11041, '대란': 11042, '수북이': 11043, '피디': 11044, '그림자': 11045, '컨셉': 11046, '외근': 11047, '써비': 11048, '다감': 11049, '점안': 11050, '돈내': 11051, '포장도로': 11052, '초당': 11053, '순두부': 11054, '이점': 11055, '못랐던': 11056, '압축': 11057, '매직': 11058, '부워': 11059, '금토': 11060, '서사': 11061, '홀쪽': 11062, '창업': 11063, '경영학': 11064, '스탠드': 11065, '성장하다': 11066, '행성': 11067, '스트레칭': 11068, '팔로': 11069, '아차': 11070, '불칰절': 11071, '후드': 11072, '악몽': 11073, '알순': 11074, '줄순': 11075, '고자': 11076, '싸이키': 11077, '직거림': 11078, '주먹': 11079, '거릴듯': 11080, '거창': 11081, '가조': 11082, '무산': 11083, '킬로': 11084, '울퉁불퉁하다': 11085, '감악': 11086, '현성': 11087, '황석산': 11088, '천혜': 11089, '동국대': 11090, '수험표': 11091, '용악산': 11092, '후우': 11093, '노고': 11094, '무적인': 11095, '계속계속': 11096, '만삭': 11097, '백일해': 11098, '뽀로로': 11099, '귀염': 11100, '전기': 11101, '왜안': 11102, '언론': 11103, '결여': 11104, '타인': 11105, '중요시': 11106, '코스프레': 11107, '화룡': 11108, '점정': 11109, '힘내다': 11110, '해무': 11111, '군데군데': 11112, '레이어': 11113, '포쉬': 11114, '오오오': 11115, '애관': 11116, '다날': 11117, '법석': 11118, '다양': 11119, '핮니': 11120, '만은': 11121, '무질서': 11122, '대역': 11123, '예나': 11124, '반도': 11125, '공석': 11126, '모발': 11127, '이식': 11128, '환형': 11129, '종주': 11130, '갱년기': 11131, '비밀리': 11132, '화만': 11133, '찐득하다': 11134, '자판': 11135, '훈증': 11136, '라스트': 11137, '부결': 11138, '돌이키다': 11139, '미세먼지': 11140, '인천대': 11141, '짭짤하다': 11142, '어딧나': 11143, '주저앉다': 11144, '접합': 11145, '야물다': 11146, '비위': 11147, '말기': 11148, 'ㄲ': 11149, '불규칙': 11150, '전철': 11151, '나뒹굴다': 11152, '하수도': 11153, '스파': 11154, '이사장': 11155, '첫인상': 11156, '박병원': 11157, '경의선': 11158, '신촌역': 11159, '꺾다': 11160, '쪽문': 11161, '베타': 11162, '옥외': 11163, '눈썹': 11164, '월계': 11165, '해달': 11166, '분담': 11167, '밸류': 11168, '광림': 11169, '독특': 11170, '낯': 11171, '카페라떼': 11172, '임낮': 11173, '진장': 11174, '객석': 11175, '걸어가다': 11176, '어벤져스': 11177, '마블': 11178, '요첫': 11179, '파란색': 11180, '서열': 11181, '꿀': 11182, '전시장': 11183, '증말': 11184, '지역화폐': 11185, '섭정': 11186, '이상자': 11187, '몆달전': 11188, '툭': 11189, '테두리': 11190, '삿다가아짜쯩절': 11191, '확장': 11192, '훅': 11193, '정겹다': 11194, '생동감': 11195, '호인': 11196, '날선': 11197, '갈색': 11198, '직함': 11199, '으로가': 11200, '역도': 11201, '유저': 11202, '시커멓다': 11203, '패널': 11204, '삽질': 11205, '월곡': 11206, '집밥': 11207, '인스타그램': 11208, '배스킨라빈스': 11209, '입점해': 11210, '성적': 11211, '우수': 11212, '장학금': 11213, '어림': 11214, '체인지': 11215, '배제': 11216, '데이터': 11217, '유리하다': 11218, '상권': 11219, '닭꼬지': 11220, '임프란': 11221, '비등': 11222, '또임프란트가격': 11223, '임프란트': 11224, '선운산': 11225, '선운사': 11226, '도솔암': 11227, '학문': 11228, '인간성': 11229, '프랑스': 11230, '예술가': 11231, '일그러지다': 11232, '영웅': 11233, '권문세가': 11234, '밀착': 11235, '혜안': 11236, '미미': 11237, '드릅다': 11238, '얼룩': 11239, '무늬': 11240, '페이크': 11241, '밀대': 11242, '건아': 11243, 'ㅠㅠㅠㅠㅠㅜㅜ': 11244, '개벽': 11245, '떳네': 11246, '오물': 11247, '똥물': 11248, '병태': 11249, '핑뜸': 11250, '박수': 11251, '츄리닝': 11252, '창피하다': 11253, '짱깨': 11254, '옆뒤': 11255, '운동장': 11256, '폐쇄적': 11257, '도어': 11258, '스벅갈게': 11259, '병행': 11260, '쌩돈': 11261, '렷쥬': 11262, '첨성대': 11263, '학소': 11264, '송두리째': 11265, '기수': 11266, '찜찜하다': 11267, '담보': 11268, '훈훈하다': 11269, '체구': 11270, '쌍': 11271, '정직하다': 11272, '즈음': 11273, '안밖': 11274, '금새': 11275, '간전': 11276, '호환용': 11277, '초경': 11278, '무주': 11279, '재활용': 11280, '샤워실': 11281, '습기': 11282, '규칙': 11283, '수두': 11284, '룩': 11285, '김한솔': 11286, '마시기': 11287, '말걸': 11288, '전북대': 11289, '이주': 11290, '안떨어지다': 11291, '즉석식품': 11292, '이명학': 11293, '재시': 11294, '격조': 11295, '성수': 11296, 'ㄱㅊㄱㅊ': 11297, '날카롭다': 11298, '노비': 11299, '운송': 11300, '부득이': 11301, '그야': 11302, '알러지': 11303, '방생': 11304, '청거북': 11305, '줄기': 11306, '갉아먹다': 11307, '연잎': 11308, '계양산': 11309, '강규은꼬': 11310, '기비': 11311, '번정': 11312, '다분': 11313, '체고': 11314, '원희': 11315, '초콜렛': 11316, '영상의학': 11317, '카톨릭': 11318, '순천향': 11319, '어메이징': 11320, '주르륵': 11321, '말아먹다': 11322, '음중': 11323, '초등학셍': 11324, '실종': 11325, '생수': 11326, '나열하다': 11327, '요구사항': 11328, '낚아채다': 11329, '굴욕': 11330, '레시': 11331, '담화': 11332, '전염': 11333, '거땜': 11334, '독극물': 11335, '음지': 11336, '환풍기': 11337, '빈도': 11338, '아메': 11339, '싹퉁': 11340, '촉촉하다': 11341, '잘맞다': 11342, '공덕': 11343, '남산타워': 11344, '동묘': 11345, '식겁하다': 11346, '입밖': 11347, '완제': 11348, '뭉툭': 11349, '백숙': 11350, '유모차': 11351, '밀고': 11352, '똑': 11353, '수기': 11354, '기해': 11355, '흐엥': 11356, '콩': 11357, '두유': 11358, '웨하스': 11359, '지지마': 11360, '고려대': 11361, '장단점': 11362, '레트로': 11363, '두란노': 11364, '축복': 11365, '성명': 11366, '불상': 11367, '냉면집': 11368, '도제': 11369, '파쇄기': 11370, '어쩐': 11371, '아래쪽': 11372, '쇠': 11373, '목재': 11374, '야영장': 11375, '조온나': 11376, '스케일링': 11377, '동상': 11378, '일출': 11379, '거구': 11380, '뷔페': 11381, '비합리적': 11382, '도태': 11383, '성심껏': 11384, '공병': 11385, '뎅': 11386, '텅텅빔': 11387, '검증': 11388, '명찰': 11389, '시뻘겋다': 11390, '물집': 11391, '천마산': 11392, '더베트맨': 11393, '앞쪽': 11394, '저서': 11395, '퇴행': 11396, '욕함': 11397, '윤지': 11398, '소개팅': 11399, '술자리': 11400, '시바': 11401, '다는데': 11402, '덜컹': 11403, '멀미': 11404, '요양원': 11405, '바른': 11406, '부러지다': 11407, '대합실': 11408, '온갓': 11409, '수직': 11410, '템': 11411, '블러': 11412, '무리하다': 11413, '엘비스': 11414, '빠져나오다': 11415, '사리': 11416, '존맛탱': 11417, '밑반찬': 11418, '베트남': 11419, '새우다': 11420, '기태': 11421, '동천동': 11422, 'ㅇㅈㅇㅈ': 11423, '인생샷': 11424, '썩이다': 11425, '만연하다': 11426, '로이': 11427, '스텝': 11428, '리브': 11429, '유심': 11430, '어쩌란거': 11431, '무게': 11432, '전어': 11433, '감세': 11434, 'ㄱㄷㄱ': 11435, '컄': 11436, '퉤퉤': 11437, '퉤': 11438, '너므너므': 11439, '치르다': 11440, '물류': 11441, '부와': 11442, '창틀': 11443, '교통대': 11444, '교내': 11445, '자격증': 11446, '레일': 11447, '특': 11448, '작정': 11449, '주입': 11450, '혐오': 11451, '사나': 11452, '월곡동': 11453, '성모마리아': 11454, '링거': 11455, '또찍': 11456, '무관심': 11457, '중병': 11458, '도처': 11459, '가경': 11460, '모르거나': 11461, '꽂다': 11462, '밤길': 11463, '어후': 11464, '주차장건물': 11465, '진통': 11466, '소염제': 11467, '고령화': 11468, '밥니': 11469, '종아리': 11470, '튀다': 11471, '러스트': 11472, '페페로니': 11473, '콤비네이션': 11474, '처형': 11475, '케리': 11476, '하고의': 11477, '충돌': 11478, '뼈애': 11479, '깊스': 11480, '입회': 11481, '회의': 11482, '면책': 11483, '명물': 11484, '황해': 11485, '롱패딩': 11486, '하남': 11487, '이이이이': 11488, '노숙자': 11489, '소화전': 11490, '콤비': 11491, '밀치다': 11492, '장범준': 11493, '스벅생김': 11494, '바티망': 11495, '옆관': 11496, '라그': 11497, '더크': 11498, '눈똥그랗': 11499, '다그치다': 11500, '한다인': 11501, '내심': 11502, '만듬안갈': 11503, '노란색': 11504, '어떻든': 11505, '격감': 11506, '주변인': 11507, '갓집': 11508, '량': 11509, '홍원': 11510, '경청': 11511, '항공': 11512, '좀해': 11513, '합리화': 11514, '엄수': 11515, '관저': 11516, '이사해': 11517, '따라다니다': 11518, '탱크': 11519, '수인': 11520, '분당선': 11521, '야산': 11522, '깜깜': 11523, '곳년': 11524, '곡예': 11525, '애쓰다': 11526, '전해': 11527, '재원': 11528, '델': 11529, '덴데': 11530, '부스러기': 11531, '삥': 11532, '다뿔었': 11533, '갖가지': 11534, '소양댐': 11535, '구불구불하다': 11536, '부도심': 11537, '연말': 11538, '늦어지다': 11539, '처람': 11540, '저쩌고': 11541, '도매시장': 11542, '볼품': 11543, '홍익대학교': 11544, '랜드마크': 11545, '생생우동': 11546, '야무지다': 11547, '흑임자': 11548, '콜키': 11549, '팔도': 11550, '미주신경': 11551, '실신': 11552, '멍드심': 11553, '무관심하다': 11554, '빠꾸': 11555, '거위': 11556, '건승': 11557, '쫀득쫀득': 11558, '과즙': 11559, '참새': 11560, '방앗간': 11561, '수작': 11562, '기인': 11563, '지혜롭': 11564, '구청': 11565, '띠기': 11566, '노년': 11567, '쫄깃': 11568, '확실': 11569, '임박': 11570, '기금': 11571, '선류': 11572, '인스턴트': 11573, '가공': 11574, '요식업': 11575, '병맛': 11576, '마안': 11577, '부락': 11578, '찿': 11579, '태고': 11580, '취사': 11581, '코믹': 11582, '여태껏': 11583, '경찰대': 11584, '견찰들': 11585, '쫓아내다': 11586, '은행권': 11587, '에세': 11588, '햄셑트': 11589, '오구': 11590, '피나': 11591, '고냥이': 11592, '반기다': 11593, '시나몬': 11594, '무성의': 11595, '스무고개': 11596, '백양산': 11597, '천동': 11598, '내뱉다': 11599, '오타': 11600, '놀리다': 11601, '신묘하다': 11602, '억류': 11603, '도랏맨존맛탱아': 11604, '반함': 11605, 'ㅜㅜㅠ': 11606, '재개': 11607, '붓기': 11608, '깁스': 11609, '독일': 11610, '프라이부르크': 11611, '결연': 11612, '명명하다': 11613, '오래전': 11614, '왈를': 11615, '선천': 11616, '수목': 11617, '칡국': 11618, '봉산': 11619, '봉화산': 11620, '강촌역': 11621, '애플파이': 11622, '도생': 11623, '자잘하다': 11624, '폭행': 11625, '스템': 11626, '조르다': 11627, '재산가': 11628, '고영상': 11629, '증거': 11630, '연습실': 11631, '층간소음': 11632, '민감하다': 11633, '불평': 11634, '이루다': 11635}\n"
          ]
        }
      ]
    },
    {
      "cell_type": "code",
      "source": [
        "# 빈도 횟수가 1회 이하는 제거하기\n",
        "\n",
        "threshold = 2\n",
        "total_cnt = len(tokenizer.word_index) # 단어 수\n",
        "rare_cnt = 0 # 등장 빈도수가 threshold보다 작은 단어의 개수\n",
        "total_freq = 0 # 훈련 데이터의 전체 단어 빈도수 총 합\n",
        "rare_freq = 0 # 등장 빈도수가 threshold보다 작은 단어의 등장 빈도수의 총 합\n",
        "\n",
        "# 단어와 빈도수의 쌍(pair)을 key와 value로 받는다.\n",
        "for key, value in tokenizer.word_counts.items():\n",
        "    total_freq = total_freq + value\n",
        "\n",
        "    # 단어의 등장 빈도수가 threshold보다 작을 때\n",
        "    if(value < threshold):\n",
        "        rare_cnt = rare_cnt + 1\n",
        "        rare_freq = rare_freq + value\n",
        "\n",
        "print('단어 집합(vocabulary)의 크기 :',total_cnt)\n",
        "print('등장 빈도가 %s번 이하인 희귀 단어의 수: %s'%(threshold - 1, rare_cnt))\n",
        "print(\"단어 집합에서 희귀 단어의 비율:\", (rare_cnt / total_cnt)*100)\n",
        "print(\"전체 등장 빈도에서 희귀 단어 등장 빈도 비율:\", (rare_freq / total_freq)*100)"
      ],
      "metadata": {
        "colab": {
          "base_uri": "https://localhost:8080/"
        },
        "id": "qOJziEgH6z5u",
        "outputId": "304e989c-33bf-4e99-94db-1e6c80e94ab1"
      },
      "execution_count": null,
      "outputs": [
        {
          "output_type": "stream",
          "name": "stdout",
          "text": [
            "단어 집합(vocabulary)의 크기 : 11635\n",
            "등장 빈도가 1번 이하인 희귀 단어의 수: 5472\n",
            "단어 집합에서 희귀 단어의 비율: 47.030511388053284\n",
            "전체 등장 빈도에서 희귀 단어 등장 빈도 비율: 4.6241602230954495\n"
          ]
        }
      ]
    },
    {
      "cell_type": "code",
      "source": [
        "vocab_size = total_cnt - rare_cnt + 1\n",
        "print('단어 집합의 크기 :',vocab_size)"
      ],
      "metadata": {
        "colab": {
          "base_uri": "https://localhost:8080/"
        },
        "id": "TOX0chZpCPKT",
        "outputId": "a81bf0f2-eed5-4c6e-b182-0d1e045042f3"
      },
      "execution_count": null,
      "outputs": [
        {
          "output_type": "stream",
          "name": "stdout",
          "text": [
            "단어 집합의 크기 : 6164\n"
          ]
        }
      ]
    },
    {
      "cell_type": "code",
      "source": [
        "tokenizer = Tokenizer(vocab_size)\n",
        "tokenizer.fit_on_texts(X_train)\n",
        "X_train = tokenizer.texts_to_sequences(X_train)\n",
        "X_test = tokenizer.texts_to_sequences(X_test)\n",
        "print(X_train[:3])"
      ],
      "metadata": {
        "colab": {
          "base_uri": "https://localhost:8080/"
        },
        "id": "ybaS83M37dZ6",
        "outputId": "42987af0-e9ed-4d78-b128-2649b57c980e"
      },
      "execution_count": null,
      "outputs": [
        {
          "output_type": "stream",
          "name": "stdout",
          "text": [
            "[[2299, 198, 186, 31, 895, 3, 324, 51, 1, 2], [969, 152, 1736, 858, 2987, 145, 22, 86, 32, 8, 379], [2577, 1507, 2988, 19]]\n"
          ]
        }
      ]
    },
    {
      "cell_type": "code",
      "source": [
        "print(X_test[:3])"
      ],
      "metadata": {
        "colab": {
          "base_uri": "https://localhost:8080/"
        },
        "id": "D1iw6CcqwRF0",
        "outputId": "5e24ed1d-1861-4ad9-a357-eaf8de73df11"
      },
      "execution_count": null,
      "outputs": [
        {
          "output_type": "stream",
          "name": "stdout",
          "text": [
            "[[2013, 275, 1173, 2700, 239, 73, 275, 127, 184, 90, 101, 3233, 147, 667, 264, 2593, 131, 48, 337, 4, 843, 6], [86, 32, 8, 143, 248, 392, 171, 52, 22, 2, 355, 179, 417, 2534, 386, 202], [66, 265, 61, 209, 2605, 451, 76, 262, 30]]\n"
          ]
        }
      ]
    },
    {
      "cell_type": "code",
      "source": [
        "drop_train = [index for index, sentence in enumerate(train_data) if len(sentence) < 1]"
      ],
      "metadata": {
        "id": "G4Z_-SdG8nsg"
      },
      "execution_count": null,
      "outputs": []
    },
    {
      "cell_type": "code",
      "source": [
        "X_train = np.delete(X_train, drop_train, axis=0)\n",
        "y_train = np.delete(y_train, drop_train, axis=0)\n",
        "print(len(X_train))\n",
        "print(len(y_train))"
      ],
      "metadata": {
        "colab": {
          "base_uri": "https://localhost:8080/"
        },
        "id": "X3Cfukey9KAl",
        "outputId": "d96ffd08-f34c-4cbe-8a30-a844935064f5"
      },
      "execution_count": null,
      "outputs": [
        {
          "output_type": "stream",
          "name": "stdout",
          "text": [
            "5719\n",
            "5719\n"
          ]
        },
        {
          "output_type": "stream",
          "name": "stderr",
          "text": [
            "/usr/local/lib/python3.7/dist-packages/numpy/lib/function_base.py:4454: VisibleDeprecationWarning: Creating an ndarray from ragged nested sequences (which is a list-or-tuple of lists-or-tuples-or ndarrays with different lengths or shapes) is deprecated. If you meant to do this, you must specify 'dtype=object' when creating the ndarray.\n",
            "  arr = asarray(arr)\n"
          ]
        }
      ]
    },
    {
      "cell_type": "code",
      "source": [
        "print(len(X_test))\n",
        "print(len(y_test))"
      ],
      "metadata": {
        "colab": {
          "base_uri": "https://localhost:8080/"
        },
        "id": "p555pZ6DsHJA",
        "outputId": "bbd2eb60-6a83-46bb-f25d-871461b4403a"
      },
      "execution_count": null,
      "outputs": [
        {
          "output_type": "stream",
          "name": "stdout",
          "text": [
            "1430\n",
            "1430\n"
          ]
        }
      ]
    },
    {
      "cell_type": "code",
      "source": [
        "print('리뷰의 최대 길이 :',max(len(review) for review in X_train))\n",
        "print('리뷰의 평균 길이 :',sum(map(len, X_train))/len(X_train))\n",
        "plt.hist([len(review) for review in X_train], bins=50)\n",
        "plt.xlabel('length of samples')\n",
        "plt.ylabel('number of samples')\n",
        "plt.show()"
      ],
      "metadata": {
        "colab": {
          "base_uri": "https://localhost:8080/",
          "height": 313
        },
        "id": "k1GxxKDA9VXs",
        "outputId": "b1bea03e-5d03-4597-f7b1-7425e9349736"
      },
      "execution_count": null,
      "outputs": [
        {
          "output_type": "stream",
          "name": "stdout",
          "text": [
            "리뷰의 최대 길이 : 309\n",
            "리뷰의 평균 길이 : 19.734743836335024\n"
          ]
        },
        {
          "output_type": "display_data",
          "data": {
            "text/plain": [
              "<Figure size 432x288 with 1 Axes>"
            ],
            "image/png": "[encoded data removed]"
          },
          "metadata": {
            "needs_background": "light"
          }
        }
      ]
    },
    {
      "cell_type": "code",
      "source": [
        "def below_threshold_len(max_len, nested_list):\n",
        "  count = 0\n",
        "  for sentence in nested_list:\n",
        "    if(len(sentence) <= max_len):\n",
        "        count = count + 1\n",
        "  print('전체 샘플 중 길이가 %s 이하인 샘플의 비율: %s'%(max_len, (count / len(nested_list))*100))"
      ],
      "metadata": {
        "id": "F2f6knNa9wdg"
      },
      "execution_count": null,
      "outputs": []
    },
    {
      "cell_type": "code",
      "source": [
        "max_len = 50\n",
        "below_threshold_len(max_len, X_train)"
      ],
      "metadata": {
        "colab": {
          "base_uri": "https://localhost:8080/"
        },
        "id": "p4T4jL7M9yLZ",
        "outputId": "1dc18d64-1b1a-499e-9e86-05178c2c5e9e"
      },
      "execution_count": null,
      "outputs": [
        {
          "output_type": "stream",
          "name": "stdout",
          "text": [
            "전체 샘플 중 길이가 50 이하인 샘플의 비율: 91.95663577548522\n"
          ]
        }
      ]
    },
    {
      "cell_type": "code",
      "source": [
        "X_train = pad_sequences(X_train, maxlen=max_len)\n",
        "X_test = pad_sequences(X_test, maxlen=max_len)"
      ],
      "metadata": {
        "id": "4jJubwrR_sFH"
      },
      "execution_count": null,
      "outputs": []
    },
    {
      "cell_type": "code",
      "source": [
        "print(len(X_test))\n",
        "print(len(y_test))"
      ],
      "metadata": {
        "colab": {
          "base_uri": "https://localhost:8080/"
        },
        "id": "UEuThNbMwfwd",
        "outputId": "8966796f-e779-4991-f465-919c29fd32e6"
      },
      "execution_count": null,
      "outputs": [
        {
          "output_type": "stream",
          "name": "stdout",
          "text": [
            "1430\n",
            "1430\n"
          ]
        }
      ]
    },
    {
      "cell_type": "code",
      "source": [
        "from tensorflow.keras.layers import Embedding, Dense, LSTM\n",
        "from tensorflow.keras.models import Sequential\n",
        "from tensorflow.keras.models import load_model\n",
        "from tensorflow.keras.callbacks import EarlyStopping, ModelCheckpoint\n",
        "\n",
        "embedding_dim = 100\n",
        "hidden_units = 128\n",
        "\n",
        "model = Sequential()\n",
        "model.add(Embedding(vocab_size, embedding_dim))\n",
        "model.add(LSTM(hidden_units))\n",
        "model.add(Dense(1, activation='sigmoid'))\n",
        "\n",
        "es = EarlyStopping(monitor='val_loss', mode='min', verbose=1, patience=4)\n",
        "mc = ModelCheckpoint('hyol_model9.h5', monitor='val_acc', mode='max', verbose=1, save_best_only=True)\n",
        "\n",
        "model.compile(optimizer='rmsprop', loss='binary_crossentropy', metrics=['binary_accuracy'])\n",
        "history = model.fit(X_train, y_train, epochs=15, callbacks=[es, mc], batch_size=64, validation_split=0.2)"
      ],
      "metadata": {
        "colab": {
          "base_uri": "https://localhost:8080/"
        },
        "id": "-EIOhnCnB6f7",
        "outputId": "9a699c50-661b-4b5b-d51d-9ecf6671c3e8"
      },
      "execution_count": null,
      "outputs": [
        {
          "output_type": "stream",
          "name": "stdout",
          "text": [
            "Epoch 1/15\n",
            "69/72 [===========================>..] - ETA: 0s - loss: 0.5989 - binary_accuracy: 0.7140"
          ]
        },
        {
          "output_type": "stream",
          "name": "stderr",
          "text": [
            "WARNING:tensorflow:Can save best model only with val_acc available, skipping.\n"
          ]
        },
        {
          "output_type": "stream",
          "name": "stdout",
          "text": [
            "\b\b\b\b\b\b\b\b\b\b\b\b\b\b\b\b\b\b\b\b\b\b\b\b\b\b\b\b\b\b\b\b\b\b\b\b\b\b\b\b\b\b\b\b\b\b\b\b\b\b\b\b\b\b\b\b\b\b\b\b\b\b\b\b\b\b\b\b\b\b\b\b\b\b\b\b\b\b\b\b\b\b\b\b\b\b\b\b\b\r72/72 [==============================] - 10s 20ms/step - loss: 0.5976 - binary_accuracy: 0.7148 - val_loss: 0.4821 - val_binary_accuracy: 0.8042\n",
            "Epoch 2/15\n",
            "69/72 [===========================>..] - ETA: 0s - loss: 0.4102 - binary_accuracy: 0.8247"
          ]
        },
        {
          "output_type": "stream",
          "name": "stderr",
          "text": [
            "WARNING:tensorflow:Can save best model only with val_acc available, skipping.\n"
          ]
        },
        {
          "output_type": "stream",
          "name": "stdout",
          "text": [
            "\b\b\b\b\b\b\b\b\b\b\b\b\b\b\b\b\b\b\b\b\b\b\b\b\b\b\b\b\b\b\b\b\b\b\b\b\b\b\b\b\b\b\b\b\b\b\b\b\b\b\b\b\b\b\b\b\b\b\b\b\b\b\b\b\b\b\b\b\b\b\b\b\b\b\b\b\b\b\b\b\b\b\b\b\b\b\b\b\b\r72/72 [==============================] - 1s 9ms/step - loss: 0.4114 - binary_accuracy: 0.8221 - val_loss: 0.4579 - val_binary_accuracy: 0.7998\n",
            "Epoch 3/15\n",
            "70/72 [============================>.] - ETA: 0s - loss: 0.3345 - binary_accuracy: 0.8679"
          ]
        },
        {
          "output_type": "stream",
          "name": "stderr",
          "text": [
            "WARNING:tensorflow:Can save best model only with val_acc available, skipping.\n"
          ]
        },
        {
          "output_type": "stream",
          "name": "stdout",
          "text": [
            "\b\b\b\b\b\b\b\b\b\b\b\b\b\b\b\b\b\b\b\b\b\b\b\b\b\b\b\b\b\b\b\b\b\b\b\b\b\b\b\b\b\b\b\b\b\b\b\b\b\b\b\b\b\b\b\b\b\b\b\b\b\b\b\b\b\b\b\b\b\b\b\b\b\b\b\b\b\b\b\b\b\b\b\b\b\b\b\b\b\r72/72 [==============================] - 1s 10ms/step - loss: 0.3353 - binary_accuracy: 0.8673 - val_loss: 0.4900 - val_binary_accuracy: 0.7972\n",
            "Epoch 4/15\n",
            "70/72 [============================>.] - ETA: 0s - loss: 0.2840 - binary_accuracy: 0.8879"
          ]
        },
        {
          "output_type": "stream",
          "name": "stderr",
          "text": [
            "WARNING:tensorflow:Can save best model only with val_acc available, skipping.\n"
          ]
        },
        {
          "output_type": "stream",
          "name": "stdout",
          "text": [
            "\b\b\b\b\b\b\b\b\b\b\b\b\b\b\b\b\b\b\b\b\b\b\b\b\b\b\b\b\b\b\b\b\b\b\b\b\b\b\b\b\b\b\b\b\b\b\b\b\b\b\b\b\b\b\b\b\b\b\b\b\b\b\b\b\b\b\b\b\b\b\b\b\b\b\b\b\b\b\b\b\b\b\b\b\b\b\b\b\b\r72/72 [==============================] - 1s 9ms/step - loss: 0.2845 - binary_accuracy: 0.8872 - val_loss: 0.5210 - val_binary_accuracy: 0.7867\n",
            "Epoch 5/15\n",
            "69/72 [===========================>..] - ETA: 0s - loss: 0.2457 - binary_accuracy: 0.9010"
          ]
        },
        {
          "output_type": "stream",
          "name": "stderr",
          "text": [
            "WARNING:tensorflow:Can save best model only with val_acc available, skipping.\n"
          ]
        },
        {
          "output_type": "stream",
          "name": "stdout",
          "text": [
            "\b\b\b\b\b\b\b\b\b\b\b\b\b\b\b\b\b\b\b\b\b\b\b\b\b\b\b\b\b\b\b\b\b\b\b\b\b\b\b\b\b\b\b\b\b\b\b\b\b\b\b\b\b\b\b\b\b\b\b\b\b\b\b\b\b\b\b\b\b\b\b\b\b\b\b\b\b\b\b\b\b\b\b\b\b\b\b\b\b\r72/72 [==============================] - 1s 9ms/step - loss: 0.2475 - binary_accuracy: 0.9010 - val_loss: 0.5430 - val_binary_accuracy: 0.7955\n",
            "Epoch 6/15\n",
            "71/72 [============================>.] - ETA: 0s - loss: 0.2158 - binary_accuracy: 0.9173"
          ]
        },
        {
          "output_type": "stream",
          "name": "stderr",
          "text": [
            "WARNING:tensorflow:Can save best model only with val_acc available, skipping.\n"
          ]
        },
        {
          "output_type": "stream",
          "name": "stdout",
          "text": [
            "\b\b\b\b\b\b\b\b\b\b\b\b\b\b\b\b\b\b\b\b\b\b\b\b\b\b\b\b\b\b\b\b\b\b\b\b\b\b\b\b\b\b\b\b\b\b\b\b\b\b\b\b\b\b\b\b\b\b\b\b\b\b\b\b\b\b\b\b\b\b\b\b\b\b\b\b\b\b\b\b\b\b\b\b\b\b\b\b\b\r72/72 [==============================] - 1s 9ms/step - loss: 0.2158 - binary_accuracy: 0.9174 - val_loss: 0.5709 - val_binary_accuracy: 0.7885\n",
            "Epoch 6: early stopping\n"
          ]
        }
      ]
    },
    {
      "cell_type": "code",
      "source": [
        "print(model.layers[0].get_weights()[0])"
      ],
      "metadata": {
        "colab": {
          "base_uri": "https://localhost:8080/"
        },
        "id": "mEJqKjE1l5UN",
        "outputId": "3cc9a7f4-1eee-4f36-ef83-0cc93f359d2a"
      },
      "execution_count": null,
      "outputs": [
        {
          "output_type": "stream",
          "name": "stdout",
          "text": [
            "[[ 0.00233415 -0.01878437 -0.03021345 ...  0.05869    -0.02955328\n",
            "   0.00088074]\n",
            " [ 0.00401106  0.02676569  0.00324941 ... -0.0335274  -0.02646459\n",
            "  -0.03101581]\n",
            " [-0.06491572  0.06320453  0.02902204 ... -0.06633429 -0.0551218\n",
            "  -0.055652  ]\n",
            " ...\n",
            " [ 0.03013204  0.03862696  0.03221453 ...  0.00137986 -0.00316714\n",
            "  -0.00389402]\n",
            " [-0.00916102  0.00987444 -0.02645557 ...  0.03388994 -0.02613549\n",
            "   0.03965287]\n",
            " [ 0.00419389 -0.04987378  0.00659305 ...  0.01387069  0.00497102\n",
            "   0.02707377]]\n"
          ]
        }
      ]
    },
    {
      "cell_type": "code",
      "source": [
        "#model.save('review_model')\n",
        "model.save('review_model.h5')"
      ],
      "metadata": {
        "id": "BY-_PTyIsXpw"
      },
      "execution_count": null,
      "outputs": []
    },
    {
      "cell_type": "code",
      "source": [
        "#loaded_model = load_model('review_model')\n",
        "loaded_model = load_model('review_model.h5')\n",
        "\n",
        "print(\"\\n 테스트 정확도: %.4f\" % (loaded_model.evaluate(X_test, y_test)[1]))"
      ],
      "metadata": {
        "id": "pTFgRN2YE4lt",
        "colab": {
          "base_uri": "https://localhost:8080/"
        },
        "outputId": "b83edd22-03e6-4630-f37e-8a22740bf630"
      },
      "execution_count": null,
      "outputs": [
        {
          "output_type": "stream",
          "name": "stdout",
          "text": [
            "45/45 [==============================] - 1s 4ms/step - loss: 0.5178 - binary_accuracy: 0.7790\n",
            "\n",
            " 테스트 정확도: 0.7790\n"
          ]
        }
      ]
    },
    {
      "cell_type": "code",
      "source": [
        "import pickle\n",
        "with open('tokenizer.pickle','wb') as handle:\n",
        "  pickle.dump(tokenizer, handle)"
      ],
      "metadata": {
        "id": "Q2Zq2Eom7qPk"
      },
      "execution_count": null,
      "outputs": []
    },
    {
      "cell_type": "markdown",
      "source": [
        "# **테스트 하기**\n",
        "런타임 다시시작후 실행"
      ],
      "metadata": {
        "id": "GrtPQdr0_Np3"
      }
    },
    {
      "cell_type": "code",
      "source": [
        "!pip install konlpy"
      ],
      "metadata": {
        "colab": {
          "base_uri": "https://localhost:8080/"
        },
        "id": "WhCgnrZvXql6",
        "outputId": "5f6c2ee6-7b2f-4e39-a6d5-44a55930559f"
      },
      "execution_count": null,
      "outputs": [
        {
          "output_type": "stream",
          "name": "stdout",
          "text": [
            "Looking in indexes: https://pypi.org/simple, https://us-python.pkg.dev/colab-wheels/public/simple/\n",
            "Collecting konlpy\n",
            "  Downloading konlpy-0.6.0-py2.py3-none-any.whl (19.4 MB)\n",
            "\u001b[K     |████████████████████████████████| 19.4 MB 646 kB/s \n",
            "\u001b[?25hRequirement already satisfied: numpy>=1.6 in /usr/local/lib/python3.7/dist-packages (from konlpy) (1.21.6)\n",
            "Collecting JPype1>=0.7.0\n",
            "  Downloading JPype1-1.4.1-cp37-cp37m-manylinux_2_12_x86_64.manylinux2010_x86_64.whl (465 kB)\n",
            "\u001b[K     |████████████████████████████████| 465 kB 65.3 MB/s \n",
            "\u001b[?25hRequirement already satisfied: lxml>=4.1.0 in /usr/local/lib/python3.7/dist-packages (from konlpy) (4.9.1)\n",
            "Requirement already satisfied: packaging in /usr/local/lib/python3.7/dist-packages (from JPype1>=0.7.0->konlpy) (21.3)\n",
            "Requirement already satisfied: typing-extensions in /usr/local/lib/python3.7/dist-packages (from JPype1>=0.7.0->konlpy) (4.1.1)\n",
            "Requirement already satisfied: pyparsing!=3.0.5,>=2.0.2 in /usr/local/lib/python3.7/dist-packages (from packaging->JPype1>=0.7.0->konlpy) (3.0.9)\n",
            "Installing collected packages: JPype1, konlpy\n",
            "Successfully installed JPype1-1.4.1 konlpy-0.6.0\n"
          ]
        }
      ]
    },
    {
      "cell_type": "code",
      "source": [
        "import pickle\n",
        "from konlpy.tag import Okt\n",
        "from tensorflow.keras.preprocessing.text import Tokenizer\n",
        "import re\n",
        "from tensorflow.keras.preprocessing.sequence import pad_sequences\n",
        "from tensorflow.keras.models import load_model"
      ],
      "metadata": {
        "id": "6WLwo2sAXS6x"
      },
      "execution_count": null,
      "outputs": []
    },
    {
      "cell_type": "code",
      "source": [
        "filepath = '~/content/hyol_model3.h5'"
      ],
      "metadata": {
        "id": "StuPIp1aMzC8"
      },
      "execution_count": null,
      "outputs": []
    },
    {
      "cell_type": "code",
      "source": [
        "#loaded_model = load_model('review_model')\n",
        "loaded_model = load_model(filepath)"
      ],
      "metadata": {
        "id": "cQQqv046Wy7o",
        "colab": {
          "base_uri": "https://localhost:8080/",
          "height": 345
        },
        "outputId": "eea22ca0-1fef-4e71-90e6-0bff85421e90"
      },
      "execution_count": null,
      "outputs": [
        {
          "output_type": "error",
          "ename": "OSError",
          "evalue": "ignored",
          "traceback": [
            "\u001b[0;31m---------------------------------------------------------------------------\u001b[0m",
            "\u001b[0;31mOSError\u001b[0m                                   Traceback (most recent call last)",
            "\u001b[0;32m<ipython-input-18-ef4aa6bb375f>\u001b[0m in \u001b[0;36m<module>\u001b[0;34m\u001b[0m\n\u001b[1;32m      1\u001b[0m \u001b[0;31m#loaded_model = load_model('review_model')\u001b[0m\u001b[0;34m\u001b[0m\u001b[0;34m\u001b[0m\u001b[0;34m\u001b[0m\u001b[0m\n\u001b[0;32m----> 2\u001b[0;31m \u001b[0mloaded_model\u001b[0m \u001b[0;34m=\u001b[0m \u001b[0mload_model\u001b[0m\u001b[0;34m(\u001b[0m\u001b[0mfilepath\u001b[0m\u001b[0;34m)\u001b[0m\u001b[0;34m\u001b[0m\u001b[0;34m\u001b[0m\u001b[0m\n\u001b[0m",
            "\u001b[0;32m/usr/local/lib/python3.7/dist-packages/keras/utils/traceback_utils.py\u001b[0m in \u001b[0;36merror_handler\u001b[0;34m(*args, **kwargs)\u001b[0m\n\u001b[1;32m     65\u001b[0m     \u001b[0;32mexcept\u001b[0m \u001b[0mException\u001b[0m \u001b[0;32mas\u001b[0m \u001b[0me\u001b[0m\u001b[0;34m:\u001b[0m  \u001b[0;31m# pylint: disable=broad-except\u001b[0m\u001b[0;34m\u001b[0m\u001b[0;34m\u001b[0m\u001b[0m\n\u001b[1;32m     66\u001b[0m       \u001b[0mfiltered_tb\u001b[0m \u001b[0;34m=\u001b[0m \u001b[0m_process_traceback_frames\u001b[0m\u001b[0;34m(\u001b[0m\u001b[0me\u001b[0m\u001b[0;34m.\u001b[0m\u001b[0m__traceback__\u001b[0m\u001b[0;34m)\u001b[0m\u001b[0;34m\u001b[0m\u001b[0;34m\u001b[0m\u001b[0m\n\u001b[0;32m---> 67\u001b[0;31m       \u001b[0;32mraise\u001b[0m \u001b[0me\u001b[0m\u001b[0;34m.\u001b[0m\u001b[0mwith_traceback\u001b[0m\u001b[0;34m(\u001b[0m\u001b[0mfiltered_tb\u001b[0m\u001b[0;34m)\u001b[0m \u001b[0;32mfrom\u001b[0m \u001b[0;32mNone\u001b[0m\u001b[0;34m\u001b[0m\u001b[0;34m\u001b[0m\u001b[0m\n\u001b[0m\u001b[1;32m     68\u001b[0m     \u001b[0;32mfinally\u001b[0m\u001b[0;34m:\u001b[0m\u001b[0;34m\u001b[0m\u001b[0;34m\u001b[0m\u001b[0m\n\u001b[1;32m     69\u001b[0m       \u001b[0;32mdel\u001b[0m \u001b[0mfiltered_tb\u001b[0m\u001b[0;34m\u001b[0m\u001b[0;34m\u001b[0m\u001b[0m\n",
            "\u001b[0;32m/usr/local/lib/python3.7/dist-packages/keras/saving/save.py\u001b[0m in \u001b[0;36mload_model\u001b[0;34m(filepath, custom_objects, compile, options)\u001b[0m\n\u001b[1;32m    204\u001b[0m         \u001b[0;32mif\u001b[0m \u001b[0misinstance\u001b[0m\u001b[0;34m(\u001b[0m\u001b[0mfilepath_str\u001b[0m\u001b[0;34m,\u001b[0m \u001b[0mstr\u001b[0m\u001b[0;34m)\u001b[0m\u001b[0;34m:\u001b[0m\u001b[0;34m\u001b[0m\u001b[0;34m\u001b[0m\u001b[0m\n\u001b[1;32m    205\u001b[0m           \u001b[0;32mif\u001b[0m \u001b[0;32mnot\u001b[0m \u001b[0mtf\u001b[0m\u001b[0;34m.\u001b[0m\u001b[0mio\u001b[0m\u001b[0;34m.\u001b[0m\u001b[0mgfile\u001b[0m\u001b[0;34m.\u001b[0m\u001b[0mexists\u001b[0m\u001b[0;34m(\u001b[0m\u001b[0mfilepath_str\u001b[0m\u001b[0;34m)\u001b[0m\u001b[0;34m:\u001b[0m\u001b[0;34m\u001b[0m\u001b[0;34m\u001b[0m\u001b[0m\n\u001b[0;32m--> 206\u001b[0;31m             \u001b[0;32mraise\u001b[0m \u001b[0mIOError\u001b[0m\u001b[0;34m(\u001b[0m\u001b[0;34mf'No file or directory found at {filepath_str}'\u001b[0m\u001b[0;34m)\u001b[0m\u001b[0;34m\u001b[0m\u001b[0;34m\u001b[0m\u001b[0m\n\u001b[0m\u001b[1;32m    207\u001b[0m \u001b[0;34m\u001b[0m\u001b[0m\n\u001b[1;32m    208\u001b[0m           \u001b[0;32mif\u001b[0m \u001b[0mtf\u001b[0m\u001b[0;34m.\u001b[0m\u001b[0mio\u001b[0m\u001b[0;34m.\u001b[0m\u001b[0mgfile\u001b[0m\u001b[0;34m.\u001b[0m\u001b[0misdir\u001b[0m\u001b[0;34m(\u001b[0m\u001b[0mfilepath_str\u001b[0m\u001b[0;34m)\u001b[0m\u001b[0;34m:\u001b[0m\u001b[0;34m\u001b[0m\u001b[0;34m\u001b[0m\u001b[0m\n",
            "\u001b[0;31mOSError\u001b[0m: No file or directory found at ~/content/hyol_model3.h5"
          ]
        }
      ]
    },
    {
      "cell_type": "code",
      "source": [
        "print(loaded_model.layers[0].get_weights()[0])"
      ],
      "metadata": {
        "colab": {
          "base_uri": "https://localhost:8080/"
        },
        "id": "WnnV2LU6XAiw",
        "outputId": "a30b581b-975c-48cc-8643-c2a5f8b9985d"
      },
      "execution_count": null,
      "outputs": [
        {
          "output_type": "stream",
          "name": "stdout",
          "text": [
            "[[ 0.00233415 -0.01878437 -0.03021345 ...  0.05869    -0.02955328\n",
            "   0.00088074]\n",
            " [ 0.00401106  0.02676569  0.00324941 ... -0.0335274  -0.02646459\n",
            "  -0.03101581]\n",
            " [-0.06491572  0.06320453  0.02902204 ... -0.06633429 -0.0551218\n",
            "  -0.055652  ]\n",
            " ...\n",
            " [ 0.03013204  0.03862696  0.03221453 ...  0.00137986 -0.00316714\n",
            "  -0.00389402]\n",
            " [-0.00916102  0.00987444 -0.02645557 ...  0.03388994 -0.02613549\n",
            "   0.03965287]\n",
            " [ 0.00419389 -0.04987378  0.00659305 ...  0.01387069  0.00497102\n",
            "   0.02707377]]\n"
          ]
        }
      ]
    },
    {
      "cell_type": "code",
      "source": [
        "okt = Okt()\n",
        "stopwords = ['의', '가', '이', '은', '들', '는', '좀', '잘', '걍', '과', '도', '를', '으로', '자', '에', '와', '한', '하다','로','것','고','원']\n",
        "max_len = 50"
      ],
      "metadata": {
        "id": "j2C_sgEyonjO"
      },
      "execution_count": null,
      "outputs": []
    },
    {
      "cell_type": "code",
      "source": [
        "with open('tokenizer.pickle','rb') as handle:\n",
        "  tokenizer = pickle.load(handle)"
      ],
      "metadata": {
        "id": "eZ6NnLFS8M7F"
      },
      "execution_count": null,
      "outputs": []
    },
    {
      "cell_type": "code",
      "source": [
        "def sentiment_predict(new_sentence):\n",
        "  new_sentence = re.sub(r'[^ㄱ-ㅎㅏ-ㅣ가-힣 ]','', new_sentence)\n",
        "  print(new_sentence)\n",
        "  new_sentence = okt.morphs(new_sentence, stem=True)\n",
        "  print(new_sentence)\n",
        "  new_sentence = [word for word in new_sentence if not word in stopwords]\n",
        "  print(new_sentence)\n",
        "  encoded = tokenizer.texts_to_sequences([new_sentence])\n",
        "  print(encoded)\n",
        "  pad_new = pad_sequences(encoded, maxlen = max_len)\n",
        "  print(pad_new)\n",
        "  score = float(loaded_model.predict(pad_new))\n",
        "  print(score)\n",
        "  if(score >= 0.8):\n",
        "    print(\"{:.2f}% 확률로 5점 리뷰입니다.\\n\".format(score * 100))\n",
        "  elif (0.8 >score > 0.6):\n",
        "    print(\"{:.2f}% 확률로 4점 리뷰입니다.\\n\".format(score * 100))\n",
        "  elif (0.6 >score > 0.4):\n",
        "    print(\"{:.2f}% 확률로 3점 리뷰입니다.\\n\".format((1 - score) * 100))\n",
        "  elif (0.4 >score > 0.2):\n",
        "    print(\"{:.2f}% 확률로 2점 리뷰입니다.\\n\".format((1 - score) * 100))\n",
        "  else :\n",
        "    print(\"{:.2f}% 확률로 1점 리뷰입니다.\\n\".format((1 - score) * 100))"
      ],
      "metadata": {
        "id": "9VWWSe2Ken5Q"
      },
      "execution_count": null,
      "outputs": []
    },
    {
      "cell_type": "code",
      "source": [
        "sentiment_predict('더럽고 최악. 불편함. 그리고 직원들 싸가지없음.')"
      ],
      "metadata": {
        "colab": {
          "base_uri": "https://localhost:8080/"
        },
        "id": "lTLHzcVfh5du",
        "outputId": "f3439384-7797-4479-9d8d-abab3dfd3383"
      },
      "execution_count": null,
      "outputs": [
        {
          "output_type": "stream",
          "name": "stdout",
          "text": [
            "더럽고 최악 불편함 그리고 직원들 싸가지없음\n",
            "['더럽다', '최악', '불편하다', '그리고', '직원', '들', '싸가지', '없다']\n",
            "['더럽다', '최악', '불편하다', '그리고', '직원', '싸가지', '없다']\n",
            "[[417, 120, 199, 107, 12, 337, 4]]\n",
            "[[  0   0   0   0   0   0   0   0   0   0   0   0   0   0   0   0   0   0\n",
            "    0   0   0   0   0   0   0   0   0   0   0   0   0   0   0   0   0   0\n",
            "    0   0   0   0   0   0   0 417 120 199 107  12 337   4]]\n",
            "1/1 [==============================] - 2s 2s/step\n",
            "0.0020884580444544554\n",
            "99.79% 확률로 1점 리뷰입니다.\n",
            "\n"
          ]
        }
      ]
    }
  ]
}